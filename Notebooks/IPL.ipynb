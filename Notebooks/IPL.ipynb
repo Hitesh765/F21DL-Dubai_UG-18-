{
  "nbformat": 4,
  "nbformat_minor": 0,
  "metadata": {
    "colab": {
      "provenance": []
    },
    "kernelspec": {
      "name": "python3",
      "display_name": "Python 3"
    },
    "language_info": {
      "name": "python"
    }
  },
  "cells": [
    {
      "cell_type": "markdown",
      "source": [
        "## **Week 3-5: Data Analysis, Preprocessing and Exploration**\n",
        "- Load the dataset to inspect its structure and contents.\n",
        "- Analyze the columns to determine their relevance to the task.\n",
        "- Identify and handle any missing or inconsistent data.\n",
        "- Clean the data by removing null or duplicate entries.\n"
      ],
      "metadata": {
        "id": "QqIBriK5fPNG"
      }
    },
    {
      "cell_type": "code",
      "execution_count": 2,
      "metadata": {
        "id": "xG7Z0M21-yqY"
      },
      "outputs": [],
      "source": [
        "import pandas as pd\n",
        "import numpy as np\n",
        "import matplotlib.pyplot as plt\n",
        "import seaborn as sns\n",
        "import plotly.express as px\n",
        "from sklearn.preprocessing import OrdinalEncoder\n",
        "from sklearn.cluster import KMeans\n",
        "from sklearn.preprocessing import StandardScaler\n",
        "from sklearn.model_selection import train_test_split\n",
        "from sklearn.tree import DecisionTreeClassifier\n",
        "from sklearn.metrics import accuracy_score\n",
        "from sklearn.preprocessing import OrdinalEncoder\n",
        "from sklearn.metrics import precision_score, recall_score, f1_score, confusion_matrix\n",
        "from sklearn.naive_bayes import GaussianNB\n",
        "from sklearn.metrics import accuracy_score, classification_report\n",
        "from sklearn.metrics import ConfusionMatrixDisplay\n",
        "from sklearn.ensemble import RandomForestClassifier\n",
        "from sklearn.neighbors import KNeighborsClassifier\n",
        "from sklearn.svm import SVC\n",
        "from sklearn.model_selection import GridSearchCV\n",
        "from sklearn.neural_network import MLPClassifier\n",
        "from sklearn.metrics import silhouette_score\n"
      ]
    },
    {
      "cell_type": "code",
      "source": [
        "!kaggle datasets download -d patrickb1912/ipl-complete-dataset-20082020\n",
        "!unzip ipl-complete-dataset-20082020.zip"
      ],
      "metadata": {
        "colab": {
          "base_uri": "https://localhost:8080/"
        },
        "id": "-rJ_bAWiAUS6",
        "outputId": "74b4b846-3777-498b-96c4-f09290fb4021"
      },
      "execution_count": 3,
      "outputs": [
        {
          "output_type": "stream",
          "name": "stdout",
          "text": [
            "Dataset URL: https://www.kaggle.com/datasets/patrickb1912/ipl-complete-dataset-20082020\n",
            "License(s): DbCL-1.0\n",
            "Downloading ipl-complete-dataset-20082020.zip to /content\n",
            "  0% 0.00/1.82M [00:00<?, ?B/s]\n",
            "100% 1.82M/1.82M [00:00<00:00, 52.1MB/s]\n",
            "Archive:  ipl-complete-dataset-20082020.zip\n",
            "  inflating: deliveries.csv          \n",
            "  inflating: matches.csv             \n"
          ]
        }
      ]
    },
    {
      "cell_type": "code",
      "source": [
        "matches = pd.read_csv('matches.csv')"
      ],
      "metadata": {
        "id": "Q9ORyRBlAbPH"
      },
      "execution_count": 4,
      "outputs": []
    },
    {
      "cell_type": "code",
      "source": [
        "matches.head()"
      ],
      "metadata": {
        "colab": {
          "base_uri": "https://localhost:8080/",
          "height": 417
        },
        "id": "vnX2bwi4AfDe",
        "outputId": "cc39ff78-b553-4de3-bb89-469f8dcbf750"
      },
      "execution_count": 5,
      "outputs": [
        {
          "output_type": "execute_result",
          "data": {
            "text/plain": [
              "       id   season        city        date match_type player_of_match  \\\n",
              "0  335982  2007/08   Bangalore  2008-04-18     League     BB McCullum   \n",
              "1  335983  2007/08  Chandigarh  2008-04-19     League      MEK Hussey   \n",
              "2  335984  2007/08       Delhi  2008-04-19     League     MF Maharoof   \n",
              "3  335985  2007/08      Mumbai  2008-04-20     League      MV Boucher   \n",
              "4  335986  2007/08     Kolkata  2008-04-20     League       DJ Hussey   \n",
              "\n",
              "                                        venue                        team1  \\\n",
              "0                       M Chinnaswamy Stadium  Royal Challengers Bangalore   \n",
              "1  Punjab Cricket Association Stadium, Mohali              Kings XI Punjab   \n",
              "2                            Feroz Shah Kotla             Delhi Daredevils   \n",
              "3                            Wankhede Stadium               Mumbai Indians   \n",
              "4                                Eden Gardens        Kolkata Knight Riders   \n",
              "\n",
              "                         team2                  toss_winner toss_decision  \\\n",
              "0        Kolkata Knight Riders  Royal Challengers Bangalore         field   \n",
              "1          Chennai Super Kings          Chennai Super Kings           bat   \n",
              "2             Rajasthan Royals             Rajasthan Royals           bat   \n",
              "3  Royal Challengers Bangalore               Mumbai Indians           bat   \n",
              "4              Deccan Chargers              Deccan Chargers           bat   \n",
              "\n",
              "                        winner   result  result_margin  target_runs  \\\n",
              "0        Kolkata Knight Riders     runs          140.0        223.0   \n",
              "1          Chennai Super Kings     runs           33.0        241.0   \n",
              "2             Delhi Daredevils  wickets            9.0        130.0   \n",
              "3  Royal Challengers Bangalore  wickets            5.0        166.0   \n",
              "4        Kolkata Knight Riders  wickets            5.0        111.0   \n",
              "\n",
              "   target_overs super_over method    umpire1         umpire2  \n",
              "0          20.0          N    NaN  Asad Rauf     RE Koertzen  \n",
              "1          20.0          N    NaN  MR Benson      SL Shastri  \n",
              "2          20.0          N    NaN  Aleem Dar  GA Pratapkumar  \n",
              "3          20.0          N    NaN   SJ Davis       DJ Harper  \n",
              "4          20.0          N    NaN  BF Bowden     K Hariharan  "
            ],
            "text/html": [
              "\n",
              "  <div id=\"df-a3247463-af7a-4ad0-a910-896866f206a5\" class=\"colab-df-container\">\n",
              "    <div>\n",
              "<style scoped>\n",
              "    .dataframe tbody tr th:only-of-type {\n",
              "        vertical-align: middle;\n",
              "    }\n",
              "\n",
              "    .dataframe tbody tr th {\n",
              "        vertical-align: top;\n",
              "    }\n",
              "\n",
              "    .dataframe thead th {\n",
              "        text-align: right;\n",
              "    }\n",
              "</style>\n",
              "<table border=\"1\" class=\"dataframe\">\n",
              "  <thead>\n",
              "    <tr style=\"text-align: right;\">\n",
              "      <th></th>\n",
              "      <th>id</th>\n",
              "      <th>season</th>\n",
              "      <th>city</th>\n",
              "      <th>date</th>\n",
              "      <th>match_type</th>\n",
              "      <th>player_of_match</th>\n",
              "      <th>venue</th>\n",
              "      <th>team1</th>\n",
              "      <th>team2</th>\n",
              "      <th>toss_winner</th>\n",
              "      <th>toss_decision</th>\n",
              "      <th>winner</th>\n",
              "      <th>result</th>\n",
              "      <th>result_margin</th>\n",
              "      <th>target_runs</th>\n",
              "      <th>target_overs</th>\n",
              "      <th>super_over</th>\n",
              "      <th>method</th>\n",
              "      <th>umpire1</th>\n",
              "      <th>umpire2</th>\n",
              "    </tr>\n",
              "  </thead>\n",
              "  <tbody>\n",
              "    <tr>\n",
              "      <th>0</th>\n",
              "      <td>335982</td>\n",
              "      <td>2007/08</td>\n",
              "      <td>Bangalore</td>\n",
              "      <td>2008-04-18</td>\n",
              "      <td>League</td>\n",
              "      <td>BB McCullum</td>\n",
              "      <td>M Chinnaswamy Stadium</td>\n",
              "      <td>Royal Challengers Bangalore</td>\n",
              "      <td>Kolkata Knight Riders</td>\n",
              "      <td>Royal Challengers Bangalore</td>\n",
              "      <td>field</td>\n",
              "      <td>Kolkata Knight Riders</td>\n",
              "      <td>runs</td>\n",
              "      <td>140.0</td>\n",
              "      <td>223.0</td>\n",
              "      <td>20.0</td>\n",
              "      <td>N</td>\n",
              "      <td>NaN</td>\n",
              "      <td>Asad Rauf</td>\n",
              "      <td>RE Koertzen</td>\n",
              "    </tr>\n",
              "    <tr>\n",
              "      <th>1</th>\n",
              "      <td>335983</td>\n",
              "      <td>2007/08</td>\n",
              "      <td>Chandigarh</td>\n",
              "      <td>2008-04-19</td>\n",
              "      <td>League</td>\n",
              "      <td>MEK Hussey</td>\n",
              "      <td>Punjab Cricket Association Stadium, Mohali</td>\n",
              "      <td>Kings XI Punjab</td>\n",
              "      <td>Chennai Super Kings</td>\n",
              "      <td>Chennai Super Kings</td>\n",
              "      <td>bat</td>\n",
              "      <td>Chennai Super Kings</td>\n",
              "      <td>runs</td>\n",
              "      <td>33.0</td>\n",
              "      <td>241.0</td>\n",
              "      <td>20.0</td>\n",
              "      <td>N</td>\n",
              "      <td>NaN</td>\n",
              "      <td>MR Benson</td>\n",
              "      <td>SL Shastri</td>\n",
              "    </tr>\n",
              "    <tr>\n",
              "      <th>2</th>\n",
              "      <td>335984</td>\n",
              "      <td>2007/08</td>\n",
              "      <td>Delhi</td>\n",
              "      <td>2008-04-19</td>\n",
              "      <td>League</td>\n",
              "      <td>MF Maharoof</td>\n",
              "      <td>Feroz Shah Kotla</td>\n",
              "      <td>Delhi Daredevils</td>\n",
              "      <td>Rajasthan Royals</td>\n",
              "      <td>Rajasthan Royals</td>\n",
              "      <td>bat</td>\n",
              "      <td>Delhi Daredevils</td>\n",
              "      <td>wickets</td>\n",
              "      <td>9.0</td>\n",
              "      <td>130.0</td>\n",
              "      <td>20.0</td>\n",
              "      <td>N</td>\n",
              "      <td>NaN</td>\n",
              "      <td>Aleem Dar</td>\n",
              "      <td>GA Pratapkumar</td>\n",
              "    </tr>\n",
              "    <tr>\n",
              "      <th>3</th>\n",
              "      <td>335985</td>\n",
              "      <td>2007/08</td>\n",
              "      <td>Mumbai</td>\n",
              "      <td>2008-04-20</td>\n",
              "      <td>League</td>\n",
              "      <td>MV Boucher</td>\n",
              "      <td>Wankhede Stadium</td>\n",
              "      <td>Mumbai Indians</td>\n",
              "      <td>Royal Challengers Bangalore</td>\n",
              "      <td>Mumbai Indians</td>\n",
              "      <td>bat</td>\n",
              "      <td>Royal Challengers Bangalore</td>\n",
              "      <td>wickets</td>\n",
              "      <td>5.0</td>\n",
              "      <td>166.0</td>\n",
              "      <td>20.0</td>\n",
              "      <td>N</td>\n",
              "      <td>NaN</td>\n",
              "      <td>SJ Davis</td>\n",
              "      <td>DJ Harper</td>\n",
              "    </tr>\n",
              "    <tr>\n",
              "      <th>4</th>\n",
              "      <td>335986</td>\n",
              "      <td>2007/08</td>\n",
              "      <td>Kolkata</td>\n",
              "      <td>2008-04-20</td>\n",
              "      <td>League</td>\n",
              "      <td>DJ Hussey</td>\n",
              "      <td>Eden Gardens</td>\n",
              "      <td>Kolkata Knight Riders</td>\n",
              "      <td>Deccan Chargers</td>\n",
              "      <td>Deccan Chargers</td>\n",
              "      <td>bat</td>\n",
              "      <td>Kolkata Knight Riders</td>\n",
              "      <td>wickets</td>\n",
              "      <td>5.0</td>\n",
              "      <td>111.0</td>\n",
              "      <td>20.0</td>\n",
              "      <td>N</td>\n",
              "      <td>NaN</td>\n",
              "      <td>BF Bowden</td>\n",
              "      <td>K Hariharan</td>\n",
              "    </tr>\n",
              "  </tbody>\n",
              "</table>\n",
              "</div>\n",
              "    <div class=\"colab-df-buttons\">\n",
              "\n",
              "  <div class=\"colab-df-container\">\n",
              "    <button class=\"colab-df-convert\" onclick=\"convertToInteractive('df-a3247463-af7a-4ad0-a910-896866f206a5')\"\n",
              "            title=\"Convert this dataframe to an interactive table.\"\n",
              "            style=\"display:none;\">\n",
              "\n",
              "  <svg xmlns=\"http://www.w3.org/2000/svg\" height=\"24px\" viewBox=\"0 -960 960 960\">\n",
              "    <path d=\"M120-120v-720h720v720H120Zm60-500h600v-160H180v160Zm220 220h160v-160H400v160Zm0 220h160v-160H400v160ZM180-400h160v-160H180v160Zm440 0h160v-160H620v160ZM180-180h160v-160H180v160Zm440 0h160v-160H620v160Z\"/>\n",
              "  </svg>\n",
              "    </button>\n",
              "\n",
              "  <style>\n",
              "    .colab-df-container {\n",
              "      display:flex;\n",
              "      gap: 12px;\n",
              "    }\n",
              "\n",
              "    .colab-df-convert {\n",
              "      background-color: #E8F0FE;\n",
              "      border: none;\n",
              "      border-radius: 50%;\n",
              "      cursor: pointer;\n",
              "      display: none;\n",
              "      fill: #1967D2;\n",
              "      height: 32px;\n",
              "      padding: 0 0 0 0;\n",
              "      width: 32px;\n",
              "    }\n",
              "\n",
              "    .colab-df-convert:hover {\n",
              "      background-color: #E2EBFA;\n",
              "      box-shadow: 0px 1px 2px rgba(60, 64, 67, 0.3), 0px 1px 3px 1px rgba(60, 64, 67, 0.15);\n",
              "      fill: #174EA6;\n",
              "    }\n",
              "\n",
              "    .colab-df-buttons div {\n",
              "      margin-bottom: 4px;\n",
              "    }\n",
              "\n",
              "    [theme=dark] .colab-df-convert {\n",
              "      background-color: #3B4455;\n",
              "      fill: #D2E3FC;\n",
              "    }\n",
              "\n",
              "    [theme=dark] .colab-df-convert:hover {\n",
              "      background-color: #434B5C;\n",
              "      box-shadow: 0px 1px 3px 1px rgba(0, 0, 0, 0.15);\n",
              "      filter: drop-shadow(0px 1px 2px rgba(0, 0, 0, 0.3));\n",
              "      fill: #FFFFFF;\n",
              "    }\n",
              "  </style>\n",
              "\n",
              "    <script>\n",
              "      const buttonEl =\n",
              "        document.querySelector('#df-a3247463-af7a-4ad0-a910-896866f206a5 button.colab-df-convert');\n",
              "      buttonEl.style.display =\n",
              "        google.colab.kernel.accessAllowed ? 'block' : 'none';\n",
              "\n",
              "      async function convertToInteractive(key) {\n",
              "        const element = document.querySelector('#df-a3247463-af7a-4ad0-a910-896866f206a5');\n",
              "        const dataTable =\n",
              "          await google.colab.kernel.invokeFunction('convertToInteractive',\n",
              "                                                    [key], {});\n",
              "        if (!dataTable) return;\n",
              "\n",
              "        const docLinkHtml = 'Like what you see? Visit the ' +\n",
              "          '<a target=\"_blank\" href=https://colab.research.google.com/notebooks/data_table.ipynb>data table notebook</a>'\n",
              "          + ' to learn more about interactive tables.';\n",
              "        element.innerHTML = '';\n",
              "        dataTable['output_type'] = 'display_data';\n",
              "        await google.colab.output.renderOutput(dataTable, element);\n",
              "        const docLink = document.createElement('div');\n",
              "        docLink.innerHTML = docLinkHtml;\n",
              "        element.appendChild(docLink);\n",
              "      }\n",
              "    </script>\n",
              "  </div>\n",
              "\n",
              "\n",
              "<div id=\"df-c879e1c9-28c4-4f1b-bd74-541dca5f2ba0\">\n",
              "  <button class=\"colab-df-quickchart\" onclick=\"quickchart('df-c879e1c9-28c4-4f1b-bd74-541dca5f2ba0')\"\n",
              "            title=\"Suggest charts\"\n",
              "            style=\"display:none;\">\n",
              "\n",
              "<svg xmlns=\"http://www.w3.org/2000/svg\" height=\"24px\"viewBox=\"0 0 24 24\"\n",
              "     width=\"24px\">\n",
              "    <g>\n",
              "        <path d=\"M19 3H5c-1.1 0-2 .9-2 2v14c0 1.1.9 2 2 2h14c1.1 0 2-.9 2-2V5c0-1.1-.9-2-2-2zM9 17H7v-7h2v7zm4 0h-2V7h2v10zm4 0h-2v-4h2v4z\"/>\n",
              "    </g>\n",
              "</svg>\n",
              "  </button>\n",
              "\n",
              "<style>\n",
              "  .colab-df-quickchart {\n",
              "      --bg-color: #E8F0FE;\n",
              "      --fill-color: #1967D2;\n",
              "      --hover-bg-color: #E2EBFA;\n",
              "      --hover-fill-color: #174EA6;\n",
              "      --disabled-fill-color: #AAA;\n",
              "      --disabled-bg-color: #DDD;\n",
              "  }\n",
              "\n",
              "  [theme=dark] .colab-df-quickchart {\n",
              "      --bg-color: #3B4455;\n",
              "      --fill-color: #D2E3FC;\n",
              "      --hover-bg-color: #434B5C;\n",
              "      --hover-fill-color: #FFFFFF;\n",
              "      --disabled-bg-color: #3B4455;\n",
              "      --disabled-fill-color: #666;\n",
              "  }\n",
              "\n",
              "  .colab-df-quickchart {\n",
              "    background-color: var(--bg-color);\n",
              "    border: none;\n",
              "    border-radius: 50%;\n",
              "    cursor: pointer;\n",
              "    display: none;\n",
              "    fill: var(--fill-color);\n",
              "    height: 32px;\n",
              "    padding: 0;\n",
              "    width: 32px;\n",
              "  }\n",
              "\n",
              "  .colab-df-quickchart:hover {\n",
              "    background-color: var(--hover-bg-color);\n",
              "    box-shadow: 0 1px 2px rgba(60, 64, 67, 0.3), 0 1px 3px 1px rgba(60, 64, 67, 0.15);\n",
              "    fill: var(--button-hover-fill-color);\n",
              "  }\n",
              "\n",
              "  .colab-df-quickchart-complete:disabled,\n",
              "  .colab-df-quickchart-complete:disabled:hover {\n",
              "    background-color: var(--disabled-bg-color);\n",
              "    fill: var(--disabled-fill-color);\n",
              "    box-shadow: none;\n",
              "  }\n",
              "\n",
              "  .colab-df-spinner {\n",
              "    border: 2px solid var(--fill-color);\n",
              "    border-color: transparent;\n",
              "    border-bottom-color: var(--fill-color);\n",
              "    animation:\n",
              "      spin 1s steps(1) infinite;\n",
              "  }\n",
              "\n",
              "  @keyframes spin {\n",
              "    0% {\n",
              "      border-color: transparent;\n",
              "      border-bottom-color: var(--fill-color);\n",
              "      border-left-color: var(--fill-color);\n",
              "    }\n",
              "    20% {\n",
              "      border-color: transparent;\n",
              "      border-left-color: var(--fill-color);\n",
              "      border-top-color: var(--fill-color);\n",
              "    }\n",
              "    30% {\n",
              "      border-color: transparent;\n",
              "      border-left-color: var(--fill-color);\n",
              "      border-top-color: var(--fill-color);\n",
              "      border-right-color: var(--fill-color);\n",
              "    }\n",
              "    40% {\n",
              "      border-color: transparent;\n",
              "      border-right-color: var(--fill-color);\n",
              "      border-top-color: var(--fill-color);\n",
              "    }\n",
              "    60% {\n",
              "      border-color: transparent;\n",
              "      border-right-color: var(--fill-color);\n",
              "    }\n",
              "    80% {\n",
              "      border-color: transparent;\n",
              "      border-right-color: var(--fill-color);\n",
              "      border-bottom-color: var(--fill-color);\n",
              "    }\n",
              "    90% {\n",
              "      border-color: transparent;\n",
              "      border-bottom-color: var(--fill-color);\n",
              "    }\n",
              "  }\n",
              "</style>\n",
              "\n",
              "  <script>\n",
              "    async function quickchart(key) {\n",
              "      const quickchartButtonEl =\n",
              "        document.querySelector('#' + key + ' button');\n",
              "      quickchartButtonEl.disabled = true;  // To prevent multiple clicks.\n",
              "      quickchartButtonEl.classList.add('colab-df-spinner');\n",
              "      try {\n",
              "        const charts = await google.colab.kernel.invokeFunction(\n",
              "            'suggestCharts', [key], {});\n",
              "      } catch (error) {\n",
              "        console.error('Error during call to suggestCharts:', error);\n",
              "      }\n",
              "      quickchartButtonEl.classList.remove('colab-df-spinner');\n",
              "      quickchartButtonEl.classList.add('colab-df-quickchart-complete');\n",
              "    }\n",
              "    (() => {\n",
              "      let quickchartButtonEl =\n",
              "        document.querySelector('#df-c879e1c9-28c4-4f1b-bd74-541dca5f2ba0 button');\n",
              "      quickchartButtonEl.style.display =\n",
              "        google.colab.kernel.accessAllowed ? 'block' : 'none';\n",
              "    })();\n",
              "  </script>\n",
              "</div>\n",
              "\n",
              "    </div>\n",
              "  </div>\n"
            ],
            "application/vnd.google.colaboratory.intrinsic+json": {
              "type": "dataframe",
              "variable_name": "matches",
              "summary": "{\n  \"name\": \"matches\",\n  \"rows\": 1095,\n  \"fields\": [\n    {\n      \"column\": \"id\",\n      \"properties\": {\n        \"dtype\": \"number\",\n        \"std\": 367740,\n        \"min\": 335982,\n        \"max\": 1426312,\n        \"num_unique_values\": 1095,\n        \"samples\": [\n          980933,\n          419130,\n          392213\n        ],\n        \"semantic_type\": \"\",\n        \"description\": \"\"\n      }\n    },\n    {\n      \"column\": \"season\",\n      \"properties\": {\n        \"dtype\": \"category\",\n        \"num_unique_values\": 17,\n        \"samples\": [\n          \"2007/08\",\n          \"2009\",\n          \"2013\"\n        ],\n        \"semantic_type\": \"\",\n        \"description\": \"\"\n      }\n    },\n    {\n      \"column\": \"city\",\n      \"properties\": {\n        \"dtype\": \"category\",\n        \"num_unique_values\": 36,\n        \"samples\": [\n          \"Mohali\",\n          \"Johannesburg\",\n          \"Abu Dhabi\"\n        ],\n        \"semantic_type\": \"\",\n        \"description\": \"\"\n      }\n    },\n    {\n      \"column\": \"date\",\n      \"properties\": {\n        \"dtype\": \"object\",\n        \"num_unique_values\": 823,\n        \"samples\": [\n          \"2021-04-23\",\n          \"2012-04-06\",\n          \"2009-05-12\"\n        ],\n        \"semantic_type\": \"\",\n        \"description\": \"\"\n      }\n    },\n    {\n      \"column\": \"match_type\",\n      \"properties\": {\n        \"dtype\": \"category\",\n        \"num_unique_values\": 8,\n        \"samples\": [\n          \"Semi Final\",\n          \"Elimination Final\",\n          \"League\"\n        ],\n        \"semantic_type\": \"\",\n        \"description\": \"\"\n      }\n    },\n    {\n      \"column\": \"player_of_match\",\n      \"properties\": {\n        \"dtype\": \"category\",\n        \"num_unique_values\": 291,\n        \"samples\": [\n          \"PD Collingwood\",\n          \"DR Sams\",\n          \"CH Gayle\"\n        ],\n        \"semantic_type\": \"\",\n        \"description\": \"\"\n      }\n    },\n    {\n      \"column\": \"venue\",\n      \"properties\": {\n        \"dtype\": \"category\",\n        \"num_unique_values\": 58,\n        \"samples\": [\n          \"M Chinnaswamy Stadium\",\n          \"Sawai Mansingh Stadium\",\n          \"Saurashtra Cricket Association Stadium\"\n        ],\n        \"semantic_type\": \"\",\n        \"description\": \"\"\n      }\n    },\n    {\n      \"column\": \"team1\",\n      \"properties\": {\n        \"dtype\": \"category\",\n        \"num_unique_values\": 19,\n        \"samples\": [\n          \"Royal Challengers Bangalore\",\n          \"Rajasthan Royals\",\n          \"Gujarat Lions\"\n        ],\n        \"semantic_type\": \"\",\n        \"description\": \"\"\n      }\n    },\n    {\n      \"column\": \"team2\",\n      \"properties\": {\n        \"dtype\": \"category\",\n        \"num_unique_values\": 19,\n        \"samples\": [\n          \"Kolkata Knight Riders\",\n          \"Kings XI Punjab\",\n          \"Rising Pune Supergiants\"\n        ],\n        \"semantic_type\": \"\",\n        \"description\": \"\"\n      }\n    },\n    {\n      \"column\": \"toss_winner\",\n      \"properties\": {\n        \"dtype\": \"category\",\n        \"num_unique_values\": 19,\n        \"samples\": [\n          \"Royal Challengers Bangalore\",\n          \"Kings XI Punjab\",\n          \"Gujarat Lions\"\n        ],\n        \"semantic_type\": \"\",\n        \"description\": \"\"\n      }\n    },\n    {\n      \"column\": \"toss_decision\",\n      \"properties\": {\n        \"dtype\": \"category\",\n        \"num_unique_values\": 2,\n        \"samples\": [\n          \"bat\",\n          \"field\"\n        ],\n        \"semantic_type\": \"\",\n        \"description\": \"\"\n      }\n    },\n    {\n      \"column\": \"winner\",\n      \"properties\": {\n        \"dtype\": \"category\",\n        \"num_unique_values\": 19,\n        \"samples\": [\n          \"Kolkata Knight Riders\",\n          \"Kings XI Punjab\"\n        ],\n        \"semantic_type\": \"\",\n        \"description\": \"\"\n      }\n    },\n    {\n      \"column\": \"result\",\n      \"properties\": {\n        \"dtype\": \"category\",\n        \"num_unique_values\": 4,\n        \"samples\": [\n          \"wickets\",\n          \"no result\"\n        ],\n        \"semantic_type\": \"\",\n        \"description\": \"\"\n      }\n    },\n    {\n      \"column\": \"result_margin\",\n      \"properties\": {\n        \"dtype\": \"number\",\n        \"std\": 21.787443729011244,\n        \"min\": 1.0,\n        \"max\": 146.0,\n        \"num_unique_values\": 98,\n        \"samples\": [\n          59.0,\n          39.0\n        ],\n        \"semantic_type\": \"\",\n        \"description\": \"\"\n      }\n    },\n    {\n      \"column\": \"target_runs\",\n      \"properties\": {\n        \"dtype\": \"number\",\n        \"std\": 33.42704825769166,\n        \"min\": 43.0,\n        \"max\": 288.0,\n        \"num_unique_values\": 170,\n        \"samples\": [\n          249.0,\n          144.0\n        ],\n        \"semantic_type\": \"\",\n        \"description\": \"\"\n      }\n    },\n    {\n      \"column\": \"target_overs\",\n      \"properties\": {\n        \"dtype\": \"number\",\n        \"std\": 1.5811083157739763,\n        \"min\": 5.0,\n        \"max\": 20.0,\n        \"num_unique_values\": 15,\n        \"samples\": [\n          12.0,\n          11.0\n        ],\n        \"semantic_type\": \"\",\n        \"description\": \"\"\n      }\n    },\n    {\n      \"column\": \"super_over\",\n      \"properties\": {\n        \"dtype\": \"category\",\n        \"num_unique_values\": 2,\n        \"samples\": [\n          \"Y\",\n          \"N\"\n        ],\n        \"semantic_type\": \"\",\n        \"description\": \"\"\n      }\n    },\n    {\n      \"column\": \"method\",\n      \"properties\": {\n        \"dtype\": \"category\",\n        \"num_unique_values\": 1,\n        \"samples\": [\n          \"D/L\"\n        ],\n        \"semantic_type\": \"\",\n        \"description\": \"\"\n      }\n    },\n    {\n      \"column\": \"umpire1\",\n      \"properties\": {\n        \"dtype\": \"category\",\n        \"num_unique_values\": 62,\n        \"samples\": [\n          \"Navdeep Singh\"\n        ],\n        \"semantic_type\": \"\",\n        \"description\": \"\"\n      }\n    },\n    {\n      \"column\": \"umpire2\",\n      \"properties\": {\n        \"dtype\": \"category\",\n        \"num_unique_values\": 62,\n        \"samples\": [\n          \"AY Dandekar\"\n        ],\n        \"semantic_type\": \"\",\n        \"description\": \"\"\n      }\n    }\n  ]\n}"
            }
          },
          "metadata": {},
          "execution_count": 5
        }
      ]
    },
    {
      "cell_type": "code",
      "source": [
        "matches[\"team1\"].unique()"
      ],
      "metadata": {
        "colab": {
          "base_uri": "https://localhost:8080/"
        },
        "id": "SCgsnXtUAg1N",
        "outputId": "7bc26fe7-c806-4bef-e598-65d9a048bb59"
      },
      "execution_count": 6,
      "outputs": [
        {
          "output_type": "execute_result",
          "data": {
            "text/plain": [
              "array(['Royal Challengers Bangalore', 'Kings XI Punjab',\n",
              "       'Delhi Daredevils', 'Mumbai Indians', 'Kolkata Knight Riders',\n",
              "       'Rajasthan Royals', 'Deccan Chargers', 'Chennai Super Kings',\n",
              "       'Kochi Tuskers Kerala', 'Pune Warriors', 'Sunrisers Hyderabad',\n",
              "       'Gujarat Lions', 'Rising Pune Supergiants',\n",
              "       'Rising Pune Supergiant', 'Delhi Capitals', 'Punjab Kings',\n",
              "       'Lucknow Super Giants', 'Gujarat Titans',\n",
              "       'Royal Challengers Bengaluru'], dtype=object)"
            ]
          },
          "metadata": {},
          "execution_count": 6
        }
      ]
    },
    {
      "cell_type": "code",
      "source": [
        "teams = [ 'Mumbai Indians', 'Kolkata Knight Riders',\n",
        "       'Rajasthan Royals', 'Chennai Super Kings',\n",
        "        'Sunrisers Hyderabad',\n",
        "        'Delhi Capitals', 'Punjab Kings',\n",
        "       'Lucknow Super Giants', 'Gujarat Titans',\n",
        "       'Royal Challengers Bengaluru']"
      ],
      "metadata": {
        "id": "077a1UZgAlos"
      },
      "execution_count": 7,
      "outputs": []
    },
    {
      "cell_type": "markdown",
      "source": [
        "**Team Name Standardization and Focus on Active Teams**"
      ],
      "metadata": {
        "id": "-XVaXKja4iQj"
      }
    },
    {
      "cell_type": "code",
      "source": [
        "matches[\"team2\"]=matches[\"team2\"].str.replace(\"Royal Challengers Bangalore\",\"Royal Challengers Bengaluru\")\n",
        "matches[\"team1\"]=matches[\"team1\"].str.replace(\"Delhi Daredevils\",\"Delhi Capitals\")\n",
        "matches[\"team2\"]=matches[\"team2\"].str.replace(\"Delhi Daredevils\",\"Delhi Capitals\")\n",
        "matches[\"toss_winner\"]=matches[\"toss_winner\"].str.replace(\"Delhi Daredevils\",\"Delhi Capitals\")\n",
        "matches[\"winner\"]=matches[\"winner\"].str.replace(\"Delhi Daredevils\",\"Delhi Capitals\")\n",
        "matches[\"team1\"]=matches[\"team1\"].str.replace(\"Deccan Chargers\",\"Sunrisers Hyderabad\")\n",
        "matches[\"team2\"]=matches[\"team2\"].str.replace(\"Deccan Chargers\",\"Sunrisers Hyderabad\")\n",
        "matches[\"toss_winner\"]=matches[\"toss_winner\"].str.replace(\"Deccan Chargers\",\"Sunrisers Hyderabad\")\n",
        "matches[\"winner\"]=matches[\"winner\"].str.replace(\"Deccan Chargers\",\"Sunrisers Hyderabad\")\n",
        "matches[\"team1\"]=matches[\"team1\"].str.replace(\"Royal Challengers Bangalore\",\"Royal Challengers Bengaluru\")\n",
        "matches[\"toss_winner\"]=matches[\"toss_winner\"].str.replace(\"Royal Challengers Bangalore\",\"Royal Challengers Bengaluru\")\n",
        "matches[\"winner\"]=matches[\"winner\"].str.replace(\"Royal Challengers Bangalore\",\"Royal Challengers Bengaluru\")\n",
        "matches[\"team2\"]=matches[\"team2\"].str.replace(\"Kings XI Punjab\",\"Punjab Kings\")\n",
        "matches[\"team1\"]=matches[\"team1\"].str.replace(\"Kings XI Punjab\",\"Punjab Kings\")\n",
        "matches[\"toss_winner\"]=matches[\"toss_winner\"].str.replace(\"Kings XI Punjab\",\"Punjab Kings\")\n",
        "matches[\"winner\"]=matches[\"winner\"].str.replace(\"Kings XI Punjab\",\"Punjab Kings\")"
      ],
      "metadata": {
        "id": "o5aUGVMVAoXV"
      },
      "execution_count": 8,
      "outputs": []
    },
    {
      "cell_type": "markdown",
      "source": [
        "**Venue Name Standardization**"
      ],
      "metadata": {
        "id": "i-fxvEUSAFny"
      }
    },
    {
      "cell_type": "code",
      "source": [
        "matches[\"venue\"] = matches[\"venue\"].str.replace(\"Arun Jaitley Stadium, Delhi\", \"Arun Jaitley Stadium\")\n",
        "matches[\"venue\"] = matches[\"venue\"].str.replace(\"Brabourne Stadium, Mumbai\", \"Brabourne Stadium\")\n",
        "matches[\"venue\"] = matches[\"venue\"].str.replace(\"Dr DY Patil Sports Academy, Mumbai\", \"Dr DY Patil Sports Academy\")\n",
        "matches[\"venue\"] = matches[\"venue\"].str.replace(\"Eden Gardens, Kolkata\", \"Eden Gardens\")\n",
        "matches[\"venue\"] = matches[\"venue\"].str.replace(\"M Chinnaswamy Stadium, Bengaluru\", \"M.Chinnaswamy Stadium\")\n",
        "matches[\"venue\"] = matches[\"venue\"].str.replace(\"MA Chidambaram Stadium, Chepauk\", \"MA Chidambaram Stadium\")\n",
        "matches[\"venue\"] = matches[\"venue\"].str.replace(\"MA Chidambaram Stadium, Chepauk, Chennai\", \"MA Chidambaram Stadium\")\n",
        "matches[\"venue\"] = matches[\"venue\"].str.replace(\"Punjab Cricket Association IS Bindra Stadium, Mohali\", \"Punjab Cricket Association IS Bindra Stadium\")\n",
        "matches[\"venue\"] = matches[\"venue\"].str.replace(\"Punjab Cricket Association IS Bindra Stadium, Chandigarh\", \"Punjab Cricket Association IS Bindra Stadium\")\n",
        "matches[\"venue\"] = matches[\"venue\"].str.replace(\"Rajiv Gandhi International Stadium, Uppal\", \"Rajiv Gandhi International Stadium\")\n",
        "matches[\"venue\"] = matches[\"venue\"].str.replace(\"Rajiv Gandhi International Stadium, Uppal, Hyderabad\", \"Rajiv Gandhi International Stadium\")\n",
        "matches[\"venue\"] = matches[\"venue\"].str.replace(\"Wankhede Stadium, Mumbai\", \"Wankhede Stadium\")\n",
        "matches[\"venue\"] = matches[\"venue\"].str.replace(\"Sardar Patel Stadium, Motera\", \"Narendra Modi Stadium, Ahmedabad\")\n",
        "matches[\"venue\"] = matches[\"venue\"].str.replace(\"Dr. Y.S. Rajasekhara Reddy ACA-VDCA Cricket Stadium, Visakhapatnam\", \"Dr. Y.S. Rajasekhara Reddy ACA-VDCA Cricket Stadium\")\n",
        "matches[\"venue\"] = matches[\"venue\"].str.replace(\"Punjab Cricket Association Stadium, Mohali\", \"Punjab Cricket Association IS Bindra Stadium\")\n",
        "matches[\"venue\"] = matches[\"venue\"].str.replace(\"M Chinnaswamy Stadium\", \"M.Chinnaswamy Stadium\")\n",
        "matches[\"venue\"] = matches[\"venue\"].str.replace(\"Sawai Mansingh Stadium, Jaipur\", \"Sawai Mansingh Stadium\")\n",
        "matches[\"venue\"] = matches[\"venue\"].str.replace(\"Sheikh Zayed Stadium\", \"Zayed Cricket Stadium, Abu Dhabi\")\n",
        "matches[\"venue\"] = matches[\"venue\"].str.replace(\"Maharashtra Cricket Association Stadium, Pune\", \"Maharashtra Cricket Association Stadium\")\n",
        "matches[\"venue\"] = matches[\"venue\"].str.replace(\"Himachal Pradesh Cricket Association Stadium, Dharamsala\", \"Himachal Pradesh Cricket Association Stadium\")"
      ],
      "metadata": {
        "id": "4QtbY2U4Apkf"
      },
      "execution_count": 9,
      "outputs": []
    },
    {
      "cell_type": "code",
      "source": [
        "matches['venue'].unique()"
      ],
      "metadata": {
        "colab": {
          "base_uri": "https://localhost:8080/"
        },
        "id": "IZsCAeVVAwx9",
        "outputId": "f3637bd9-11b6-4cc3-dcf3-0cc76b83caea"
      },
      "execution_count": 10,
      "outputs": [
        {
          "output_type": "execute_result",
          "data": {
            "text/plain": [
              "array(['M.Chinnaswamy Stadium',\n",
              "       'Punjab Cricket Association IS Bindra Stadium', 'Feroz Shah Kotla',\n",
              "       'Wankhede Stadium', 'Eden Gardens', 'Sawai Mansingh Stadium',\n",
              "       'Rajiv Gandhi International Stadium', 'MA Chidambaram Stadium',\n",
              "       'Dr DY Patil Sports Academy', 'Newlands', \"St George's Park\",\n",
              "       'Kingsmead', 'SuperSport Park', 'Buffalo Park',\n",
              "       'New Wanderers Stadium', 'De Beers Diamond Oval',\n",
              "       'OUTsurance Oval', 'Brabourne Stadium',\n",
              "       'Narendra Modi Stadium, Ahmedabad', 'Barabati Stadium',\n",
              "       'Vidarbha Cricket Association Stadium, Jamtha',\n",
              "       'Himachal Pradesh Cricket Association Stadium', 'Nehru Stadium',\n",
              "       'Holkar Cricket Stadium',\n",
              "       'Dr. Y.S. Rajasekhara Reddy ACA-VDCA Cricket Stadium',\n",
              "       'Subrata Roy Sahara Stadium',\n",
              "       'Maharashtra Cricket Association Stadium',\n",
              "       'Shaheed Veer Narayan Singh International Stadium',\n",
              "       'JSCA International Stadium Complex',\n",
              "       'Zayed Cricket Stadium, Abu Dhabi', 'Sharjah Cricket Stadium',\n",
              "       'Dubai International Cricket Stadium',\n",
              "       'Saurashtra Cricket Association Stadium', 'Green Park',\n",
              "       'Arun Jaitley Stadium', 'MA Chidambaram Stadium, Chennai',\n",
              "       'Bharat Ratna Shri Atal Bihari Vajpayee Ekana Cricket Stadium, Lucknow',\n",
              "       'Rajiv Gandhi International Stadium, Hyderabad',\n",
              "       'Barsapara Cricket Stadium, Guwahati',\n",
              "       'Maharaja Yadavindra Singh International Cricket Stadium, Mullanpur'],\n",
              "      dtype=object)"
            ]
          },
          "metadata": {},
          "execution_count": 10
        }
      ]
    },
    {
      "cell_type": "code",
      "source": [
        "matches[matches['team1'].isin(teams)]\n",
        "matches = matches[matches['team2'].isin(teams)]"
      ],
      "metadata": {
        "id": "3I9zAY-hA2GD"
      },
      "execution_count": 11,
      "outputs": []
    },
    {
      "cell_type": "markdown",
      "source": [
        "**Removing Defunct Teams to Focus on Active Teams**"
      ],
      "metadata": {
        "id": "M3Dpg1nMAlhs"
      }
    },
    {
      "cell_type": "code",
      "source": [
        "teams_to_remove = [\n",
        "'Rising Pune Supergiants'\n",
        ",\n",
        "'Rising Pune Supergiant'\n",
        ",\n",
        "'Pune Warriors'\n",
        ",\n",
        "'Gujarat Lions'\n",
        " ,\n",
        "'Kochi Tuskers Kerala'\n",
        "]\n",
        "\n",
        "columns_to_check = [\n",
        "'team1'\n",
        ",\n",
        "'team2'\n",
        "]\n",
        "\n",
        "\n",
        "condition = ~matches[columns_to_check].isin(teams_to_remove).any(axis=1)\n",
        "\n",
        "matches = matches[condition]"
      ],
      "metadata": {
        "id": "AxnscMg4A3oX"
      },
      "execution_count": 12,
      "outputs": []
    },
    {
      "cell_type": "code",
      "source": [
        "matches.shape"
      ],
      "metadata": {
        "colab": {
          "base_uri": "https://localhost:8080/"
        },
        "id": "BggSLZKFA9sg",
        "outputId": "68c4c34e-ba70-4530-f806-4524a173811c"
      },
      "execution_count": 13,
      "outputs": [
        {
          "output_type": "execute_result",
          "data": {
            "text/plain": [
              "(980, 20)"
            ]
          },
          "metadata": {},
          "execution_count": 13
        }
      ]
    },
    {
      "cell_type": "code",
      "source": [
        "matches.head()"
      ],
      "metadata": {
        "colab": {
          "base_uri": "https://localhost:8080/",
          "height": 382
        },
        "id": "rEaMwKkfBFVV",
        "outputId": "5262c614-c8ca-40d9-d536-d2a46a64bd2b"
      },
      "execution_count": 14,
      "outputs": [
        {
          "output_type": "execute_result",
          "data": {
            "text/plain": [
              "       id   season        city        date match_type player_of_match  \\\n",
              "0  335982  2007/08   Bangalore  2008-04-18     League     BB McCullum   \n",
              "1  335983  2007/08  Chandigarh  2008-04-19     League      MEK Hussey   \n",
              "2  335984  2007/08       Delhi  2008-04-19     League     MF Maharoof   \n",
              "3  335985  2007/08      Mumbai  2008-04-20     League      MV Boucher   \n",
              "4  335986  2007/08     Kolkata  2008-04-20     League       DJ Hussey   \n",
              "\n",
              "                                          venue                        team1  \\\n",
              "0                         M.Chinnaswamy Stadium  Royal Challengers Bengaluru   \n",
              "1  Punjab Cricket Association IS Bindra Stadium                 Punjab Kings   \n",
              "2                              Feroz Shah Kotla               Delhi Capitals   \n",
              "3                              Wankhede Stadium               Mumbai Indians   \n",
              "4                                  Eden Gardens        Kolkata Knight Riders   \n",
              "\n",
              "                         team2                  toss_winner toss_decision  \\\n",
              "0        Kolkata Knight Riders  Royal Challengers Bengaluru         field   \n",
              "1          Chennai Super Kings          Chennai Super Kings           bat   \n",
              "2             Rajasthan Royals             Rajasthan Royals           bat   \n",
              "3  Royal Challengers Bengaluru               Mumbai Indians           bat   \n",
              "4          Sunrisers Hyderabad          Sunrisers Hyderabad           bat   \n",
              "\n",
              "                        winner   result  result_margin  target_runs  \\\n",
              "0        Kolkata Knight Riders     runs          140.0        223.0   \n",
              "1          Chennai Super Kings     runs           33.0        241.0   \n",
              "2               Delhi Capitals  wickets            9.0        130.0   \n",
              "3  Royal Challengers Bengaluru  wickets            5.0        166.0   \n",
              "4        Kolkata Knight Riders  wickets            5.0        111.0   \n",
              "\n",
              "   target_overs super_over method    umpire1         umpire2  \n",
              "0          20.0          N    NaN  Asad Rauf     RE Koertzen  \n",
              "1          20.0          N    NaN  MR Benson      SL Shastri  \n",
              "2          20.0          N    NaN  Aleem Dar  GA Pratapkumar  \n",
              "3          20.0          N    NaN   SJ Davis       DJ Harper  \n",
              "4          20.0          N    NaN  BF Bowden     K Hariharan  "
            ],
            "text/html": [
              "\n",
              "  <div id=\"df-72321ee7-cb45-4b9c-add2-f98c9f001afe\" class=\"colab-df-container\">\n",
              "    <div>\n",
              "<style scoped>\n",
              "    .dataframe tbody tr th:only-of-type {\n",
              "        vertical-align: middle;\n",
              "    }\n",
              "\n",
              "    .dataframe tbody tr th {\n",
              "        vertical-align: top;\n",
              "    }\n",
              "\n",
              "    .dataframe thead th {\n",
              "        text-align: right;\n",
              "    }\n",
              "</style>\n",
              "<table border=\"1\" class=\"dataframe\">\n",
              "  <thead>\n",
              "    <tr style=\"text-align: right;\">\n",
              "      <th></th>\n",
              "      <th>id</th>\n",
              "      <th>season</th>\n",
              "      <th>city</th>\n",
              "      <th>date</th>\n",
              "      <th>match_type</th>\n",
              "      <th>player_of_match</th>\n",
              "      <th>venue</th>\n",
              "      <th>team1</th>\n",
              "      <th>team2</th>\n",
              "      <th>toss_winner</th>\n",
              "      <th>toss_decision</th>\n",
              "      <th>winner</th>\n",
              "      <th>result</th>\n",
              "      <th>result_margin</th>\n",
              "      <th>target_runs</th>\n",
              "      <th>target_overs</th>\n",
              "      <th>super_over</th>\n",
              "      <th>method</th>\n",
              "      <th>umpire1</th>\n",
              "      <th>umpire2</th>\n",
              "    </tr>\n",
              "  </thead>\n",
              "  <tbody>\n",
              "    <tr>\n",
              "      <th>0</th>\n",
              "      <td>335982</td>\n",
              "      <td>2007/08</td>\n",
              "      <td>Bangalore</td>\n",
              "      <td>2008-04-18</td>\n",
              "      <td>League</td>\n",
              "      <td>BB McCullum</td>\n",
              "      <td>M.Chinnaswamy Stadium</td>\n",
              "      <td>Royal Challengers Bengaluru</td>\n",
              "      <td>Kolkata Knight Riders</td>\n",
              "      <td>Royal Challengers Bengaluru</td>\n",
              "      <td>field</td>\n",
              "      <td>Kolkata Knight Riders</td>\n",
              "      <td>runs</td>\n",
              "      <td>140.0</td>\n",
              "      <td>223.0</td>\n",
              "      <td>20.0</td>\n",
              "      <td>N</td>\n",
              "      <td>NaN</td>\n",
              "      <td>Asad Rauf</td>\n",
              "      <td>RE Koertzen</td>\n",
              "    </tr>\n",
              "    <tr>\n",
              "      <th>1</th>\n",
              "      <td>335983</td>\n",
              "      <td>2007/08</td>\n",
              "      <td>Chandigarh</td>\n",
              "      <td>2008-04-19</td>\n",
              "      <td>League</td>\n",
              "      <td>MEK Hussey</td>\n",
              "      <td>Punjab Cricket Association IS Bindra Stadium</td>\n",
              "      <td>Punjab Kings</td>\n",
              "      <td>Chennai Super Kings</td>\n",
              "      <td>Chennai Super Kings</td>\n",
              "      <td>bat</td>\n",
              "      <td>Chennai Super Kings</td>\n",
              "      <td>runs</td>\n",
              "      <td>33.0</td>\n",
              "      <td>241.0</td>\n",
              "      <td>20.0</td>\n",
              "      <td>N</td>\n",
              "      <td>NaN</td>\n",
              "      <td>MR Benson</td>\n",
              "      <td>SL Shastri</td>\n",
              "    </tr>\n",
              "    <tr>\n",
              "      <th>2</th>\n",
              "      <td>335984</td>\n",
              "      <td>2007/08</td>\n",
              "      <td>Delhi</td>\n",
              "      <td>2008-04-19</td>\n",
              "      <td>League</td>\n",
              "      <td>MF Maharoof</td>\n",
              "      <td>Feroz Shah Kotla</td>\n",
              "      <td>Delhi Capitals</td>\n",
              "      <td>Rajasthan Royals</td>\n",
              "      <td>Rajasthan Royals</td>\n",
              "      <td>bat</td>\n",
              "      <td>Delhi Capitals</td>\n",
              "      <td>wickets</td>\n",
              "      <td>9.0</td>\n",
              "      <td>130.0</td>\n",
              "      <td>20.0</td>\n",
              "      <td>N</td>\n",
              "      <td>NaN</td>\n",
              "      <td>Aleem Dar</td>\n",
              "      <td>GA Pratapkumar</td>\n",
              "    </tr>\n",
              "    <tr>\n",
              "      <th>3</th>\n",
              "      <td>335985</td>\n",
              "      <td>2007/08</td>\n",
              "      <td>Mumbai</td>\n",
              "      <td>2008-04-20</td>\n",
              "      <td>League</td>\n",
              "      <td>MV Boucher</td>\n",
              "      <td>Wankhede Stadium</td>\n",
              "      <td>Mumbai Indians</td>\n",
              "      <td>Royal Challengers Bengaluru</td>\n",
              "      <td>Mumbai Indians</td>\n",
              "      <td>bat</td>\n",
              "      <td>Royal Challengers Bengaluru</td>\n",
              "      <td>wickets</td>\n",
              "      <td>5.0</td>\n",
              "      <td>166.0</td>\n",
              "      <td>20.0</td>\n",
              "      <td>N</td>\n",
              "      <td>NaN</td>\n",
              "      <td>SJ Davis</td>\n",
              "      <td>DJ Harper</td>\n",
              "    </tr>\n",
              "    <tr>\n",
              "      <th>4</th>\n",
              "      <td>335986</td>\n",
              "      <td>2007/08</td>\n",
              "      <td>Kolkata</td>\n",
              "      <td>2008-04-20</td>\n",
              "      <td>League</td>\n",
              "      <td>DJ Hussey</td>\n",
              "      <td>Eden Gardens</td>\n",
              "      <td>Kolkata Knight Riders</td>\n",
              "      <td>Sunrisers Hyderabad</td>\n",
              "      <td>Sunrisers Hyderabad</td>\n",
              "      <td>bat</td>\n",
              "      <td>Kolkata Knight Riders</td>\n",
              "      <td>wickets</td>\n",
              "      <td>5.0</td>\n",
              "      <td>111.0</td>\n",
              "      <td>20.0</td>\n",
              "      <td>N</td>\n",
              "      <td>NaN</td>\n",
              "      <td>BF Bowden</td>\n",
              "      <td>K Hariharan</td>\n",
              "    </tr>\n",
              "  </tbody>\n",
              "</table>\n",
              "</div>\n",
              "    <div class=\"colab-df-buttons\">\n",
              "\n",
              "  <div class=\"colab-df-container\">\n",
              "    <button class=\"colab-df-convert\" onclick=\"convertToInteractive('df-72321ee7-cb45-4b9c-add2-f98c9f001afe')\"\n",
              "            title=\"Convert this dataframe to an interactive table.\"\n",
              "            style=\"display:none;\">\n",
              "\n",
              "  <svg xmlns=\"http://www.w3.org/2000/svg\" height=\"24px\" viewBox=\"0 -960 960 960\">\n",
              "    <path d=\"M120-120v-720h720v720H120Zm60-500h600v-160H180v160Zm220 220h160v-160H400v160Zm0 220h160v-160H400v160ZM180-400h160v-160H180v160Zm440 0h160v-160H620v160ZM180-180h160v-160H180v160Zm440 0h160v-160H620v160Z\"/>\n",
              "  </svg>\n",
              "    </button>\n",
              "\n",
              "  <style>\n",
              "    .colab-df-container {\n",
              "      display:flex;\n",
              "      gap: 12px;\n",
              "    }\n",
              "\n",
              "    .colab-df-convert {\n",
              "      background-color: #E8F0FE;\n",
              "      border: none;\n",
              "      border-radius: 50%;\n",
              "      cursor: pointer;\n",
              "      display: none;\n",
              "      fill: #1967D2;\n",
              "      height: 32px;\n",
              "      padding: 0 0 0 0;\n",
              "      width: 32px;\n",
              "    }\n",
              "\n",
              "    .colab-df-convert:hover {\n",
              "      background-color: #E2EBFA;\n",
              "      box-shadow: 0px 1px 2px rgba(60, 64, 67, 0.3), 0px 1px 3px 1px rgba(60, 64, 67, 0.15);\n",
              "      fill: #174EA6;\n",
              "    }\n",
              "\n",
              "    .colab-df-buttons div {\n",
              "      margin-bottom: 4px;\n",
              "    }\n",
              "\n",
              "    [theme=dark] .colab-df-convert {\n",
              "      background-color: #3B4455;\n",
              "      fill: #D2E3FC;\n",
              "    }\n",
              "\n",
              "    [theme=dark] .colab-df-convert:hover {\n",
              "      background-color: #434B5C;\n",
              "      box-shadow: 0px 1px 3px 1px rgba(0, 0, 0, 0.15);\n",
              "      filter: drop-shadow(0px 1px 2px rgba(0, 0, 0, 0.3));\n",
              "      fill: #FFFFFF;\n",
              "    }\n",
              "  </style>\n",
              "\n",
              "    <script>\n",
              "      const buttonEl =\n",
              "        document.querySelector('#df-72321ee7-cb45-4b9c-add2-f98c9f001afe button.colab-df-convert');\n",
              "      buttonEl.style.display =\n",
              "        google.colab.kernel.accessAllowed ? 'block' : 'none';\n",
              "\n",
              "      async function convertToInteractive(key) {\n",
              "        const element = document.querySelector('#df-72321ee7-cb45-4b9c-add2-f98c9f001afe');\n",
              "        const dataTable =\n",
              "          await google.colab.kernel.invokeFunction('convertToInteractive',\n",
              "                                                    [key], {});\n",
              "        if (!dataTable) return;\n",
              "\n",
              "        const docLinkHtml = 'Like what you see? Visit the ' +\n",
              "          '<a target=\"_blank\" href=https://colab.research.google.com/notebooks/data_table.ipynb>data table notebook</a>'\n",
              "          + ' to learn more about interactive tables.';\n",
              "        element.innerHTML = '';\n",
              "        dataTable['output_type'] = 'display_data';\n",
              "        await google.colab.output.renderOutput(dataTable, element);\n",
              "        const docLink = document.createElement('div');\n",
              "        docLink.innerHTML = docLinkHtml;\n",
              "        element.appendChild(docLink);\n",
              "      }\n",
              "    </script>\n",
              "  </div>\n",
              "\n",
              "\n",
              "<div id=\"df-b8a5dffa-3c75-43ed-88bb-33517019bd5e\">\n",
              "  <button class=\"colab-df-quickchart\" onclick=\"quickchart('df-b8a5dffa-3c75-43ed-88bb-33517019bd5e')\"\n",
              "            title=\"Suggest charts\"\n",
              "            style=\"display:none;\">\n",
              "\n",
              "<svg xmlns=\"http://www.w3.org/2000/svg\" height=\"24px\"viewBox=\"0 0 24 24\"\n",
              "     width=\"24px\">\n",
              "    <g>\n",
              "        <path d=\"M19 3H5c-1.1 0-2 .9-2 2v14c0 1.1.9 2 2 2h14c1.1 0 2-.9 2-2V5c0-1.1-.9-2-2-2zM9 17H7v-7h2v7zm4 0h-2V7h2v10zm4 0h-2v-4h2v4z\"/>\n",
              "    </g>\n",
              "</svg>\n",
              "  </button>\n",
              "\n",
              "<style>\n",
              "  .colab-df-quickchart {\n",
              "      --bg-color: #E8F0FE;\n",
              "      --fill-color: #1967D2;\n",
              "      --hover-bg-color: #E2EBFA;\n",
              "      --hover-fill-color: #174EA6;\n",
              "      --disabled-fill-color: #AAA;\n",
              "      --disabled-bg-color: #DDD;\n",
              "  }\n",
              "\n",
              "  [theme=dark] .colab-df-quickchart {\n",
              "      --bg-color: #3B4455;\n",
              "      --fill-color: #D2E3FC;\n",
              "      --hover-bg-color: #434B5C;\n",
              "      --hover-fill-color: #FFFFFF;\n",
              "      --disabled-bg-color: #3B4455;\n",
              "      --disabled-fill-color: #666;\n",
              "  }\n",
              "\n",
              "  .colab-df-quickchart {\n",
              "    background-color: var(--bg-color);\n",
              "    border: none;\n",
              "    border-radius: 50%;\n",
              "    cursor: pointer;\n",
              "    display: none;\n",
              "    fill: var(--fill-color);\n",
              "    height: 32px;\n",
              "    padding: 0;\n",
              "    width: 32px;\n",
              "  }\n",
              "\n",
              "  .colab-df-quickchart:hover {\n",
              "    background-color: var(--hover-bg-color);\n",
              "    box-shadow: 0 1px 2px rgba(60, 64, 67, 0.3), 0 1px 3px 1px rgba(60, 64, 67, 0.15);\n",
              "    fill: var(--button-hover-fill-color);\n",
              "  }\n",
              "\n",
              "  .colab-df-quickchart-complete:disabled,\n",
              "  .colab-df-quickchart-complete:disabled:hover {\n",
              "    background-color: var(--disabled-bg-color);\n",
              "    fill: var(--disabled-fill-color);\n",
              "    box-shadow: none;\n",
              "  }\n",
              "\n",
              "  .colab-df-spinner {\n",
              "    border: 2px solid var(--fill-color);\n",
              "    border-color: transparent;\n",
              "    border-bottom-color: var(--fill-color);\n",
              "    animation:\n",
              "      spin 1s steps(1) infinite;\n",
              "  }\n",
              "\n",
              "  @keyframes spin {\n",
              "    0% {\n",
              "      border-color: transparent;\n",
              "      border-bottom-color: var(--fill-color);\n",
              "      border-left-color: var(--fill-color);\n",
              "    }\n",
              "    20% {\n",
              "      border-color: transparent;\n",
              "      border-left-color: var(--fill-color);\n",
              "      border-top-color: var(--fill-color);\n",
              "    }\n",
              "    30% {\n",
              "      border-color: transparent;\n",
              "      border-left-color: var(--fill-color);\n",
              "      border-top-color: var(--fill-color);\n",
              "      border-right-color: var(--fill-color);\n",
              "    }\n",
              "    40% {\n",
              "      border-color: transparent;\n",
              "      border-right-color: var(--fill-color);\n",
              "      border-top-color: var(--fill-color);\n",
              "    }\n",
              "    60% {\n",
              "      border-color: transparent;\n",
              "      border-right-color: var(--fill-color);\n",
              "    }\n",
              "    80% {\n",
              "      border-color: transparent;\n",
              "      border-right-color: var(--fill-color);\n",
              "      border-bottom-color: var(--fill-color);\n",
              "    }\n",
              "    90% {\n",
              "      border-color: transparent;\n",
              "      border-bottom-color: var(--fill-color);\n",
              "    }\n",
              "  }\n",
              "</style>\n",
              "\n",
              "  <script>\n",
              "    async function quickchart(key) {\n",
              "      const quickchartButtonEl =\n",
              "        document.querySelector('#' + key + ' button');\n",
              "      quickchartButtonEl.disabled = true;  // To prevent multiple clicks.\n",
              "      quickchartButtonEl.classList.add('colab-df-spinner');\n",
              "      try {\n",
              "        const charts = await google.colab.kernel.invokeFunction(\n",
              "            'suggestCharts', [key], {});\n",
              "      } catch (error) {\n",
              "        console.error('Error during call to suggestCharts:', error);\n",
              "      }\n",
              "      quickchartButtonEl.classList.remove('colab-df-spinner');\n",
              "      quickchartButtonEl.classList.add('colab-df-quickchart-complete');\n",
              "    }\n",
              "    (() => {\n",
              "      let quickchartButtonEl =\n",
              "        document.querySelector('#df-b8a5dffa-3c75-43ed-88bb-33517019bd5e button');\n",
              "      quickchartButtonEl.style.display =\n",
              "        google.colab.kernel.accessAllowed ? 'block' : 'none';\n",
              "    })();\n",
              "  </script>\n",
              "</div>\n",
              "\n",
              "    </div>\n",
              "  </div>\n"
            ],
            "application/vnd.google.colaboratory.intrinsic+json": {
              "type": "dataframe",
              "variable_name": "matches",
              "summary": "{\n  \"name\": \"matches\",\n  \"rows\": 980,\n  \"fields\": [\n    {\n      \"column\": \"id\",\n      \"properties\": {\n        \"dtype\": \"number\",\n        \"std\": 376463,\n        \"min\": 335982,\n        \"max\": 1426312,\n        \"num_unique_values\": 980,\n        \"samples\": [\n          1304074,\n          829789,\n          419130\n        ],\n        \"semantic_type\": \"\",\n        \"description\": \"\"\n      }\n    },\n    {\n      \"column\": \"season\",\n      \"properties\": {\n        \"dtype\": \"category\",\n        \"num_unique_values\": 17,\n        \"samples\": [\n          \"2007/08\",\n          \"2009\",\n          \"2013\"\n        ],\n        \"semantic_type\": \"\",\n        \"description\": \"\"\n      }\n    },\n    {\n      \"column\": \"city\",\n      \"properties\": {\n        \"dtype\": \"category\",\n        \"num_unique_values\": 33,\n        \"samples\": [\n          \"Guwahati\",\n          \"Bloemfontein\",\n          \"Indore\"\n        ],\n        \"semantic_type\": \"\",\n        \"description\": \"\"\n      }\n    },\n    {\n      \"column\": \"date\",\n      \"properties\": {\n        \"dtype\": \"object\",\n        \"num_unique_values\": 770,\n        \"samples\": [\n          \"2023-04-17\",\n          \"2024-05-05\",\n          \"2024-04-09\"\n        ],\n        \"semantic_type\": \"\",\n        \"description\": \"\"\n      }\n    },\n    {\n      \"column\": \"match_type\",\n      \"properties\": {\n        \"dtype\": \"category\",\n        \"num_unique_values\": 8,\n        \"samples\": [\n          \"Semi Final\",\n          \"Elimination Final\",\n          \"League\"\n        ],\n        \"semantic_type\": \"\",\n        \"description\": \"\"\n      }\n    },\n    {\n      \"column\": \"player_of_match\",\n      \"properties\": {\n        \"dtype\": \"category\",\n        \"num_unique_values\": 276,\n        \"samples\": [\n          \"DJ Bravo\",\n          \"JP Faulkner\",\n          \"AS Joseph\"\n        ],\n        \"semantic_type\": \"\",\n        \"description\": \"\"\n      }\n    },\n    {\n      \"column\": \"venue\",\n      \"properties\": {\n        \"dtype\": \"category\",\n        \"num_unique_values\": 37,\n        \"samples\": [\n          \"Brabourne Stadium\",\n          \"Buffalo Park\",\n          \"Eden Gardens\"\n        ],\n        \"semantic_type\": \"\",\n        \"description\": \"\"\n      }\n    },\n    {\n      \"column\": \"team1\",\n      \"properties\": {\n        \"dtype\": \"category\",\n        \"num_unique_values\": 10,\n        \"samples\": [\n          \"Lucknow Super Giants\",\n          \"Punjab Kings\",\n          \"Rajasthan Royals\"\n        ],\n        \"semantic_type\": \"\",\n        \"description\": \"\"\n      }\n    },\n    {\n      \"column\": \"team2\",\n      \"properties\": {\n        \"dtype\": \"category\",\n        \"num_unique_values\": 10,\n        \"samples\": [\n          \"Gujarat Titans\",\n          \"Chennai Super Kings\",\n          \"Punjab Kings\"\n        ],\n        \"semantic_type\": \"\",\n        \"description\": \"\"\n      }\n    },\n    {\n      \"column\": \"toss_winner\",\n      \"properties\": {\n        \"dtype\": \"category\",\n        \"num_unique_values\": 10,\n        \"samples\": [\n          \"Gujarat Titans\",\n          \"Chennai Super Kings\",\n          \"Punjab Kings\"\n        ],\n        \"semantic_type\": \"\",\n        \"description\": \"\"\n      }\n    },\n    {\n      \"column\": \"toss_decision\",\n      \"properties\": {\n        \"dtype\": \"category\",\n        \"num_unique_values\": 2,\n        \"samples\": [\n          \"bat\",\n          \"field\"\n        ],\n        \"semantic_type\": \"\",\n        \"description\": \"\"\n      }\n    },\n    {\n      \"column\": \"winner\",\n      \"properties\": {\n        \"dtype\": \"category\",\n        \"num_unique_values\": 10,\n        \"samples\": [\n          \"Gujarat Titans\",\n          \"Chennai Super Kings\"\n        ],\n        \"semantic_type\": \"\",\n        \"description\": \"\"\n      }\n    },\n    {\n      \"column\": \"result\",\n      \"properties\": {\n        \"dtype\": \"category\",\n        \"num_unique_values\": 4,\n        \"samples\": [\n          \"wickets\",\n          \"no result\"\n        ],\n        \"semantic_type\": \"\",\n        \"description\": \"\"\n      }\n    },\n    {\n      \"column\": \"result_margin\",\n      \"properties\": {\n        \"dtype\": \"number\",\n        \"std\": 21.796627591319155,\n        \"min\": 1.0,\n        \"max\": 146.0,\n        \"num_unique_values\": 96,\n        \"samples\": [\n          51.0,\n          138.0\n        ],\n        \"semantic_type\": \"\",\n        \"description\": \"\"\n      }\n    },\n    {\n      \"column\": \"target_runs\",\n      \"properties\": {\n        \"dtype\": \"number\",\n        \"std\": 33.335466433266845,\n        \"min\": 43.0,\n        \"max\": 288.0,\n        \"num_unique_values\": 163,\n        \"samples\": [\n          207.0,\n          210.0\n        ],\n        \"semantic_type\": \"\",\n        \"description\": \"\"\n      }\n    },\n    {\n      \"column\": \"target_overs\",\n      \"properties\": {\n        \"dtype\": \"number\",\n        \"std\": 1.5816802694780827,\n        \"min\": 5.0,\n        \"max\": 20.0,\n        \"num_unique_values\": 13,\n        \"samples\": [\n          14.0,\n          17.0\n        ],\n        \"semantic_type\": \"\",\n        \"description\": \"\"\n      }\n    },\n    {\n      \"column\": \"super_over\",\n      \"properties\": {\n        \"dtype\": \"category\",\n        \"num_unique_values\": 2,\n        \"samples\": [\n          \"Y\",\n          \"N\"\n        ],\n        \"semantic_type\": \"\",\n        \"description\": \"\"\n      }\n    },\n    {\n      \"column\": \"method\",\n      \"properties\": {\n        \"dtype\": \"category\",\n        \"num_unique_values\": 1,\n        \"samples\": [\n          \"D/L\"\n        ],\n        \"semantic_type\": \"\",\n        \"description\": \"\"\n      }\n    },\n    {\n      \"column\": \"umpire1\",\n      \"properties\": {\n        \"dtype\": \"category\",\n        \"num_unique_values\": 62,\n        \"samples\": [\n          \"Navdeep Singh\"\n        ],\n        \"semantic_type\": \"\",\n        \"description\": \"\"\n      }\n    },\n    {\n      \"column\": \"umpire2\",\n      \"properties\": {\n        \"dtype\": \"category\",\n        \"num_unique_values\": 62,\n        \"samples\": [\n          \"AY Dandekar\"\n        ],\n        \"semantic_type\": \"\",\n        \"description\": \"\"\n      }\n    }\n  ]\n}"
            }
          },
          "metadata": {},
          "execution_count": 14
        }
      ]
    },
    {
      "cell_type": "code",
      "source": [
        "matches.columns"
      ],
      "metadata": {
        "colab": {
          "base_uri": "https://localhost:8080/"
        },
        "id": "aHPtjSG0Bffc",
        "outputId": "e51541bb-e1ee-4322-85d2-83661ed16d7c"
      },
      "execution_count": 15,
      "outputs": [
        {
          "output_type": "execute_result",
          "data": {
            "text/plain": [
              "Index(['id', 'season', 'city', 'date', 'match_type', 'player_of_match',\n",
              "       'venue', 'team1', 'team2', 'toss_winner', 'toss_decision', 'winner',\n",
              "       'result', 'result_margin', 'target_runs', 'target_overs', 'super_over',\n",
              "       'method', 'umpire1', 'umpire2'],\n",
              "      dtype='object')"
            ]
          },
          "metadata": {},
          "execution_count": 15
        }
      ]
    },
    {
      "cell_type": "code",
      "source": [
        "matches['season'] = pd.to_datetime(matches['season'], format='%Y', errors='coerce')\n",
        "\n",
        "matches['date'] = pd.to_datetime(matches['date'], errors='coerce')"
      ],
      "metadata": {
        "id": "e8mia2icBlSb"
      },
      "execution_count": 16,
      "outputs": []
    },
    {
      "cell_type": "code",
      "source": [
        "matches.isnull().sum()"
      ],
      "metadata": {
        "colab": {
          "base_uri": "https://localhost:8080/",
          "height": 711
        },
        "id": "aQhjsqVLBqVm",
        "outputId": "92d77931-0dd6-42b1-e067-786bb9df1883"
      },
      "execution_count": 17,
      "outputs": [
        {
          "output_type": "execute_result",
          "data": {
            "text/plain": [
              "id                   0\n",
              "season             178\n",
              "city                51\n",
              "date                 0\n",
              "match_type           0\n",
              "player_of_match      4\n",
              "venue                0\n",
              "team1                0\n",
              "team2                0\n",
              "toss_winner          0\n",
              "toss_decision        0\n",
              "winner               4\n",
              "result               0\n",
              "result_margin       17\n",
              "target_runs          2\n",
              "target_overs         2\n",
              "super_over           0\n",
              "method             963\n",
              "umpire1              0\n",
              "umpire2              0\n",
              "dtype: int64"
            ],
            "text/html": [
              "<div>\n",
              "<style scoped>\n",
              "    .dataframe tbody tr th:only-of-type {\n",
              "        vertical-align: middle;\n",
              "    }\n",
              "\n",
              "    .dataframe tbody tr th {\n",
              "        vertical-align: top;\n",
              "    }\n",
              "\n",
              "    .dataframe thead th {\n",
              "        text-align: right;\n",
              "    }\n",
              "</style>\n",
              "<table border=\"1\" class=\"dataframe\">\n",
              "  <thead>\n",
              "    <tr style=\"text-align: right;\">\n",
              "      <th></th>\n",
              "      <th>0</th>\n",
              "    </tr>\n",
              "  </thead>\n",
              "  <tbody>\n",
              "    <tr>\n",
              "      <th>id</th>\n",
              "      <td>0</td>\n",
              "    </tr>\n",
              "    <tr>\n",
              "      <th>season</th>\n",
              "      <td>178</td>\n",
              "    </tr>\n",
              "    <tr>\n",
              "      <th>city</th>\n",
              "      <td>51</td>\n",
              "    </tr>\n",
              "    <tr>\n",
              "      <th>date</th>\n",
              "      <td>0</td>\n",
              "    </tr>\n",
              "    <tr>\n",
              "      <th>match_type</th>\n",
              "      <td>0</td>\n",
              "    </tr>\n",
              "    <tr>\n",
              "      <th>player_of_match</th>\n",
              "      <td>4</td>\n",
              "    </tr>\n",
              "    <tr>\n",
              "      <th>venue</th>\n",
              "      <td>0</td>\n",
              "    </tr>\n",
              "    <tr>\n",
              "      <th>team1</th>\n",
              "      <td>0</td>\n",
              "    </tr>\n",
              "    <tr>\n",
              "      <th>team2</th>\n",
              "      <td>0</td>\n",
              "    </tr>\n",
              "    <tr>\n",
              "      <th>toss_winner</th>\n",
              "      <td>0</td>\n",
              "    </tr>\n",
              "    <tr>\n",
              "      <th>toss_decision</th>\n",
              "      <td>0</td>\n",
              "    </tr>\n",
              "    <tr>\n",
              "      <th>winner</th>\n",
              "      <td>4</td>\n",
              "    </tr>\n",
              "    <tr>\n",
              "      <th>result</th>\n",
              "      <td>0</td>\n",
              "    </tr>\n",
              "    <tr>\n",
              "      <th>result_margin</th>\n",
              "      <td>17</td>\n",
              "    </tr>\n",
              "    <tr>\n",
              "      <th>target_runs</th>\n",
              "      <td>2</td>\n",
              "    </tr>\n",
              "    <tr>\n",
              "      <th>target_overs</th>\n",
              "      <td>2</td>\n",
              "    </tr>\n",
              "    <tr>\n",
              "      <th>super_over</th>\n",
              "      <td>0</td>\n",
              "    </tr>\n",
              "    <tr>\n",
              "      <th>method</th>\n",
              "      <td>963</td>\n",
              "    </tr>\n",
              "    <tr>\n",
              "      <th>umpire1</th>\n",
              "      <td>0</td>\n",
              "    </tr>\n",
              "    <tr>\n",
              "      <th>umpire2</th>\n",
              "      <td>0</td>\n",
              "    </tr>\n",
              "  </tbody>\n",
              "</table>\n",
              "</div><br><label><b>dtype:</b> int64</label>"
            ]
          },
          "metadata": {},
          "execution_count": 17
        }
      ]
    },
    {
      "cell_type": "code",
      "source": [
        "for i in matches.select_dtypes(include = 'object').columns:\n",
        "    matches[i].fillna(matches[i].mode()[0], inplace = True)\n",
        "\n",
        "matches['season'] = matches['season'].fillna(matches['season'].mode()[0])  # Filling with mode\n",
        "\n",
        "for i in matches.select_dtypes(include = 'number').columns:\n",
        "    matches[i].fillna(matches[i].mean(), inplace = True)"
      ],
      "metadata": {
        "colab": {
          "base_uri": "https://localhost:8080/"
        },
        "id": "C9fdUPjEBr6l",
        "outputId": "450e027e-ea7d-44b4-e792-552239e1f4e3"
      },
      "execution_count": 18,
      "outputs": [
        {
          "output_type": "stream",
          "name": "stderr",
          "text": [
            "<ipython-input-18-a27643f1d5c9>:2: FutureWarning: A value is trying to be set on a copy of a DataFrame or Series through chained assignment using an inplace method.\n",
            "The behavior will change in pandas 3.0. This inplace method will never work because the intermediate object on which we are setting values always behaves as a copy.\n",
            "\n",
            "For example, when doing 'df[col].method(value, inplace=True)', try using 'df.method({col: value}, inplace=True)' or df[col] = df[col].method(value) instead, to perform the operation inplace on the original object.\n",
            "\n",
            "\n",
            "  matches[i].fillna(matches[i].mode()[0], inplace = True)\n",
            "<ipython-input-18-a27643f1d5c9>:7: FutureWarning: A value is trying to be set on a copy of a DataFrame or Series through chained assignment using an inplace method.\n",
            "The behavior will change in pandas 3.0. This inplace method will never work because the intermediate object on which we are setting values always behaves as a copy.\n",
            "\n",
            "For example, when doing 'df[col].method(value, inplace=True)', try using 'df.method({col: value}, inplace=True)' or df[col] = df[col].method(value) instead, to perform the operation inplace on the original object.\n",
            "\n",
            "\n",
            "  matches[i].fillna(matches[i].mean(), inplace = True)\n"
          ]
        }
      ]
    },
    {
      "cell_type": "code",
      "source": [
        "matches.duplicated().sum()"
      ],
      "metadata": {
        "colab": {
          "base_uri": "https://localhost:8080/"
        },
        "id": "bwTJP_AzBxGm",
        "outputId": "955a16e8-c322-49a4-c1f4-59396a8bc835"
      },
      "execution_count": 19,
      "outputs": [
        {
          "output_type": "execute_result",
          "data": {
            "text/plain": [
              "0"
            ]
          },
          "metadata": {},
          "execution_count": 19
        }
      ]
    },
    {
      "cell_type": "code",
      "source": [
        "matches.describe(include = 'number').T"
      ],
      "metadata": {
        "colab": {
          "base_uri": "https://localhost:8080/",
          "height": 175
        },
        "id": "eAYMs3OUB2Uv",
        "outputId": "fc43ca7e-d4e6-42ae-c146-65e8d7f2943c"
      },
      "execution_count": 20,
      "outputs": [
        {
          "output_type": "execute_result",
          "data": {
            "text/plain": [
              "               count           mean            std       min        25%  \\\n",
              "id             980.0  919521.931633  376463.443761  335982.0  548338.25   \n",
              "result_margin  980.0      17.463136      21.606553       1.0       6.00   \n",
              "target_runs    980.0     166.835378      33.301398      43.0     147.00   \n",
              "target_overs   980.0      19.764008       1.580064       5.0      20.00   \n",
              "\n",
              "                     50%         75%        max  \n",
              "id             1031805.0  1254091.25  1426312.0  \n",
              "result_margin        8.0       20.00      146.0  \n",
              "target_runs        167.0      188.00      288.0  \n",
              "target_overs        20.0       20.00       20.0  "
            ],
            "text/html": [
              "\n",
              "  <div id=\"df-4214c6e0-bfbe-411d-a0e5-ad17ae7121b2\" class=\"colab-df-container\">\n",
              "    <div>\n",
              "<style scoped>\n",
              "    .dataframe tbody tr th:only-of-type {\n",
              "        vertical-align: middle;\n",
              "    }\n",
              "\n",
              "    .dataframe tbody tr th {\n",
              "        vertical-align: top;\n",
              "    }\n",
              "\n",
              "    .dataframe thead th {\n",
              "        text-align: right;\n",
              "    }\n",
              "</style>\n",
              "<table border=\"1\" class=\"dataframe\">\n",
              "  <thead>\n",
              "    <tr style=\"text-align: right;\">\n",
              "      <th></th>\n",
              "      <th>count</th>\n",
              "      <th>mean</th>\n",
              "      <th>std</th>\n",
              "      <th>min</th>\n",
              "      <th>25%</th>\n",
              "      <th>50%</th>\n",
              "      <th>75%</th>\n",
              "      <th>max</th>\n",
              "    </tr>\n",
              "  </thead>\n",
              "  <tbody>\n",
              "    <tr>\n",
              "      <th>id</th>\n",
              "      <td>980.0</td>\n",
              "      <td>919521.931633</td>\n",
              "      <td>376463.443761</td>\n",
              "      <td>335982.0</td>\n",
              "      <td>548338.25</td>\n",
              "      <td>1031805.0</td>\n",
              "      <td>1254091.25</td>\n",
              "      <td>1426312.0</td>\n",
              "    </tr>\n",
              "    <tr>\n",
              "      <th>result_margin</th>\n",
              "      <td>980.0</td>\n",
              "      <td>17.463136</td>\n",
              "      <td>21.606553</td>\n",
              "      <td>1.0</td>\n",
              "      <td>6.00</td>\n",
              "      <td>8.0</td>\n",
              "      <td>20.00</td>\n",
              "      <td>146.0</td>\n",
              "    </tr>\n",
              "    <tr>\n",
              "      <th>target_runs</th>\n",
              "      <td>980.0</td>\n",
              "      <td>166.835378</td>\n",
              "      <td>33.301398</td>\n",
              "      <td>43.0</td>\n",
              "      <td>147.00</td>\n",
              "      <td>167.0</td>\n",
              "      <td>188.00</td>\n",
              "      <td>288.0</td>\n",
              "    </tr>\n",
              "    <tr>\n",
              "      <th>target_overs</th>\n",
              "      <td>980.0</td>\n",
              "      <td>19.764008</td>\n",
              "      <td>1.580064</td>\n",
              "      <td>5.0</td>\n",
              "      <td>20.00</td>\n",
              "      <td>20.0</td>\n",
              "      <td>20.00</td>\n",
              "      <td>20.0</td>\n",
              "    </tr>\n",
              "  </tbody>\n",
              "</table>\n",
              "</div>\n",
              "    <div class=\"colab-df-buttons\">\n",
              "\n",
              "  <div class=\"colab-df-container\">\n",
              "    <button class=\"colab-df-convert\" onclick=\"convertToInteractive('df-4214c6e0-bfbe-411d-a0e5-ad17ae7121b2')\"\n",
              "            title=\"Convert this dataframe to an interactive table.\"\n",
              "            style=\"display:none;\">\n",
              "\n",
              "  <svg xmlns=\"http://www.w3.org/2000/svg\" height=\"24px\" viewBox=\"0 -960 960 960\">\n",
              "    <path d=\"M120-120v-720h720v720H120Zm60-500h600v-160H180v160Zm220 220h160v-160H400v160Zm0 220h160v-160H400v160ZM180-400h160v-160H180v160Zm440 0h160v-160H620v160ZM180-180h160v-160H180v160Zm440 0h160v-160H620v160Z\"/>\n",
              "  </svg>\n",
              "    </button>\n",
              "\n",
              "  <style>\n",
              "    .colab-df-container {\n",
              "      display:flex;\n",
              "      gap: 12px;\n",
              "    }\n",
              "\n",
              "    .colab-df-convert {\n",
              "      background-color: #E8F0FE;\n",
              "      border: none;\n",
              "      border-radius: 50%;\n",
              "      cursor: pointer;\n",
              "      display: none;\n",
              "      fill: #1967D2;\n",
              "      height: 32px;\n",
              "      padding: 0 0 0 0;\n",
              "      width: 32px;\n",
              "    }\n",
              "\n",
              "    .colab-df-convert:hover {\n",
              "      background-color: #E2EBFA;\n",
              "      box-shadow: 0px 1px 2px rgba(60, 64, 67, 0.3), 0px 1px 3px 1px rgba(60, 64, 67, 0.15);\n",
              "      fill: #174EA6;\n",
              "    }\n",
              "\n",
              "    .colab-df-buttons div {\n",
              "      margin-bottom: 4px;\n",
              "    }\n",
              "\n",
              "    [theme=dark] .colab-df-convert {\n",
              "      background-color: #3B4455;\n",
              "      fill: #D2E3FC;\n",
              "    }\n",
              "\n",
              "    [theme=dark] .colab-df-convert:hover {\n",
              "      background-color: #434B5C;\n",
              "      box-shadow: 0px 1px 3px 1px rgba(0, 0, 0, 0.15);\n",
              "      filter: drop-shadow(0px 1px 2px rgba(0, 0, 0, 0.3));\n",
              "      fill: #FFFFFF;\n",
              "    }\n",
              "  </style>\n",
              "\n",
              "    <script>\n",
              "      const buttonEl =\n",
              "        document.querySelector('#df-4214c6e0-bfbe-411d-a0e5-ad17ae7121b2 button.colab-df-convert');\n",
              "      buttonEl.style.display =\n",
              "        google.colab.kernel.accessAllowed ? 'block' : 'none';\n",
              "\n",
              "      async function convertToInteractive(key) {\n",
              "        const element = document.querySelector('#df-4214c6e0-bfbe-411d-a0e5-ad17ae7121b2');\n",
              "        const dataTable =\n",
              "          await google.colab.kernel.invokeFunction('convertToInteractive',\n",
              "                                                    [key], {});\n",
              "        if (!dataTable) return;\n",
              "\n",
              "        const docLinkHtml = 'Like what you see? Visit the ' +\n",
              "          '<a target=\"_blank\" href=https://colab.research.google.com/notebooks/data_table.ipynb>data table notebook</a>'\n",
              "          + ' to learn more about interactive tables.';\n",
              "        element.innerHTML = '';\n",
              "        dataTable['output_type'] = 'display_data';\n",
              "        await google.colab.output.renderOutput(dataTable, element);\n",
              "        const docLink = document.createElement('div');\n",
              "        docLink.innerHTML = docLinkHtml;\n",
              "        element.appendChild(docLink);\n",
              "      }\n",
              "    </script>\n",
              "  </div>\n",
              "\n",
              "\n",
              "<div id=\"df-aa3bc371-9274-445b-b75d-be57956994d4\">\n",
              "  <button class=\"colab-df-quickchart\" onclick=\"quickchart('df-aa3bc371-9274-445b-b75d-be57956994d4')\"\n",
              "            title=\"Suggest charts\"\n",
              "            style=\"display:none;\">\n",
              "\n",
              "<svg xmlns=\"http://www.w3.org/2000/svg\" height=\"24px\"viewBox=\"0 0 24 24\"\n",
              "     width=\"24px\">\n",
              "    <g>\n",
              "        <path d=\"M19 3H5c-1.1 0-2 .9-2 2v14c0 1.1.9 2 2 2h14c1.1 0 2-.9 2-2V5c0-1.1-.9-2-2-2zM9 17H7v-7h2v7zm4 0h-2V7h2v10zm4 0h-2v-4h2v4z\"/>\n",
              "    </g>\n",
              "</svg>\n",
              "  </button>\n",
              "\n",
              "<style>\n",
              "  .colab-df-quickchart {\n",
              "      --bg-color: #E8F0FE;\n",
              "      --fill-color: #1967D2;\n",
              "      --hover-bg-color: #E2EBFA;\n",
              "      --hover-fill-color: #174EA6;\n",
              "      --disabled-fill-color: #AAA;\n",
              "      --disabled-bg-color: #DDD;\n",
              "  }\n",
              "\n",
              "  [theme=dark] .colab-df-quickchart {\n",
              "      --bg-color: #3B4455;\n",
              "      --fill-color: #D2E3FC;\n",
              "      --hover-bg-color: #434B5C;\n",
              "      --hover-fill-color: #FFFFFF;\n",
              "      --disabled-bg-color: #3B4455;\n",
              "      --disabled-fill-color: #666;\n",
              "  }\n",
              "\n",
              "  .colab-df-quickchart {\n",
              "    background-color: var(--bg-color);\n",
              "    border: none;\n",
              "    border-radius: 50%;\n",
              "    cursor: pointer;\n",
              "    display: none;\n",
              "    fill: var(--fill-color);\n",
              "    height: 32px;\n",
              "    padding: 0;\n",
              "    width: 32px;\n",
              "  }\n",
              "\n",
              "  .colab-df-quickchart:hover {\n",
              "    background-color: var(--hover-bg-color);\n",
              "    box-shadow: 0 1px 2px rgba(60, 64, 67, 0.3), 0 1px 3px 1px rgba(60, 64, 67, 0.15);\n",
              "    fill: var(--button-hover-fill-color);\n",
              "  }\n",
              "\n",
              "  .colab-df-quickchart-complete:disabled,\n",
              "  .colab-df-quickchart-complete:disabled:hover {\n",
              "    background-color: var(--disabled-bg-color);\n",
              "    fill: var(--disabled-fill-color);\n",
              "    box-shadow: none;\n",
              "  }\n",
              "\n",
              "  .colab-df-spinner {\n",
              "    border: 2px solid var(--fill-color);\n",
              "    border-color: transparent;\n",
              "    border-bottom-color: var(--fill-color);\n",
              "    animation:\n",
              "      spin 1s steps(1) infinite;\n",
              "  }\n",
              "\n",
              "  @keyframes spin {\n",
              "    0% {\n",
              "      border-color: transparent;\n",
              "      border-bottom-color: var(--fill-color);\n",
              "      border-left-color: var(--fill-color);\n",
              "    }\n",
              "    20% {\n",
              "      border-color: transparent;\n",
              "      border-left-color: var(--fill-color);\n",
              "      border-top-color: var(--fill-color);\n",
              "    }\n",
              "    30% {\n",
              "      border-color: transparent;\n",
              "      border-left-color: var(--fill-color);\n",
              "      border-top-color: var(--fill-color);\n",
              "      border-right-color: var(--fill-color);\n",
              "    }\n",
              "    40% {\n",
              "      border-color: transparent;\n",
              "      border-right-color: var(--fill-color);\n",
              "      border-top-color: var(--fill-color);\n",
              "    }\n",
              "    60% {\n",
              "      border-color: transparent;\n",
              "      border-right-color: var(--fill-color);\n",
              "    }\n",
              "    80% {\n",
              "      border-color: transparent;\n",
              "      border-right-color: var(--fill-color);\n",
              "      border-bottom-color: var(--fill-color);\n",
              "    }\n",
              "    90% {\n",
              "      border-color: transparent;\n",
              "      border-bottom-color: var(--fill-color);\n",
              "    }\n",
              "  }\n",
              "</style>\n",
              "\n",
              "  <script>\n",
              "    async function quickchart(key) {\n",
              "      const quickchartButtonEl =\n",
              "        document.querySelector('#' + key + ' button');\n",
              "      quickchartButtonEl.disabled = true;  // To prevent multiple clicks.\n",
              "      quickchartButtonEl.classList.add('colab-df-spinner');\n",
              "      try {\n",
              "        const charts = await google.colab.kernel.invokeFunction(\n",
              "            'suggestCharts', [key], {});\n",
              "      } catch (error) {\n",
              "        console.error('Error during call to suggestCharts:', error);\n",
              "      }\n",
              "      quickchartButtonEl.classList.remove('colab-df-spinner');\n",
              "      quickchartButtonEl.classList.add('colab-df-quickchart-complete');\n",
              "    }\n",
              "    (() => {\n",
              "      let quickchartButtonEl =\n",
              "        document.querySelector('#df-aa3bc371-9274-445b-b75d-be57956994d4 button');\n",
              "      quickchartButtonEl.style.display =\n",
              "        google.colab.kernel.accessAllowed ? 'block' : 'none';\n",
              "    })();\n",
              "  </script>\n",
              "</div>\n",
              "\n",
              "    </div>\n",
              "  </div>\n"
            ],
            "application/vnd.google.colaboratory.intrinsic+json": {
              "type": "dataframe",
              "summary": "{\n  \"name\": \"matches\",\n  \"rows\": 4,\n  \"fields\": [\n    {\n      \"column\": \"count\",\n      \"properties\": {\n        \"dtype\": \"number\",\n        \"std\": 0.0,\n        \"min\": 980.0,\n        \"max\": 980.0,\n        \"num_unique_values\": 1,\n        \"samples\": [\n          980.0\n        ],\n        \"semantic_type\": \"\",\n        \"description\": \"\"\n      }\n    },\n    {\n      \"column\": \"mean\",\n      \"properties\": {\n        \"dtype\": \"number\",\n        \"std\": 459726.960706707,\n        \"min\": 17.463136033229492,\n        \"max\": 919521.9316326531,\n        \"num_unique_values\": 4,\n        \"samples\": [\n          17.463136033229492\n        ],\n        \"semantic_type\": \"\",\n        \"description\": \"\"\n      }\n    },\n    {\n      \"column\": \"std\",\n      \"properties\": {\n        \"dtype\": \"number\",\n        \"std\": 188222.3076672084,\n        \"min\": 1.5800638354641046,\n        \"max\": 376463.4437614812,\n        \"num_unique_values\": 4,\n        \"samples\": [\n          21.606553344416266\n        ],\n        \"semantic_type\": \"\",\n        \"description\": \"\"\n      }\n    },\n    {\n      \"column\": \"min\",\n      \"properties\": {\n        \"dtype\": \"number\",\n        \"std\": 167982.83439957985,\n        \"min\": 1.0,\n        \"max\": 335982.0,\n        \"num_unique_values\": 4,\n        \"samples\": [\n          1.0\n        ],\n        \"semantic_type\": \"\",\n        \"description\": \"\"\n      }\n    },\n    {\n      \"column\": \"25%\",\n      \"properties\": {\n        \"dtype\": \"number\",\n        \"std\": 274140.2990039479,\n        \"min\": 6.0,\n        \"max\": 548338.25,\n        \"num_unique_values\": 4,\n        \"samples\": [\n          6.0\n        ],\n        \"semantic_type\": \"\",\n        \"description\": \"\"\n      }\n    },\n    {\n      \"column\": \"50%\",\n      \"properties\": {\n        \"dtype\": \"number\",\n        \"std\": 515870.0050652296,\n        \"min\": 8.0,\n        \"max\": 1031805.0,\n        \"num_unique_values\": 4,\n        \"samples\": [\n          8.0\n        ],\n        \"semantic_type\": \"\",\n        \"description\": \"\"\n      }\n    },\n    {\n      \"column\": \"75%\",\n      \"properties\": {\n        \"dtype\": \"number\",\n        \"std\": 627007.630001534,\n        \"min\": 20.0,\n        \"max\": 1254091.25,\n        \"num_unique_values\": 3,\n        \"samples\": [\n          1254091.25\n        ],\n        \"semantic_type\": \"\",\n        \"description\": \"\"\n      }\n    },\n    {\n      \"column\": \"max\",\n      \"properties\": {\n        \"dtype\": \"number\",\n        \"std\": 713080.3417369368,\n        \"min\": 20.0,\n        \"max\": 1426312.0,\n        \"num_unique_values\": 4,\n        \"samples\": [\n          146.0\n        ],\n        \"semantic_type\": \"\",\n        \"description\": \"\"\n      }\n    }\n  ]\n}"
            }
          },
          "metadata": {},
          "execution_count": 20
        }
      ]
    },
    {
      "cell_type": "markdown",
      "source": [
        "**Exploratory Data Analysis (EDA)**\n",
        "- Perform descriptive statistics to understand the data distribution.\n",
        "- Visualize relationships between variables using plots and graphs.\n",
        "- Identify trends or patterns that might influence match outcomes.\n"
      ],
      "metadata": {
        "id": "yiIOzZSfiC-L"
      }
    },
    {
      "cell_type": "code",
      "source": [
        "for i in matches.select_dtypes(include = 'number').columns:\n",
        "    sns.histplot(data = matches, x = i, kde = True)\n",
        "    plt.title(f\"{i}\")\n",
        "    plt.show()"
      ],
      "metadata": {
        "colab": {
          "base_uri": "https://localhost:8080/",
          "height": 1000
        },
        "id": "46IT84JJB39w",
        "outputId": "b9d54a12-1a24-4659-cdde-a6604498c79b"
      },
      "execution_count": 21,
      "outputs": [
        {
          "output_type": "display_data",
          "data": {
            "text/plain": [
              "<Figure size 640x480 with 1 Axes>"
            ],
            "image/png": "[encoded data removed]"
          },
          "metadata": {}
        },
        {
          "output_type": "display_data",
          "data": {
            "text/plain": [
              "<Figure size 640x480 with 1 Axes>"
            ],
            "image/png": "[encoded data removed]"
          },
          "metadata": {}
        },
        {
          "output_type": "display_data",
          "data": {
            "text/plain": [
              "<Figure size 640x480 with 1 Axes>"
            ],
            "image/png": "[encoded data removed]"
          },
          "metadata": {}
        },
        {
          "output_type": "display_data",
          "data": {
            "text/plain": [
              "<Figure size 640x480 with 1 Axes>"
            ],
            "image/png": "[encoded data removed]"
          },
          "metadata": {}
        }
      ]
    },
    {
      "cell_type": "code",
      "source": [
        "import plotly.express as px\n",
        "city_counts = matches['city'].value_counts().reset_index()\n",
        "city_counts.columns = ['city', 'count']\n",
        "\n",
        "fig = px.bar(city_counts, x='city', y='count',\n",
        "             title='Number of Matches Played in Different Cities',\n",
        "             labels={'city': 'City', 'count': 'Match Count'},\n",
        "             color='count', height=500)\n",
        "fig.update_layout(xaxis={'categoryorder':'total descending'})\n",
        "fig.update_layout(\n",
        "height = 500,\n",
        "width = 900)\n",
        "fig.show()"
      ],
      "metadata": {
        "colab": {
          "base_uri": "https://localhost:8080/",
          "height": 517
        },
        "id": "VF0o8YBsB_Af",
        "outputId": "90a9955c-dee2-4f0e-d61a-cbad821265be"
      },
      "execution_count": 22,
      "outputs": [
        {
          "output_type": "display_data",
          "data": {
            "text/html": [
              "<html>\n",
              "<head><meta charset=\"utf-8\" /></head>\n",
              "<body>\n",
              "    <div>            <script src=\"https://cdnjs.cloudflare.com/ajax/libs/mathjax/2.7.5/MathJax.js?config=TeX-AMS-MML_SVG\"></script><script type=\"text/javascript\">if (window.MathJax && window.MathJax.Hub && window.MathJax.Hub.Config) {window.MathJax.Hub.Config({SVG: {font: \"STIX-Web\"}});}</script>                <script type=\"text/javascript\">window.PlotlyConfig = {MathJaxConfig: 'local'};</script>\n",
              "        <script charset=\"utf-8\" src=\"https://cdn.plot.ly/plotly-2.35.2.min.js\"></script>                <div id=\"b8a16e07-e88f-4f69-b6e7-e53eaba1d98d\" class=\"plotly-graph-div\" style=\"height:500px; width:900px;\"></div>            <script type=\"text/javascript\">                                    window.PLOTLYENV=window.PLOTLYENV || {};                                    if (document.getElementById(\"b8a16e07-e88f-4f69-b6e7-e53eaba1d98d\")) {                    Plotly.newPlot(                        \"b8a16e07-e88f-4f69-b6e7-e53eaba1d98d\",                        [{\"alignmentgroup\":\"True\",\"hovertemplate\":\"City=%{x}\\u003cbr\\u003eMatch Count=%{marker.color}\\u003cextra\\u003e\\u003c\\u002fextra\\u003e\",\"legendgroup\":\"\",\"marker\":{\"color\":[208,87,82,81,70,56,55,53,37,36,29,24,15,14,13,13,12,12,10,9,8,7,7,6,6,6,5,5,3,3,3,3,2],\"coloraxis\":\"coloraxis\",\"pattern\":{\"shape\":\"\"}},\"name\":\"\",\"offsetgroup\":\"\",\"orientation\":\"v\",\"showlegend\":false,\"textposition\":\"auto\",\"x\":[\"Mumbai\",\"Kolkata\",\"Delhi\",\"Chennai\",\"Hyderabad\",\"Bangalore\",\"Chandigarh\",\"Jaipur\",\"Abu Dhabi\",\"Ahmedabad\",\"Bengaluru\",\"Pune\",\"Durban\",\"Lucknow\",\"Dharamsala\",\"Dubai\",\"Visakhapatnam\",\"Centurion\",\"Sharjah\",\"Navi Mumbai\",\"Johannesburg\",\"Cape Town\",\"Port Elizabeth\",\"Indore\",\"Ranchi\",\"Cuttack\",\"Raipur\",\"Mohali\",\"East London\",\"Kimberley\",\"Nagpur\",\"Guwahati\",\"Bloemfontein\"],\"xaxis\":\"x\",\"y\":[208,87,82,81,70,56,55,53,37,36,29,24,15,14,13,13,12,12,10,9,8,7,7,6,6,6,5,5,3,3,3,3,2],\"yaxis\":\"y\",\"type\":\"bar\"}],                        {\"template\":{\"data\":{\"histogram2dcontour\":[{\"type\":\"histogram2dcontour\",\"colorbar\":{\"outlinewidth\":0,\"ticks\":\"\"},\"colorscale\":[[0.0,\"#0d0887\"],[0.1111111111111111,\"#46039f\"],[0.2222222222222222,\"#7201a8\"],[0.3333333333333333,\"#9c179e\"],[0.4444444444444444,\"#bd3786\"],[0.5555555555555556,\"#d8576b\"],[0.6666666666666666,\"#ed7953\"],[0.7777777777777778,\"#fb9f3a\"],[0.8888888888888888,\"#fdca26\"],[1.0,\"#f0f921\"]]}],\"choropleth\":[{\"type\":\"choropleth\",\"colorbar\":{\"outlinewidth\":0,\"ticks\":\"\"}}],\"histogram2d\":[{\"type\":\"histogram2d\",\"colorbar\":{\"outlinewidth\":0,\"ticks\":\"\"},\"colorscale\":[[0.0,\"#0d0887\"],[0.1111111111111111,\"#46039f\"],[0.2222222222222222,\"#7201a8\"],[0.3333333333333333,\"#9c179e\"],[0.4444444444444444,\"#bd3786\"],[0.5555555555555556,\"#d8576b\"],[0.6666666666666666,\"#ed7953\"],[0.7777777777777778,\"#fb9f3a\"],[0.8888888888888888,\"#fdca26\"],[1.0,\"#f0f921\"]]}],\"heatmap\":[{\"type\":\"heatmap\",\"colorbar\":{\"outlinewidth\":0,\"ticks\":\"\"},\"colorscale\":[[0.0,\"#0d0887\"],[0.1111111111111111,\"#46039f\"],[0.2222222222222222,\"#7201a8\"],[0.3333333333333333,\"#9c179e\"],[0.4444444444444444,\"#bd3786\"],[0.5555555555555556,\"#d8576b\"],[0.6666666666666666,\"#ed7953\"],[0.7777777777777778,\"#fb9f3a\"],[0.8888888888888888,\"#fdca26\"],[1.0,\"#f0f921\"]]}],\"heatmapgl\":[{\"type\":\"heatmapgl\",\"colorbar\":{\"outlinewidth\":0,\"ticks\":\"\"},\"colorscale\":[[0.0,\"#0d0887\"],[0.1111111111111111,\"#46039f\"],[0.2222222222222222,\"#7201a8\"],[0.3333333333333333,\"#9c179e\"],[0.4444444444444444,\"#bd3786\"],[0.5555555555555556,\"#d8576b\"],[0.6666666666666666,\"#ed7953\"],[0.7777777777777778,\"#fb9f3a\"],[0.8888888888888888,\"#fdca26\"],[1.0,\"#f0f921\"]]}],\"contourcarpet\":[{\"type\":\"contourcarpet\",\"colorbar\":{\"outlinewidth\":0,\"ticks\":\"\"}}],\"contour\":[{\"type\":\"contour\",\"colorbar\":{\"outlinewidth\":0,\"ticks\":\"\"},\"colorscale\":[[0.0,\"#0d0887\"],[0.1111111111111111,\"#46039f\"],[0.2222222222222222,\"#7201a8\"],[0.3333333333333333,\"#9c179e\"],[0.4444444444444444,\"#bd3786\"],[0.5555555555555556,\"#d8576b\"],[0.6666666666666666,\"#ed7953\"],[0.7777777777777778,\"#fb9f3a\"],[0.8888888888888888,\"#fdca26\"],[1.0,\"#f0f921\"]]}],\"surface\":[{\"type\":\"surface\",\"colorbar\":{\"outlinewidth\":0,\"ticks\":\"\"},\"colorscale\":[[0.0,\"#0d0887\"],[0.1111111111111111,\"#46039f\"],[0.2222222222222222,\"#7201a8\"],[0.3333333333333333,\"#9c179e\"],[0.4444444444444444,\"#bd3786\"],[0.5555555555555556,\"#d8576b\"],[0.6666666666666666,\"#ed7953\"],[0.7777777777777778,\"#fb9f3a\"],[0.8888888888888888,\"#fdca26\"],[1.0,\"#f0f921\"]]}],\"mesh3d\":[{\"type\":\"mesh3d\",\"colorbar\":{\"outlinewidth\":0,\"ticks\":\"\"}}],\"scatter\":[{\"fillpattern\":{\"fillmode\":\"overlay\",\"size\":10,\"solidity\":0.2},\"type\":\"scatter\"}],\"parcoords\":[{\"type\":\"parcoords\",\"line\":{\"colorbar\":{\"outlinewidth\":0,\"ticks\":\"\"}}}],\"scatterpolargl\":[{\"type\":\"scatterpolargl\",\"marker\":{\"colorbar\":{\"outlinewidth\":0,\"ticks\":\"\"}}}],\"bar\":[{\"error_x\":{\"color\":\"#2a3f5f\"},\"error_y\":{\"color\":\"#2a3f5f\"},\"marker\":{\"line\":{\"color\":\"#E5ECF6\",\"width\":0.5},\"pattern\":{\"fillmode\":\"overlay\",\"size\":10,\"solidity\":0.2}},\"type\":\"bar\"}],\"scattergeo\":[{\"type\":\"scattergeo\",\"marker\":{\"colorbar\":{\"outlinewidth\":0,\"ticks\":\"\"}}}],\"scatterpolar\":[{\"type\":\"scatterpolar\",\"marker\":{\"colorbar\":{\"outlinewidth\":0,\"ticks\":\"\"}}}],\"histogram\":[{\"marker\":{\"pattern\":{\"fillmode\":\"overlay\",\"size\":10,\"solidity\":0.2}},\"type\":\"histogram\"}],\"scattergl\":[{\"type\":\"scattergl\",\"marker\":{\"colorbar\":{\"outlinewidth\":0,\"ticks\":\"\"}}}],\"scatter3d\":[{\"type\":\"scatter3d\",\"line\":{\"colorbar\":{\"outlinewidth\":0,\"ticks\":\"\"}},\"marker\":{\"colorbar\":{\"outlinewidth\":0,\"ticks\":\"\"}}}],\"scattermapbox\":[{\"type\":\"scattermapbox\",\"marker\":{\"colorbar\":{\"outlinewidth\":0,\"ticks\":\"\"}}}],\"scatterternary\":[{\"type\":\"scatterternary\",\"marker\":{\"colorbar\":{\"outlinewidth\":0,\"ticks\":\"\"}}}],\"scattercarpet\":[{\"type\":\"scattercarpet\",\"marker\":{\"colorbar\":{\"outlinewidth\":0,\"ticks\":\"\"}}}],\"carpet\":[{\"aaxis\":{\"endlinecolor\":\"#2a3f5f\",\"gridcolor\":\"white\",\"linecolor\":\"white\",\"minorgridcolor\":\"white\",\"startlinecolor\":\"#2a3f5f\"},\"baxis\":{\"endlinecolor\":\"#2a3f5f\",\"gridcolor\":\"white\",\"linecolor\":\"white\",\"minorgridcolor\":\"white\",\"startlinecolor\":\"#2a3f5f\"},\"type\":\"carpet\"}],\"table\":[{\"cells\":{\"fill\":{\"color\":\"#EBF0F8\"},\"line\":{\"color\":\"white\"}},\"header\":{\"fill\":{\"color\":\"#C8D4E3\"},\"line\":{\"color\":\"white\"}},\"type\":\"table\"}],\"barpolar\":[{\"marker\":{\"line\":{\"color\":\"#E5ECF6\",\"width\":0.5},\"pattern\":{\"fillmode\":\"overlay\",\"size\":10,\"solidity\":0.2}},\"type\":\"barpolar\"}],\"pie\":[{\"automargin\":true,\"type\":\"pie\"}]},\"layout\":{\"autotypenumbers\":\"strict\",\"colorway\":[\"#636efa\",\"#EF553B\",\"#00cc96\",\"#ab63fa\",\"#FFA15A\",\"#19d3f3\",\"#FF6692\",\"#B6E880\",\"#FF97FF\",\"#FECB52\"],\"font\":{\"color\":\"#2a3f5f\"},\"hovermode\":\"closest\",\"hoverlabel\":{\"align\":\"left\"},\"paper_bgcolor\":\"white\",\"plot_bgcolor\":\"#E5ECF6\",\"polar\":{\"bgcolor\":\"#E5ECF6\",\"angularaxis\":{\"gridcolor\":\"white\",\"linecolor\":\"white\",\"ticks\":\"\"},\"radialaxis\":{\"gridcolor\":\"white\",\"linecolor\":\"white\",\"ticks\":\"\"}},\"ternary\":{\"bgcolor\":\"#E5ECF6\",\"aaxis\":{\"gridcolor\":\"white\",\"linecolor\":\"white\",\"ticks\":\"\"},\"baxis\":{\"gridcolor\":\"white\",\"linecolor\":\"white\",\"ticks\":\"\"},\"caxis\":{\"gridcolor\":\"white\",\"linecolor\":\"white\",\"ticks\":\"\"}},\"coloraxis\":{\"colorbar\":{\"outlinewidth\":0,\"ticks\":\"\"}},\"colorscale\":{\"sequential\":[[0.0,\"#0d0887\"],[0.1111111111111111,\"#46039f\"],[0.2222222222222222,\"#7201a8\"],[0.3333333333333333,\"#9c179e\"],[0.4444444444444444,\"#bd3786\"],[0.5555555555555556,\"#d8576b\"],[0.6666666666666666,\"#ed7953\"],[0.7777777777777778,\"#fb9f3a\"],[0.8888888888888888,\"#fdca26\"],[1.0,\"#f0f921\"]],\"sequentialminus\":[[0.0,\"#0d0887\"],[0.1111111111111111,\"#46039f\"],[0.2222222222222222,\"#7201a8\"],[0.3333333333333333,\"#9c179e\"],[0.4444444444444444,\"#bd3786\"],[0.5555555555555556,\"#d8576b\"],[0.6666666666666666,\"#ed7953\"],[0.7777777777777778,\"#fb9f3a\"],[0.8888888888888888,\"#fdca26\"],[1.0,\"#f0f921\"]],\"diverging\":[[0,\"#8e0152\"],[0.1,\"#c51b7d\"],[0.2,\"#de77ae\"],[0.3,\"#f1b6da\"],[0.4,\"#fde0ef\"],[0.5,\"#f7f7f7\"],[0.6,\"#e6f5d0\"],[0.7,\"#b8e186\"],[0.8,\"#7fbc41\"],[0.9,\"#4d9221\"],[1,\"#276419\"]]},\"xaxis\":{\"gridcolor\":\"white\",\"linecolor\":\"white\",\"ticks\":\"\",\"title\":{\"standoff\":15},\"zerolinecolor\":\"white\",\"automargin\":true,\"zerolinewidth\":2},\"yaxis\":{\"gridcolor\":\"white\",\"linecolor\":\"white\",\"ticks\":\"\",\"title\":{\"standoff\":15},\"zerolinecolor\":\"white\",\"automargin\":true,\"zerolinewidth\":2},\"scene\":{\"xaxis\":{\"backgroundcolor\":\"#E5ECF6\",\"gridcolor\":\"white\",\"linecolor\":\"white\",\"showbackground\":true,\"ticks\":\"\",\"zerolinecolor\":\"white\",\"gridwidth\":2},\"yaxis\":{\"backgroundcolor\":\"#E5ECF6\",\"gridcolor\":\"white\",\"linecolor\":\"white\",\"showbackground\":true,\"ticks\":\"\",\"zerolinecolor\":\"white\",\"gridwidth\":2},\"zaxis\":{\"backgroundcolor\":\"#E5ECF6\",\"gridcolor\":\"white\",\"linecolor\":\"white\",\"showbackground\":true,\"ticks\":\"\",\"zerolinecolor\":\"white\",\"gridwidth\":2}},\"shapedefaults\":{\"line\":{\"color\":\"#2a3f5f\"}},\"annotationdefaults\":{\"arrowcolor\":\"#2a3f5f\",\"arrowhead\":0,\"arrowwidth\":1},\"geo\":{\"bgcolor\":\"white\",\"landcolor\":\"#E5ECF6\",\"subunitcolor\":\"white\",\"showland\":true,\"showlakes\":true,\"lakecolor\":\"white\"},\"title\":{\"x\":0.05},\"mapbox\":{\"style\":\"light\"}}},\"xaxis\":{\"anchor\":\"y\",\"domain\":[0.0,1.0],\"title\":{\"text\":\"City\"},\"categoryorder\":\"total descending\"},\"yaxis\":{\"anchor\":\"x\",\"domain\":[0.0,1.0],\"title\":{\"text\":\"Match Count\"}},\"coloraxis\":{\"colorbar\":{\"title\":{\"text\":\"Match Count\"}},\"colorscale\":[[0.0,\"#0d0887\"],[0.1111111111111111,\"#46039f\"],[0.2222222222222222,\"#7201a8\"],[0.3333333333333333,\"#9c179e\"],[0.4444444444444444,\"#bd3786\"],[0.5555555555555556,\"#d8576b\"],[0.6666666666666666,\"#ed7953\"],[0.7777777777777778,\"#fb9f3a\"],[0.8888888888888888,\"#fdca26\"],[1.0,\"#f0f921\"]]},\"legend\":{\"tracegroupgap\":0},\"title\":{\"text\":\"Number of Matches Played in Different Cities\"},\"barmode\":\"relative\",\"height\":500,\"width\":900},                        {\"responsive\": true}                    ).then(function(){\n",
              "                            \n",
              "var gd = document.getElementById('b8a16e07-e88f-4f69-b6e7-e53eaba1d98d');\n",
              "var x = new MutationObserver(function (mutations, observer) {{\n",
              "        var display = window.getComputedStyle(gd).display;\n",
              "        if (!display || display === 'none') {{\n",
              "            console.log([gd, 'removed!']);\n",
              "            Plotly.purge(gd);\n",
              "            observer.disconnect();\n",
              "        }}\n",
              "}});\n",
              "\n",
              "// Listen for the removal of the full notebook cells\n",
              "var notebookContainer = gd.closest('#notebook-container');\n",
              "if (notebookContainer) {{\n",
              "    x.observe(notebookContainer, {childList: true});\n",
              "}}\n",
              "\n",
              "// Listen for the clearing of the current output cell\n",
              "var outputEl = gd.closest('.output');\n",
              "if (outputEl) {{\n",
              "    x.observe(outputEl, {childList: true});\n",
              "}}\n",
              "\n",
              "                        })                };                            </script>        </div>\n",
              "</body>\n",
              "</html>"
            ]
          },
          "metadata": {}
        }
      ]
    },
    {
      "cell_type": "code",
      "source": [
        "matches['result_description'] = matches['result'] + ' (' + matches['result_margin'].astype(str) + ')'\n",
        "\n",
        "fig = px.scatter(\n",
        "    matches,\n",
        "    x='result_margin',\n",
        "    y='target_runs',\n",
        "    color='result',  # Differentiates based on result type (runs/wickets)\n",
        "    title='Result Margin vs Target Runs',\n",
        "    hover_data=['result_description']\n",
        ")\n",
        "fig.show()\n"
      ],
      "metadata": {
        "colab": {
          "base_uri": "https://localhost:8080/",
          "height": 542
        },
        "id": "f8WfDKp1CA88",
        "outputId": "1613ba89-e168-44eb-e020-a0de4d854c82"
      },
      "execution_count": 23,
      "outputs": [
        {
          "output_type": "display_data",
          "data": {
            "text/html": [
              "<html>\n",
              "<head><meta charset=\"utf-8\" /></head>\n",
              "<body>\n",
              "    <div>            <script src=\"https://cdnjs.cloudflare.com/ajax/libs/mathjax/2.7.5/MathJax.js?config=TeX-AMS-MML_SVG\"></script><script type=\"text/javascript\">if (window.MathJax && window.MathJax.Hub && window.MathJax.Hub.Config) {window.MathJax.Hub.Config({SVG: {font: \"STIX-Web\"}});}</script>                <script type=\"text/javascript\">window.PlotlyConfig = {MathJaxConfig: 'local'};</script>\n",
              "        <script charset=\"utf-8\" src=\"https://cdn.plot.ly/plotly-2.35.2.min.js\"></script>                <div id=\"dc4e95f3-3908-451d-a4d6-1af5dbbf3ac0\" class=\"plotly-graph-div\" style=\"height:525px; width:100%;\"></div>            <script type=\"text/javascript\">                                    window.PLOTLYENV=window.PLOTLYENV || {};                                    if (document.getElementById(\"dc4e95f3-3908-451d-a4d6-1af5dbbf3ac0\")) {                    Plotly.newPlot(                        \"dc4e95f3-3908-451d-a4d6-1af5dbbf3ac0\",                        [{\"customdata\":[[\"runs (140.0)\"],[\"runs (33.0)\"],[\"runs (6.0)\"],[\"runs (66.0)\"],[\"runs (13.0)\"],[\"runs (10.0)\"],[\"runs (45.0)\"],[\"runs (9.0)\"],[\"runs (3.0)\"],[\"runs (29.0)\"],[\"runs (5.0)\"],[\"runs (18.0)\"],[\"runs (23.0)\"],[\"runs (23.0)\"],[\"runs (12.0)\"],[\"runs (6.0)\"],[\"runs (65.0)\"],[\"runs (25.0)\"],[\"runs (3.0)\"],[\"runs (1.0)\"],[\"runs (14.0)\"],[\"runs (10.0)\"],[\"runs (41.0)\"],[\"runs (105.0)\"],[\"runs (19.0)\"],[\"runs (75.0)\"],[\"runs (92.0)\"],[\"runs (11.0)\"],[\"runs (24.0)\"],[\"runs (9.0)\"],[\"runs (12.0)\"],[\"runs (27.0)\"],[\"runs (92.0)\"],[\"runs (3.0)\"],[\"runs (38.0)\"],[\"runs (9.0)\"],[\"runs (8.0)\"],[\"runs (18.0)\"],[\"runs (78.0)\"],[\"runs (78.0)\"],[\"runs (19.0)\"],[\"runs (12.0)\"],[\"runs (16.0)\"],[\"runs (53.0)\"],[\"runs (12.0)\"],[\"runs (2.0)\"],[\"runs (1.0)\"],[\"runs (14.0)\"],[\"runs (24.0)\"],[\"runs (12.0)\"],[\"runs (6.0)\"],[\"runs (11.0)\"],[\"runs (4.0)\"],[\"runs (31.0)\"],[\"runs (55.0)\"],[\"runs (98.0)\"],[\"runs (6.0)\"],[\"runs (34.0)\"],[\"runs (10.0)\"],[\"runs (36.0)\"],[\"runs (31.0)\"],[\"runs (17.0)\"],[\"runs (39.0)\"],[\"runs (17.0)\"],[\"runs (41.0)\"],[\"runs (40.0)\"],[\"runs (67.0)\"],[\"runs (24.0)\"],[\"runs (23.0)\"],[\"runs (63.0)\"],[\"runs (37.0)\"],[\"runs (2.0)\"],[\"runs (24.0)\"],[\"runs (14.0)\"],[\"runs (37.0)\"],[\"runs (13.0)\"],[\"runs (39.0)\"],[\"runs (57.0)\"],[\"runs (11.0)\"],[\"runs (35.0)\"],[\"runs (38.0)\"],[\"runs (22.0)\"],[\"runs (2.0)\"],[\"runs (9.0)\"],[\"runs (33.0)\"],[\"runs (21.0)\"],[\"runs (16.0)\"],[\"runs (48.0)\"],[\"runs (8.0)\"],[\"runs (29.0)\"],[\"runs (37.0)\"],[\"runs (17.0)\"],[\"runs (19.0)\"],[\"runs (23.0)\"],[\"runs (20.0)\"],[\"runs (85.0)\"],[\"runs (10.0)\"],[\"runs (32.0)\"],[\"runs (63.0)\"],[\"runs (76.0)\"],[\"runs (18.0)\"],[\"runs (10.0)\"],[\"runs (29.0)\"],[\"runs (111.0)\"],[\"runs (82.0)\"],[\"runs (43.0)\"],[\"runs (58.0)\"],[\"runs (31.0)\"],[\"runs (20.0)\"],[\"runs (74.0)\"],[\"runs (22.0)\"],[\"runs (42.0)\"],[\"runs (27.0)\"],[\"runs (2.0)\"],[\"runs (59.0)\"],[\"runs (46.0)\"],[\"runs (37.0)\"],[\"runs (7.0)\"],[\"runs (47.0)\"],[\"runs (1.0)\"],[\"runs (10.0)\"],[\"runs (43.0)\"],[\"runs (25.0)\"],[\"runs (27.0)\"],[\"runs (32.0)\"],[\"runs (21.0)\"],[\"runs (9.0)\"],[\"runs (18.0)\"],[\"runs (38.0)\"],[\"runs (86.0)\"],[\"runs (2.0)\"],[\"runs (5.0)\"],[\"runs (9.0)\"],[\"runs (19.0)\"],[\"runs (44.0)\"],[\"runs (48.0)\"],[\"runs (4.0)\"],[\"runs (87.0)\"],[\"runs (86.0)\"],[\"runs (58.0)\"],[\"runs (14.0)\"],[\"runs (4.0)\"],[\"runs (15.0)\"],[\"runs (60.0)\"],[\"runs (65.0)\"],[\"runs (77.0)\"],[\"runs (4.0)\"],[\"runs (30.0)\"],[\"runs (33.0)\"],[\"runs (14.0)\"],[\"runs (7.0)\"],[\"runs (23.0)\"],[\"runs (50.0)\"],[\"runs (24.0)\"],[\"runs (48.0)\"],[\"runs (23.0)\"],[\"runs (41.0)\"],[\"runs (93.0)\"],[\"runs (72.0)\"],[\"runs (7.0)\"],[\"runs (2.0)\"],[\"runs (4.0)\"],[\"runs (23.0)\"],[\"runs (15.0)\"],[\"runs (34.0)\"],[\"runs (10.0)\"],[\"runs (19.0)\"],[\"runs (44.0)\"],[\"runs (32.0)\"],[\"runs (32.0)\"],[\"runs (16.0)\"],[\"runs (62.0)\"],[\"runs (25.0)\"],[\"runs (30.0)\"],[\"runs (15.0)\"],[\"runs (16.0)\"],[\"runs (28.0)\"],[\"runs (24.0)\"],[\"runs (1.0)\"],[\"runs (26.0)\"],[\"runs (45.0)\"],[\"runs (18.0)\"],[\"runs (4.0)\"],[\"runs (18.0)\"],[\"runs (16.0)\"],[\"runs (27.0)\"],[\"runs (37.0)\"],[\"runs (20.0)\"],[\"runs (97.0)\"],[\"runs (20.0)\"],[\"runs (2.0)\"],[\"runs (8.0)\"],[\"runs (22.0)\"],[\"runs (23.0)\"],[\"runs (14.0)\"],[\"runs (24.0)\"],[\"runs (35.0)\"],[\"runs (138.0)\"],[\"runs (13.0)\"],[\"runs (7.0)\"],[\"runs (6.0)\"],[\"runs (39.0)\"],[\"runs (12.0)\"],[\"runs (5.0)\"],[\"runs (22.0)\"],[\"runs (5.0)\"],[\"runs (9.0)\"],[\"runs (25.0)\"],[\"runs (71.0)\"],[\"runs (41.0)\"],[\"runs (45.0)\"],[\"runs (10.0)\"],[\"runs (25.0)\"],[\"runs (27.0)\"],[\"runs (15.0)\"],[\"runs (7.0)\"],[\"runs (9.0)\"],[\"runs (85.0)\"],[\"runs (1.0)\"],[\"runs (80.0)\"],[\"runs (82.0)\"],[\"runs (22.0)\"],[\"runs (22.0)\"],[\"runs (8.0)\"],[\"runs (35.0)\"],[\"runs (15.0)\"],[\"runs (17.0)\"],[\"runs (51.0)\"],[\"runs (5.0)\"],[\"runs (15.0)\"],[\"runs (14.0)\"],[\"runs (82.0)\"],[\"runs (26.0)\"],[\"runs (48.0)\"],[\"runs (19.0)\"],[\"runs (146.0)\"],[\"runs (14.0)\"],[\"runs (7.0)\"],[\"runs (9.0)\"],[\"runs (10.0)\"],[\"runs (10.0)\"],[\"runs (19.0)\"],[\"runs (4.0)\"],[\"runs (71.0)\"],[\"runs (46.0)\"],[\"runs (15.0)\"],[\"runs (64.0)\"],[\"runs (4.0)\"],[\"runs (4.0)\"],[\"runs (31.0)\"],[\"runs (13.0)\"],[\"runs (55.0)\"],[\"runs (11.0)\"],[\"runs (13.0)\"],[\"runs (14.0)\"],[\"runs (4.0)\"],[\"runs (13.0)\"],[\"runs (5.0)\"],[\"runs (15.0)\"],[\"runs (102.0)\"],[\"runs (31.0)\"],[\"runs (3.0)\"],[\"runs (14.0)\"],[\"runs (34.0)\"],[\"runs (30.0)\"],[\"runs (11.0)\"],[\"runs (25.0)\"],[\"runs (14.0)\"],[\"runs (37.0)\"],[\"runs (14.0)\"],[\"runs (28.0)\"],[\"runs (6.0)\"],[\"runs (118.0)\"],[\"runs (8.0)\"],[\"runs (14.0)\"],[\"runs (37.0)\"],[\"runs (22.0)\"],[\"runs (40.0)\"],[\"runs (39.0)\"],[\"runs (12.0)\"],[\"runs (40.0)\"],[\"runs (10.0)\"],[\"runs (1.0)\"],[\"runs (17.0)\"],[\"runs (46.0)\"],[\"runs (16.0)\"],[\"runs (34.0)\"],[\"runs (45.0)\"],[\"runs (80.0)\"],[\"runs (1.0)\"],[\"runs (10.0)\"],[\"runs (16.0)\"],[\"runs (49.0)\"],[\"runs (97.0)\"],[\"runs (44.0)\"],[\"runs (15.0)\"],[\"runs (37.0)\"],[\"runs (48.0)\"],[\"runs (7.0)\"],[\"runs (18.0)\"],[\"runs (34.0)\"],[\"runs (59.0)\"],[\"runs (57.0)\"],[\"runs (10.0)\"],[\"runs (69.0)\"],[\"runs (46.0)\"],[\"runs (2.0)\"],[\"runs (37.0)\"],[\"runs (82.0)\"],[\"runs (20.0)\"],[\"runs (13.0)\"],[\"runs (59.0)\"],[\"runs (12.0)\"],[\"runs (88.0)\"],[\"runs (60.0)\"],[\"runs (57.0)\"],[\"runs (17.0)\"],[\"runs (10.0)\"],[\"runs (4.0)\"],[\"runs (10.0)\"],[\"runs (6.0)\"],[\"runs (13.0)\"],[\"runs (38.0)\"],[\"runs (45.0)\"],[\"runs (18.0)\"],[\"runs (69.0)\"],[\"runs (1.0)\"],[\"runs (34.0)\"],[\"runs (55.0)\"],[\"runs (20.0)\"],[\"runs (2.0)\"],[\"runs (33.0)\"],[\"runs (5.0)\"],[\"runs (54.0)\"],[\"runs (6.0)\"],[\"runs (4.0)\"],[\"runs (86.0)\"],[\"runs (42.0)\"],[\"runs (27.0)\"],[\"runs (61.0)\"],[\"runs (23.0)\"],[\"runs (14.0)\"],[\"runs (54.0)\"],[\"runs (12.0)\"],[\"runs (44.0)\"],[\"runs (3.0)\"],[\"runs (23.0)\"],[\"runs (12.0)\"],[\"runs (37.0)\"],[\"runs (18.0)\"],[\"runs (16.0)\"],[\"runs (7.0)\"],[\"runs (18.0)\"],[\"runs (15.0)\"],[\"runs (8.0)\"],[\"runs (36.0)\"],[\"runs (11.0)\"],[\"runs (29.0)\"],[\"runs (20.0)\"],[\"runs (6.0)\"],[\"runs (13.0)\"],[\"runs (13.0)\"],[\"runs (21.0)\"],[\"runs (5.0)\"],[\"runs (75.0)\"],[\"runs (67.0)\"],[\"runs (91.0)\"],[\"runs (52.0)\"],[\"runs (62.0)\"],[\"runs (54.0)\"],[\"runs (54.0)\"],[\"runs (24.0)\"],[\"runs (17.0)\"],[\"runs (3.0)\"],[\"runs (2.0)\"],[\"runs (14.0)\"],[\"runs (7.0)\"],[\"runs (50.0)\"],[\"runs (72.0)\"],[\"runs (12.0)\"],[\"runs (5.0)\"],[\"runs (81.0)\"],[\"runs (57.0)\"],[\"runs (3.0)\"],[\"runs (23.0)\"],[\"runs (23.0)\"],[\"runs (8.0)\"],[\"runs (14.0)\"],[\"runs (10.0)\"],[\"runs (24.0)\"],[\"runs (7.0)\"],[\"runs (13.0)\"],[\"runs (7.0)\"],[\"runs (49.0)\"],[\"runs (7.0)\"],[\"runs (55.0)\"],[\"runs (21.0)\"],[\"runs (32.0)\"],[\"runs (56.0)\"],[\"runs (9.0)\"],[\"runs (18.0)\"],[\"runs (5.0)\"],[\"runs (5.0)\"],[\"runs (56.0)\"],[\"runs (27.0)\"],[\"runs (27.0)\"],[\"runs (31.0)\"],[\"runs (112.0)\"],[\"runs (34.0)\"],[\"runs (5.0)\"],[\"runs (15.0)\"],[\"runs (77.0)\"],[\"runs (1.0)\"],[\"runs (15.0)\"],[\"runs (81.0)\"],[\"runs (62.0)\"],[\"runs (4.0)\"],[\"runs (20.0)\"],[\"runs (6.0)\"],[\"runs (63.0)\"],[\"runs (31.0)\"],[\"runs (12.0)\"],[\"runs (21.0)\"],[\"runs (20.0)\"],[\"runs (28.0)\"],[\"runs (106.0)\"],[\"runs (29.0)\"],[\"runs (33.0)\"],[\"runs (2.0)\"],[\"runs (20.0)\"],[\"runs (25.0)\"],[\"runs (9.0)\"],[\"runs (67.0)\"],[\"runs (1.0)\"],[\"runs (4.0)\"],[\"runs (35.0)\"],[\"runs (10.0)\"],[\"runs (78.0)\"],[\"runs (1.0)\"],[\"runs (24.0)\"],[\"runs (28.0)\"],[\"runs (98.0)\"],[\"runs (20.0)\"],[\"runs (60.0)\"],[\"runs (35.0)\"],[\"runs (18.0)\"],[\"runs (47.0)\"],[\"runs (19.0)\"],[\"runs (18.0)\"],[\"runs (27.0)\"],[\"runs (36.0)\"]],\"hovertemplate\":\"result=runs\\u003cbr\\u003eresult_margin=%{x}\\u003cbr\\u003etarget_runs=%{y}\\u003cbr\\u003eresult_description=%{customdata[0]}\\u003cextra\\u003e\\u003c\\u002fextra\\u003e\",\"legendgroup\":\"runs\",\"marker\":{\"color\":\"#636efa\",\"symbol\":\"circle\"},\"mode\":\"markers\",\"name\":\"runs\",\"orientation\":\"v\",\"showlegend\":true,\"x\":[140.0,33.0,6.0,66.0,13.0,10.0,45.0,9.0,3.0,29.0,5.0,18.0,23.0,23.0,12.0,6.0,65.0,25.0,3.0,1.0,14.0,10.0,41.0,105.0,19.0,75.0,92.0,11.0,24.0,9.0,12.0,27.0,92.0,3.0,38.0,9.0,8.0,18.0,78.0,78.0,19.0,12.0,16.0,53.0,12.0,2.0,1.0,14.0,24.0,12.0,6.0,11.0,4.0,31.0,55.0,98.0,6.0,34.0,10.0,36.0,31.0,17.0,39.0,17.0,41.0,40.0,67.0,24.0,23.0,63.0,37.0,2.0,24.0,14.0,37.0,13.0,39.0,57.0,11.0,35.0,38.0,22.0,2.0,9.0,33.0,21.0,16.0,48.0,8.0,29.0,37.0,17.0,19.0,23.0,20.0,85.0,10.0,32.0,63.0,76.0,18.0,10.0,29.0,111.0,82.0,43.0,58.0,31.0,20.0,74.0,22.0,42.0,27.0,2.0,59.0,46.0,37.0,7.0,47.0,1.0,10.0,43.0,25.0,27.0,32.0,21.0,9.0,18.0,38.0,86.0,2.0,5.0,9.0,19.0,44.0,48.0,4.0,87.0,86.0,58.0,14.0,4.0,15.0,60.0,65.0,77.0,4.0,30.0,33.0,14.0,7.0,23.0,50.0,24.0,48.0,23.0,41.0,93.0,72.0,7.0,2.0,4.0,23.0,15.0,34.0,10.0,19.0,44.0,32.0,32.0,16.0,62.0,25.0,30.0,15.0,16.0,28.0,24.0,1.0,26.0,45.0,18.0,4.0,18.0,16.0,27.0,37.0,20.0,97.0,20.0,2.0,8.0,22.0,23.0,14.0,24.0,35.0,138.0,13.0,7.0,6.0,39.0,12.0,5.0,22.0,5.0,9.0,25.0,71.0,41.0,45.0,10.0,25.0,27.0,15.0,7.0,9.0,85.0,1.0,80.0,82.0,22.0,22.0,8.0,35.0,15.0,17.0,51.0,5.0,15.0,14.0,82.0,26.0,48.0,19.0,146.0,14.0,7.0,9.0,10.0,10.0,19.0,4.0,71.0,46.0,15.0,64.0,4.0,4.0,31.0,13.0,55.0,11.0,13.0,14.0,4.0,13.0,5.0,15.0,102.0,31.0,3.0,14.0,34.0,30.0,11.0,25.0,14.0,37.0,14.0,28.0,6.0,118.0,8.0,14.0,37.0,22.0,40.0,39.0,12.0,40.0,10.0,1.0,17.0,46.0,16.0,34.0,45.0,80.0,1.0,10.0,16.0,49.0,97.0,44.0,15.0,37.0,48.0,7.0,18.0,34.0,59.0,57.0,10.0,69.0,46.0,2.0,37.0,82.0,20.0,13.0,59.0,12.0,88.0,60.0,57.0,17.0,10.0,4.0,10.0,6.0,13.0,38.0,45.0,18.0,69.0,1.0,34.0,55.0,20.0,2.0,33.0,5.0,54.0,6.0,4.0,86.0,42.0,27.0,61.0,23.0,14.0,54.0,12.0,44.0,3.0,23.0,12.0,37.0,18.0,16.0,7.0,18.0,15.0,8.0,36.0,11.0,29.0,20.0,6.0,13.0,13.0,21.0,5.0,75.0,67.0,91.0,52.0,62.0,54.0,54.0,24.0,17.0,3.0,2.0,14.0,7.0,50.0,72.0,12.0,5.0,81.0,57.0,3.0,23.0,23.0,8.0,14.0,10.0,24.0,7.0,13.0,7.0,49.0,7.0,55.0,21.0,32.0,56.0,9.0,18.0,5.0,5.0,56.0,27.0,27.0,31.0,112.0,34.0,5.0,15.0,77.0,1.0,15.0,81.0,62.0,4.0,20.0,6.0,63.0,31.0,12.0,21.0,20.0,28.0,106.0,29.0,33.0,2.0,20.0,25.0,9.0,67.0,1.0,4.0,35.0,10.0,78.0,1.0,24.0,28.0,98.0,20.0,60.0,35.0,18.0,47.0,19.0,18.0,27.0,36.0],\"xaxis\":\"x\",\"y\":[223.0,241.0,209.0,183.0,179.0,192.0,197.0,179.0,157.0,163.0,130.0,182.0,205.0,134.0,195.0,89.0,198.0,179.0,53.0,190.0,127.0,212.0,222.0,193.0,166.0,134.0,180.0,69.0,185.0,190.0,169.0,140.0,188.0,120.0,165.0,149.0,146.0,164.0,179.0,212.0,146.0,187.0,158.0,167.0,174.0,146.0,135.0,151.0,117.0,171.0,144.0,162.0,213.0,191.0,165.0,219.0,171.0,169.0,172.0,172.0,184.0,184.0,184.0,178.0,173.0,178.0,189.0,182.0,247.0,179.0,185.0,160.0,166.0,182.0,175.0,152.0,184.0,192.0,146.0,185.0,143.0,169.0,154.0,164.0,176.0,184.0,169.0,196.0,165.0,232.0,173.0,149.0,166.0,160.0,170.0,206.0,52.0,179.0,197.0,164.0,177.0,136.0,171.0,233.0,199.0,186.0,206.0,192.0,158.0,194.0,165.0,166.0,198.0,135.0,196.0,190.0,208.0,157.0,191.0,153.0,161.0,178.0,171.0,183.0,141.0,216.0,133.0,163.0,188.0,223.0,157.0,166.0,149.0,145.0,210.0,181.0,158.0,180.0,170.0,195.0,201.0,175.0,187.0,140.0,171.0,224.0,184.0,151.0,169.0,167.0,172.0,137.0,184.0,107.0,193.0,149.0,164.0,178.0,194.0,141.0,151.0,185.0,133.0,173.0,149.0,171.0,188.0,232.0,135.0,199.0,187.0,202.0,179.0,196.0,174.0,180.0,164.0,227.0,151.0,163.0,210.0,178.0,168.0,210.0,118.0,182.0,191.0,158.0,193.0,151.0,135.0,188.0,193.0,173.0,190.0,149.0,168.0,227.0,172.0,202.0,164.0,236.0,158.0,186.0,107.0,172.0,200.0,188.0,181.0,203.0,228.0,165.0,190.0,187.0,195.0,165.0,182.0,178.0,176.0,207.0,203.0,172.0,163.0,209.0,208.0,158.0,173.0,189.0,160.0,192.0,143.0,132.0,208.0,210.0,139.0,213.0,168.0,231.0,174.0,162.0,71.0,218.0,198.0,201.0,214.0,194.0,205.0,183.0,144.0,119.0,133.0,220.0,152.0,212.0,168.0,151.0,182.0,147.0,159.0,211.0,246.0,187.0,219.0,163.0,165.0,175.0,170.0,175.0,214.0,185.0,219.0,188.0,232.0,176.0,167.0,171.0,161.0,137.0,156.0,183.0,169.0,214.0,162.0,203.0,156.0,188.0,233.0,213.0,180.0,150.0,164.0,217.0,196.0,207.0,176.0,163.0,175.0,192.0,165.0,229.0,209.0,197.0,194.0,168.0,202.0,185.0,165.0,170.0,195.0,168.0,162.0,195.0,127.0,220.0,192.0,201.0,190.0,188.0,222.0,153.0,150.0,151.0,205.0,189.0,221.0,192.0,172.0,180.0,221.0,157.0,186.0,155.0,126.0,166.0,165.0,142.0,172.0,236.0,193.0,211.0,194.0,172.0,181.0,170.0,216.0,166.0,217.0,199.0,193.0,200.0,190.0,218.0,182.0,223.0,157.0,169.0,188.0,145.0,154.0,196.0,203.0,174.0,208.0,178.0,177.0,193.0,209.0,166.0,145.0,210.0,178.0,179.0,160.0,194.0,211.0,208.0,154.0,194.0,204.0,218.0,198.0,205.0,200.0,176.0,229.0,175.0,227.0,193.0,155.0,175.0,136.0,215.0,190.0,236.0,145.0,208.0,201.0,203.0,258.0,198.0,127.0,131.0,172.0,228.0,168.0,219.0,168.0,172.0,189.0,178.0,214.0,224.0,177.0,173.0,183.0,234.0,209.0,194.0,169.0,207.0,278.0,186.0,200.0,192.0,182.0,273.0,235.0,164.0,183.0,207.0,288.0,193.0,267.0,223.0,225.0,207.0,258.0,213.0,202.0,170.0,168.0,236.0,222.0,242.0,232.0,158.0,188.0,209.0,215.0,219.0,176.0],\"yaxis\":\"y\",\"type\":\"scatter\"},{\"customdata\":[[\"wickets (9.0)\"],[\"wickets (5.0)\"],[\"wickets (5.0)\"],[\"wickets (6.0)\"],[\"wickets (9.0)\"],[\"wickets (3.0)\"],[\"wickets (7.0)\"],[\"wickets (9.0)\"],[\"wickets (10.0)\"],[\"wickets (4.0)\"],[\"wickets (7.0)\"],[\"wickets (7.0)\"],[\"wickets (8.0)\"],[\"wickets (8.0)\"],[\"wickets (6.0)\"],[\"wickets (7.0)\"],[\"wickets (7.0)\"],[\"wickets (4.0)\"],[\"wickets (8.0)\"],[\"wickets (3.0)\"],[\"wickets (9.0)\"],[\"wickets (9.0)\"],[\"wickets (8.0)\"],[\"wickets (5.0)\"],[\"wickets (6.0)\"],[\"wickets (6.0)\"],[\"wickets (5.0)\"],[\"wickets (5.0)\"],[\"wickets (3.0)\"],[\"wickets (5.0)\"],[\"wickets (7.0)\"],[\"wickets (9.0)\"],[\"wickets (9.0)\"],[\"wickets (3.0)\"],[\"wickets (10.0)\"],[\"wickets (8.0)\"],[\"wickets (7.0)\"],[\"wickets (6.0)\"],[\"wickets (6.0)\"],[\"wickets (5.0)\"],[\"wickets (5.0)\"],[\"wickets (6.0)\"],[\"wickets (3.0)\"],[\"wickets (6.0)\"],[\"wickets (9.0)\"],[\"wickets (9.0)\"],[\"wickets (7.0)\"],[\"wickets (7.0)\"],[\"wickets (3.0)\"],[\"wickets (7.0)\"],[\"wickets (7.0)\"],[\"wickets (6.0)\"],[\"wickets (8.0)\"],[\"wickets (2.0)\"],[\"wickets (6.0)\"],[\"wickets (7.0)\"],[\"wickets (6.0)\"],[\"wickets (7.0)\"],[\"wickets (7.0)\"],[\"wickets (4.0)\"],[\"wickets (4.0)\"],[\"wickets (6.0)\"],[\"wickets (6.0)\"],[\"wickets (5.0)\"],[\"wickets (7.0)\"],[\"wickets (6.0)\"],[\"wickets (8.0)\"],[\"wickets (10.0)\"],[\"wickets (5.0)\"],[\"wickets (7.0)\"],[\"wickets (7.0)\"],[\"wickets (5.0)\"],[\"wickets (8.0)\"],[\"wickets (4.0)\"],[\"wickets (5.0)\"],[\"wickets (6.0)\"],[\"wickets (8.0)\"],[\"wickets (9.0)\"],[\"wickets (7.0)\"],[\"wickets (6.0)\"],[\"wickets (6.0)\"],[\"wickets (7.0)\"],[\"wickets (7.0)\"],[\"wickets (9.0)\"],[\"wickets (5.0)\"],[\"wickets (6.0)\"],[\"wickets (5.0)\"],[\"wickets (8.0)\"],[\"wickets (6.0)\"],[\"wickets (9.0)\"],[\"wickets (9.0)\"],[\"wickets (8.0)\"],[\"wickets (8.0)\"],[\"wickets (6.0)\"],[\"wickets (9.0)\"],[\"wickets (6.0)\"],[\"wickets (9.0)\"],[\"wickets (8.0)\"],[\"wickets (8.0)\"],[\"wickets (9.0)\"],[\"wickets (3.0)\"],[\"wickets (7.0)\"],[\"wickets (8.0)\"],[\"wickets (8.0)\"],[\"wickets (4.0)\"],[\"wickets (9.0)\"],[\"wickets (4.0)\"],[\"wickets (10.0)\"],[\"wickets (8.0)\"],[\"wickets (5.0)\"],[\"wickets (6.0)\"],[\"wickets (4.0)\"],[\"wickets (8.0)\"],[\"wickets (8.0)\"],[\"wickets (5.0)\"],[\"wickets (8.0)\"],[\"wickets (5.0)\"],[\"wickets (5.0)\"],[\"wickets (7.0)\"],[\"wickets (5.0)\"],[\"wickets (8.0)\"],[\"wickets (5.0)\"],[\"wickets (5.0)\"],[\"wickets (7.0)\"],[\"wickets (6.0)\"],[\"wickets (5.0)\"],[\"wickets (4.0)\"],[\"wickets (5.0)\"],[\"wickets (5.0)\"],[\"wickets (6.0)\"],[\"wickets (4.0)\"],[\"wickets (2.0)\"],[\"wickets (5.0)\"],[\"wickets (6.0)\"],[\"wickets (9.0)\"],[\"wickets (9.0)\"],[\"wickets (4.0)\"],[\"wickets (9.0)\"],[\"wickets (4.0)\"],[\"wickets (5.0)\"],[\"wickets (5.0)\"],[\"wickets (5.0)\"],[\"wickets (6.0)\"],[\"wickets (5.0)\"],[\"wickets (6.0)\"],[\"wickets (10.0)\"],[\"wickets (5.0)\"],[\"wickets (6.0)\"],[\"wickets (7.0)\"],[\"wickets (10.0)\"],[\"wickets (8.0)\"],[\"wickets (3.0)\"],[\"wickets (4.0)\"],[\"wickets (6.0)\"],[\"wickets (5.0)\"],[\"wickets (4.0)\"],[\"wickets (7.0)\"],[\"wickets (9.0)\"],[\"wickets (5.0)\"],[\"wickets (5.0)\"],[\"wickets (5.0)\"],[\"wickets (5.0)\"],[\"wickets (6.0)\"],[\"wickets (8.0)\"],[\"wickets (4.0)\"],[\"wickets (7.0)\"],[\"wickets (7.0)\"],[\"wickets (8.0)\"],[\"wickets (6.0)\"],[\"wickets (6.0)\"],[\"wickets (9.0)\"],[\"wickets (8.0)\"],[\"wickets (5.0)\"],[\"wickets (5.0)\"],[\"wickets (7.0)\"],[\"wickets (7.0)\"],[\"wickets (5.0)\"],[\"wickets (4.0)\"],[\"wickets (4.0)\"],[\"wickets (8.0)\"],[\"wickets (6.0)\"],[\"wickets (4.0)\"],[\"wickets (7.0)\"],[\"wickets (4.0)\"],[\"wickets (7.0)\"],[\"wickets (7.0)\"],[\"wickets (6.0)\"],[\"wickets (6.0)\"],[\"wickets (5.0)\"],[\"wickets (5.0)\"],[\"wickets (5.0)\"],[\"wickets (7.0)\"],[\"wickets (4.0)\"],[\"wickets (8.0)\"],[\"wickets (8.0)\"],[\"wickets (8.0)\"],[\"wickets (4.0)\"],[\"wickets (9.0)\"],[\"wickets (5.0)\"],[\"wickets (7.0)\"],[\"wickets (5.0)\"],[\"wickets (6.0)\"],[\"wickets (6.0)\"],[\"wickets (5.0)\"],[\"wickets (7.0)\"],[\"wickets (4.0)\"],[\"wickets (7.0)\"],[\"wickets (8.0)\"],[\"wickets (7.0)\"],[\"wickets (6.0)\"],[\"wickets (8.0)\"],[\"wickets (4.0)\"],[\"wickets (7.0)\"],[\"wickets (5.0)\"],[\"wickets (7.0)\"],[\"wickets (3.0)\"],[\"wickets (7.0)\"],[\"wickets (3.0)\"],[\"wickets (3.0)\"],[\"wickets (8.0)\"],[\"wickets (7.0)\"],[\"wickets (5.0)\"],[\"wickets (6.0)\"],[\"wickets (6.0)\"],[\"wickets (4.0)\"],[\"wickets (8.0)\"],[\"wickets (6.0)\"],[\"wickets (9.0)\"],[\"wickets (10.0)\"],[\"wickets (7.0)\"],[\"wickets (9.0)\"],[\"wickets (7.0)\"],[\"wickets (5.0)\"],[\"wickets (6.0)\"],[\"wickets (1.0)\"],[\"wickets (6.0)\"],[\"wickets (6.0)\"],[\"wickets (7.0)\"],[\"wickets (9.0)\"],[\"wickets (3.0)\"],[\"wickets (9.0)\"],[\"wickets (6.0)\"],[\"wickets (8.0)\"],[\"wickets (8.0)\"],[\"wickets (7.0)\"],[\"wickets (7.0)\"],[\"wickets (6.0)\"],[\"wickets (6.0)\"],[\"wickets (5.0)\"],[\"wickets (6.0)\"],[\"wickets (5.0)\"],[\"wickets (6.0)\"],[\"wickets (7.0)\"],[\"wickets (7.0)\"],[\"wickets (7.0)\"],[\"wickets (9.0)\"],[\"wickets (6.0)\"],[\"wickets (6.0)\"],[\"wickets (4.0)\"],[\"wickets (8.0)\"],[\"wickets (4.0)\"],[\"wickets (8.0)\"],[\"wickets (4.0)\"],[\"wickets (4.0)\"],[\"wickets (8.0)\"],[\"wickets (7.0)\"],[\"wickets (10.0)\"],[\"wickets (5.0)\"],[\"wickets (6.0)\"],[\"wickets (6.0)\"],[\"wickets (7.0)\"],[\"wickets (7.0)\"],[\"wickets (6.0)\"],[\"wickets (1.0)\"],[\"wickets (6.0)\"],[\"wickets (4.0)\"],[\"wickets (9.0)\"],[\"wickets (5.0)\"],[\"wickets (1.0)\"],[\"wickets (4.0)\"],[\"wickets (7.0)\"],[\"wickets (5.0)\"],[\"wickets (7.0)\"],[\"wickets (9.0)\"],[\"wickets (6.0)\"],[\"wickets (3.0)\"],[\"wickets (5.0)\"],[\"wickets (8.0)\"],[\"wickets (6.0)\"],[\"wickets (6.0)\"],[\"wickets (6.0)\"],[\"wickets (6.0)\"],[\"wickets (7.0)\"],[\"wickets (6.0)\"],[\"wickets (9.0)\"],[\"wickets (4.0)\"],[\"wickets (5.0)\"],[\"wickets (8.0)\"],[\"wickets (7.0)\"],[\"wickets (10.0)\"],[\"wickets (6.0)\"],[\"wickets (5.0)\"],[\"wickets (5.0)\"],[\"wickets (2.0)\"],[\"wickets (8.0)\"],[\"wickets (7.0)\"],[\"wickets (6.0)\"],[\"wickets (6.0)\"],[\"wickets (5.0)\"],[\"wickets (8.0)\"],[\"wickets (7.0)\"],[\"wickets (5.0)\"],[\"wickets (5.0)\"],[\"wickets (4.0)\"],[\"wickets (8.0)\"],[\"wickets (6.0)\"],[\"wickets (7.0)\"],[\"wickets (3.0)\"],[\"wickets (4.0)\"],[\"wickets (7.0)\"],[\"wickets (4.0)\"],[\"wickets (8.0)\"],[\"wickets (5.0)\"],[\"wickets (5.0)\"],[\"wickets (6.0)\"],[\"wickets (5.0)\"],[\"wickets (5.0)\"],[\"wickets (9.0)\"],[\"wickets (6.0)\"],[\"wickets (6.0)\"],[\"wickets (3.0)\"],[\"wickets (7.0)\"],[\"wickets (7.0)\"],[\"wickets (5.0)\"],[\"wickets (4.0)\"],[\"wickets (6.0)\"],[\"wickets (9.0)\"],[\"wickets (6.0)\"],[\"wickets (2.0)\"],[\"wickets (6.0)\"],[\"wickets (5.0)\"],[\"wickets (7.0)\"],[\"wickets (4.0)\"],[\"wickets (8.0)\"],[\"wickets (10.0)\"],[\"wickets (5.0)\"],[\"wickets (5.0)\"],[\"wickets (8.0)\"],[\"wickets (8.0)\"],[\"wickets (5.0)\"],[\"wickets (7.0)\"],[\"wickets (7.0)\"],[\"wickets (5.0)\"],[\"wickets (8.0)\"],[\"wickets (8.0)\"],[\"wickets (10.0)\"],[\"wickets (8.0)\"],[\"wickets (8.0)\"],[\"wickets (8.0)\"],[\"wickets (5.0)\"],[\"wickets (6.0)\"],[\"wickets (7.0)\"],[\"wickets (5.0)\"],[\"wickets (9.0)\"],[\"wickets (9.0)\"],[\"wickets (6.0)\"],[\"wickets (10.0)\"],[\"wickets (6.0)\"],[\"wickets (5.0)\"],[\"wickets (2.0)\"],[\"wickets (7.0)\"],[\"wickets (3.0)\"],[\"wickets (6.0)\"],[\"wickets (6.0)\"],[\"wickets (6.0)\"],[\"wickets (9.0)\"],[\"wickets (10.0)\"],[\"wickets (9.0)\"],[\"wickets (6.0)\"],[\"wickets (5.0)\"],[\"wickets (7.0)\"],[\"wickets (7.0)\"],[\"wickets (7.0)\"],[\"wickets (4.0)\"],[\"wickets (7.0)\"],[\"wickets (9.0)\"],[\"wickets (8.0)\"],[\"wickets (7.0)\"],[\"wickets (6.0)\"],[\"wickets (2.0)\"],[\"wickets (7.0)\"],[\"wickets (3.0)\"],[\"wickets (6.0)\"],[\"wickets (7.0)\"],[\"wickets (6.0)\"],[\"wickets (5.0)\"],[\"wickets (7.0)\"],[\"wickets (4.0)\"],[\"wickets (6.0)\"],[\"wickets (3.0)\"],[\"wickets (8.0)\"],[\"wickets (6.0)\"],[\"wickets (7.0)\"],[\"wickets (4.0)\"],[\"wickets (4.0)\"],[\"wickets (3.0)\"],[\"wickets (6.0)\"],[\"wickets (4.0)\"],[\"wickets (5.0)\"],[\"wickets (5.0)\"],[\"wickets (3.0)\"],[\"wickets (6.0)\"],[\"wickets (6.0)\"],[\"wickets (4.0)\"],[\"wickets (5.0)\"],[\"wickets (6.0)\"],[\"wickets (6.0)\"],[\"wickets (8.0)\"],[\"wickets (7.0)\"],[\"wickets (8.0)\"],[\"wickets (7.0)\"],[\"wickets (7.0)\"],[\"wickets (3.0)\"],[\"wickets (9.0)\"],[\"wickets (3.0)\"],[\"wickets (9.0)\"],[\"wickets (5.0)\"],[\"wickets (4.0)\"],[\"wickets (6.0)\"],[\"wickets (5.0)\"],[\"wickets (7.0)\"],[\"wickets (8.0)\"],[\"wickets (6.0)\"],[\"wickets (8.0)\"],[\"wickets (5.0)\"],[\"wickets (7.0)\"],[\"wickets (8.0)\"],[\"wickets (5.0)\"],[\"wickets (5.0)\"],[\"wickets (5.0)\"],[\"wickets (7.0)\"],[\"wickets (7.0)\"],[\"wickets (7.0)\"],[\"wickets (5.0)\"],[\"wickets (8.0)\"],[\"wickets (6.0)\"],[\"wickets (5.0)\"],[\"wickets (7.0)\"],[\"wickets (3.0)\"],[\"wickets (8.0)\"],[\"wickets (1.0)\"],[\"wickets (6.0)\"],[\"wickets (6.0)\"],[\"wickets (2.0)\"],[\"wickets (5.0)\"],[\"wickets (3.0)\"],[\"wickets (4.0)\"],[\"wickets (7.0)\"],[\"wickets (7.0)\"],[\"wickets (4.0)\"],[\"wickets (6.0)\"],[\"wickets (6.0)\"],[\"wickets (9.0)\"],[\"wickets (6.0)\"],[\"wickets (7.0)\"],[\"wickets (4.0)\"],[\"wickets (5.0)\"],[\"wickets (6.0)\"],[\"wickets (9.0)\"],[\"wickets (7.0)\"],[\"wickets (6.0)\"],[\"wickets (8.0)\"],[\"wickets (4.0)\"],[\"wickets (8.0)\"],[\"wickets (6.0)\"],[\"wickets (5.0)\"],[\"wickets (6.0)\"],[\"wickets (4.0)\"],[\"wickets (4.0)\"],[\"wickets (7.0)\"],[\"wickets (7.0)\"],[\"wickets (6.0)\"],[\"wickets (3.0)\"],[\"wickets (6.0)\"],[\"wickets (6.0)\"],[\"wickets (7.0)\"],[\"wickets (3.0)\"],[\"wickets (7.0)\"],[\"wickets (6.0)\"],[\"wickets (3.0)\"],[\"wickets (8.0)\"],[\"wickets (2.0)\"],[\"wickets (6.0)\"],[\"wickets (8.0)\"],[\"wickets (3.0)\"],[\"wickets (9.0)\"],[\"wickets (6.0)\"],[\"wickets (8.0)\"],[\"wickets (7.0)\"],[\"wickets (9.0)\"],[\"wickets (7.0)\"],[\"wickets (4.0)\"],[\"wickets (7.0)\"],[\"wickets (4.0)\"],[\"wickets (7.0)\"],[\"wickets (10.0)\"],[\"wickets (5.0)\"],[\"wickets (5.0)\"],[\"wickets (4.0)\"],[\"wickets (8.0)\"],[\"wickets (4.0)\"],[\"wickets (8.0)\"]],\"hovertemplate\":\"result=wickets\\u003cbr\\u003eresult_margin=%{x}\\u003cbr\\u003etarget_runs=%{y}\\u003cbr\\u003eresult_description=%{customdata[0]}\\u003cextra\\u003e\\u003c\\u002fextra\\u003e\",\"legendgroup\":\"wickets\",\"marker\":{\"color\":\"#EF553B\",\"symbol\":\"circle\"},\"mode\":\"markers\",\"name\":\"wickets\",\"orientation\":\"v\",\"showlegend\":true,\"x\":[9.0,5.0,5.0,6.0,9.0,3.0,7.0,9.0,10.0,4.0,7.0,7.0,8.0,8.0,6.0,7.0,7.0,4.0,8.0,3.0,9.0,9.0,8.0,5.0,6.0,6.0,5.0,5.0,3.0,5.0,7.0,9.0,9.0,3.0,10.0,8.0,7.0,6.0,6.0,5.0,5.0,6.0,3.0,6.0,9.0,9.0,7.0,7.0,3.0,7.0,7.0,6.0,8.0,2.0,6.0,7.0,6.0,7.0,7.0,4.0,4.0,6.0,6.0,5.0,7.0,6.0,8.0,10.0,5.0,7.0,7.0,5.0,8.0,4.0,5.0,6.0,8.0,9.0,7.0,6.0,6.0,7.0,7.0,9.0,5.0,6.0,5.0,8.0,6.0,9.0,9.0,8.0,8.0,6.0,9.0,6.0,9.0,8.0,8.0,9.0,3.0,7.0,8.0,8.0,4.0,9.0,4.0,10.0,8.0,5.0,6.0,4.0,8.0,8.0,5.0,8.0,5.0,5.0,7.0,5.0,8.0,5.0,5.0,7.0,6.0,5.0,4.0,5.0,5.0,6.0,4.0,2.0,5.0,6.0,9.0,9.0,4.0,9.0,4.0,5.0,5.0,5.0,6.0,5.0,6.0,10.0,5.0,6.0,7.0,10.0,8.0,3.0,4.0,6.0,5.0,4.0,7.0,9.0,5.0,5.0,5.0,5.0,6.0,8.0,4.0,7.0,7.0,8.0,6.0,6.0,9.0,8.0,5.0,5.0,7.0,7.0,5.0,4.0,4.0,8.0,6.0,4.0,7.0,4.0,7.0,7.0,6.0,6.0,5.0,5.0,5.0,7.0,4.0,8.0,8.0,8.0,4.0,9.0,5.0,7.0,5.0,6.0,6.0,5.0,7.0,4.0,7.0,8.0,7.0,6.0,8.0,4.0,7.0,5.0,7.0,3.0,7.0,3.0,3.0,8.0,7.0,5.0,6.0,6.0,4.0,8.0,6.0,9.0,10.0,7.0,9.0,7.0,5.0,6.0,1.0,6.0,6.0,7.0,9.0,3.0,9.0,6.0,8.0,8.0,7.0,7.0,6.0,6.0,5.0,6.0,5.0,6.0,7.0,7.0,7.0,9.0,6.0,6.0,4.0,8.0,4.0,8.0,4.0,4.0,8.0,7.0,10.0,5.0,6.0,6.0,7.0,7.0,6.0,1.0,6.0,4.0,9.0,5.0,1.0,4.0,7.0,5.0,7.0,9.0,6.0,3.0,5.0,8.0,6.0,6.0,6.0,6.0,7.0,6.0,9.0,4.0,5.0,8.0,7.0,10.0,6.0,5.0,5.0,2.0,8.0,7.0,6.0,6.0,5.0,8.0,7.0,5.0,5.0,4.0,8.0,6.0,7.0,3.0,4.0,7.0,4.0,8.0,5.0,5.0,6.0,5.0,5.0,9.0,6.0,6.0,3.0,7.0,7.0,5.0,4.0,6.0,9.0,6.0,2.0,6.0,5.0,7.0,4.0,8.0,10.0,5.0,5.0,8.0,8.0,5.0,7.0,7.0,5.0,8.0,8.0,10.0,8.0,8.0,8.0,5.0,6.0,7.0,5.0,9.0,9.0,6.0,10.0,6.0,5.0,2.0,7.0,3.0,6.0,6.0,6.0,9.0,10.0,9.0,6.0,5.0,7.0,7.0,7.0,4.0,7.0,9.0,8.0,7.0,6.0,2.0,7.0,3.0,6.0,7.0,6.0,5.0,7.0,4.0,6.0,3.0,8.0,6.0,7.0,4.0,4.0,3.0,6.0,4.0,5.0,5.0,3.0,6.0,6.0,4.0,5.0,6.0,6.0,8.0,7.0,8.0,7.0,7.0,3.0,9.0,3.0,9.0,5.0,4.0,6.0,5.0,7.0,8.0,6.0,8.0,5.0,7.0,8.0,5.0,5.0,5.0,7.0,7.0,7.0,5.0,8.0,6.0,5.0,7.0,3.0,8.0,1.0,6.0,6.0,2.0,5.0,3.0,4.0,7.0,7.0,4.0,6.0,6.0,9.0,6.0,7.0,4.0,5.0,6.0,9.0,7.0,6.0,8.0,4.0,8.0,6.0,5.0,6.0,4.0,4.0,7.0,7.0,6.0,3.0,6.0,6.0,7.0,3.0,7.0,6.0,3.0,8.0,2.0,6.0,8.0,3.0,9.0,6.0,8.0,7.0,9.0,7.0,4.0,7.0,4.0,7.0,10.0,5.0,5.0,4.0,8.0,4.0,8.0],\"xaxis\":\"x\",\"y\":[130.0,166.0,111.0,167.0,143.0,215.0,136.0,148.0,155.0,159.0,138.0,165.0,170.0,110.0,127.0,145.0,104.0,188.0,141.0,157.0,144.0,157.0,68.0,155.0,148.0,176.0,177.0,166.0,175.0,146.0,148.0,123.0,113.0,164.0,54.0,102.0,169.0,150.0,166.0,144.0,140.0,149.0,142.0,154.0,150.0,155.0,106.0,117.0,169.0,141.0,124.0,174.0,120.0,130.0,121.0,148.0,161.0,189.0,135.0,102.0,166.0,154.0,147.0,143.0,136.0,142.0,204.0,93.0,186.0,152.0,156.0,181.0,149.0,164.0,162.0,182.0,201.0,154.0,185.0,155.0,139.0,161.0,112.0,140.0,131.0,113.0,175.0,133.0,193.0,134.0,83.0,138.0,96.0,152.0,141.0,189.0,160.0,166.0,82.0,172.0,161.0,95.0,120.0,148.0,176.0,147.0,102.0,134.0,129.0,176.0,176.0,148.0,113.0,98.0,139.0,111.0,206.0,132.0,93.0,197.0,125.0,158.0,164.0,147.0,164.0,127.0,169.0,101.0,140.0,142.0,159.0,174.0,182.0,154.0,142.0,188.0,127.0,115.0,191.0,172.0,159.0,137.0,121.0,127.0,142.0,163.0,191.0,129.0,162.0,139.0,155.0,115.0,166.0,125.0,124.0,120.0,118.0,162.0,186.0,121.0,160.0,160.0,150.0,145.0,172.0,130.0,137.0,133.0,81.0,191.0,155.0,146.0,116.0,142.0,179.0,175.0,131.0,133.0,166.0,146.0,206.0,134.0,116.0,167.0,192.0,142.0,71.0,126.0,146.0,125.0,169.0,153.0,156.0,179.0,161.0,43.0,158.0,150.0,191.0,158.0,149.0,206.0,142.0,139.0,143.0,165.0,161.0,155.0,157.0,186.0,155.0,161.0,116.0,190.0,174.0,200.0,169.0,178.0,185.0,167.0,165.0,166.0,128.0,184.0,156.0,157.0,147.0,131.0,96.0,166.0,119.0,112.0,153.0,159.0,184.0,120.0,81.0,131.0,114.0,140.0,99.0,188.0,112.0,143.0,192.0,143.0,139.0,171.0,144.0,175.0,186.0,152.0,147.0,125.0,180.0,184.0,159.0,139.0,179.0,149.0,159.0,171.0,143.0,169.0,199.0,161.0,68.0,163.0,186.0,159.0,139.0,48.0,108.0,166.0,167.0,177.0,126.0,203.0,148.0,156.0,195.0,139.0,161.0,125.0,175.0,168.0,206.0,170.0,176.0,178.0,175.0,128.0,164.0,153.0,188.0,177.0,182.0,180.0,169.0,89.0,143.0,173.0,154.0,140.0,179.0,71.0,182.0,148.0,199.0,177.0,159.0,130.0,206.0,150.0,140.0,151.0,109.0,198.0,152.0,179.0,188.0,174.0,162.0,172.0,133.0,162.0,164.0,160.0,192.0,176.0,176.0,161.0,184.0,116.0,176.0,171.0,134.0,132.0,163.0,148.0,163.0,143.0,224.0,155.0,179.0,159.0,163.0,172.0,149.0,180.0,178.0,126.0,165.0,85.0,155.0,115.0,196.0,146.0,150.0,165.0,173.0,186.0,121.0,111.0,154.0,153.0,150.0,132.0,157.0,160.0,189.0,148.0,107.0,196.0,138.0,121.0,178.0,132.0,134.0,124.0,172.0,172.0,155.0,219.0,167.0,93.0,135.0,156.0,157.0,172.0,165.0,128.0,136.0,150.0,135.0,166.0,190.0,130.0,116.0,137.0,91.0,135.0,165.0,173.0,139.0,136.0,132.0,178.0,206.0,159.0,129.0,211.0,138.0,170.0,162.0,150.0,190.0,155.0,152.0,163.0,176.0,152.0,170.0,116.0,156.0,69.0,196.0,147.0,171.0,159.0,153.0,144.0,190.0,161.0,98.0,134.0,169.0,151.0,160.0,158.0,189.0,158.0,131.0,179.0,172.0,163.0,122.0,158.0,205.0,144.0,213.0,173.0,154.0,160.0,186.0,178.0,128.0,135.0,180.0,201.0,213.0,215.0,119.0,140.0,182.0,215.0,180.0,200.0,150.0,183.0,145.0,187.0,188.0,201.0,198.0,171.0,174.0,175.0,177.0,183.0,163.0,126.0,200.0,166.0,184.0,138.0,197.0,197.0,168.0,148.0,162.0,224.0,90.0,177.0,143.0,180.0,211.0,262.0,197.0,201.0,154.0,145.0,163.0,148.0,174.0,166.0,142.0,145.0,215.0,160.0,173.0,114.0],\"yaxis\":\"y\",\"type\":\"scatter\"},{\"customdata\":[[\"tie (17.463136033229492)\"],[\"tie (17.463136033229492)\"],[\"tie (17.463136033229492)\"],[\"tie (17.463136033229492)\"],[\"tie (17.463136033229492)\"],[\"tie (17.463136033229492)\"],[\"tie (17.463136033229492)\"],[\"tie (17.463136033229492)\"],[\"tie (17.463136033229492)\"],[\"tie (17.463136033229492)\"],[\"tie (17.463136033229492)\"],[\"tie (17.463136033229492)\"],[\"tie (17.463136033229492)\"]],\"hovertemplate\":\"result=tie\\u003cbr\\u003eresult_margin=%{x}\\u003cbr\\u003etarget_runs=%{y}\\u003cbr\\u003eresult_description=%{customdata[0]}\\u003cextra\\u003e\\u003c\\u002fextra\\u003e\",\"legendgroup\":\"tie\",\"marker\":{\"color\":\"#00cc96\",\"symbol\":\"circle\"},\"mode\":\"markers\",\"name\":\"tie\",\"orientation\":\"v\",\"showlegend\":true,\"x\":[17.463136033229492,17.463136033229492,17.463136033229492,17.463136033229492,17.463136033229492,17.463136033229492,17.463136033229492,17.463136033229492,17.463136033229492,17.463136033229492,17.463136033229492,17.463136033229492,17.463136033229492],\"xaxis\":\"x\",\"y\":[151.0,137.0,131.0,153.0,153.0,192.0,186.0,163.0,158.0,202.0,164.0,177.0,160.0],\"yaxis\":\"y\",\"type\":\"scatter\"},{\"customdata\":[[\"no result (17.463136033229492)\"],[\"no result (17.463136033229492)\"],[\"no result (17.463136033229492)\"],[\"no result (17.463136033229492)\"]],\"hovertemplate\":\"result=no result\\u003cbr\\u003eresult_margin=%{x}\\u003cbr\\u003etarget_runs=%{y}\\u003cbr\\u003eresult_description=%{customdata[0]}\\u003cextra\\u003e\\u003c\\u002fextra\\u003e\",\"legendgroup\":\"no result\",\"marker\":{\"color\":\"#ab63fa\",\"symbol\":\"circle\"},\"mode\":\"markers\",\"name\":\"no result\",\"orientation\":\"v\",\"showlegend\":true,\"x\":[17.463136033229492,17.463136033229492,17.463136033229492,17.463136033229492],\"xaxis\":\"x\",\"y\":[166.8353783231084,188.0,63.0,166.8353783231084],\"yaxis\":\"y\",\"type\":\"scatter\"}],                        {\"template\":{\"data\":{\"histogram2dcontour\":[{\"type\":\"histogram2dcontour\",\"colorbar\":{\"outlinewidth\":0,\"ticks\":\"\"},\"colorscale\":[[0.0,\"#0d0887\"],[0.1111111111111111,\"#46039f\"],[0.2222222222222222,\"#7201a8\"],[0.3333333333333333,\"#9c179e\"],[0.4444444444444444,\"#bd3786\"],[0.5555555555555556,\"#d8576b\"],[0.6666666666666666,\"#ed7953\"],[0.7777777777777778,\"#fb9f3a\"],[0.8888888888888888,\"#fdca26\"],[1.0,\"#f0f921\"]]}],\"choropleth\":[{\"type\":\"choropleth\",\"colorbar\":{\"outlinewidth\":0,\"ticks\":\"\"}}],\"histogram2d\":[{\"type\":\"histogram2d\",\"colorbar\":{\"outlinewidth\":0,\"ticks\":\"\"},\"colorscale\":[[0.0,\"#0d0887\"],[0.1111111111111111,\"#46039f\"],[0.2222222222222222,\"#7201a8\"],[0.3333333333333333,\"#9c179e\"],[0.4444444444444444,\"#bd3786\"],[0.5555555555555556,\"#d8576b\"],[0.6666666666666666,\"#ed7953\"],[0.7777777777777778,\"#fb9f3a\"],[0.8888888888888888,\"#fdca26\"],[1.0,\"#f0f921\"]]}],\"heatmap\":[{\"type\":\"heatmap\",\"colorbar\":{\"outlinewidth\":0,\"ticks\":\"\"},\"colorscale\":[[0.0,\"#0d0887\"],[0.1111111111111111,\"#46039f\"],[0.2222222222222222,\"#7201a8\"],[0.3333333333333333,\"#9c179e\"],[0.4444444444444444,\"#bd3786\"],[0.5555555555555556,\"#d8576b\"],[0.6666666666666666,\"#ed7953\"],[0.7777777777777778,\"#fb9f3a\"],[0.8888888888888888,\"#fdca26\"],[1.0,\"#f0f921\"]]}],\"heatmapgl\":[{\"type\":\"heatmapgl\",\"colorbar\":{\"outlinewidth\":0,\"ticks\":\"\"},\"colorscale\":[[0.0,\"#0d0887\"],[0.1111111111111111,\"#46039f\"],[0.2222222222222222,\"#7201a8\"],[0.3333333333333333,\"#9c179e\"],[0.4444444444444444,\"#bd3786\"],[0.5555555555555556,\"#d8576b\"],[0.6666666666666666,\"#ed7953\"],[0.7777777777777778,\"#fb9f3a\"],[0.8888888888888888,\"#fdca26\"],[1.0,\"#f0f921\"]]}],\"contourcarpet\":[{\"type\":\"contourcarpet\",\"colorbar\":{\"outlinewidth\":0,\"ticks\":\"\"}}],\"contour\":[{\"type\":\"contour\",\"colorbar\":{\"outlinewidth\":0,\"ticks\":\"\"},\"colorscale\":[[0.0,\"#0d0887\"],[0.1111111111111111,\"#46039f\"],[0.2222222222222222,\"#7201a8\"],[0.3333333333333333,\"#9c179e\"],[0.4444444444444444,\"#bd3786\"],[0.5555555555555556,\"#d8576b\"],[0.6666666666666666,\"#ed7953\"],[0.7777777777777778,\"#fb9f3a\"],[0.8888888888888888,\"#fdca26\"],[1.0,\"#f0f921\"]]}],\"surface\":[{\"type\":\"surface\",\"colorbar\":{\"outlinewidth\":0,\"ticks\":\"\"},\"colorscale\":[[0.0,\"#0d0887\"],[0.1111111111111111,\"#46039f\"],[0.2222222222222222,\"#7201a8\"],[0.3333333333333333,\"#9c179e\"],[0.4444444444444444,\"#bd3786\"],[0.5555555555555556,\"#d8576b\"],[0.6666666666666666,\"#ed7953\"],[0.7777777777777778,\"#fb9f3a\"],[0.8888888888888888,\"#fdca26\"],[1.0,\"#f0f921\"]]}],\"mesh3d\":[{\"type\":\"mesh3d\",\"colorbar\":{\"outlinewidth\":0,\"ticks\":\"\"}}],\"scatter\":[{\"fillpattern\":{\"fillmode\":\"overlay\",\"size\":10,\"solidity\":0.2},\"type\":\"scatter\"}],\"parcoords\":[{\"type\":\"parcoords\",\"line\":{\"colorbar\":{\"outlinewidth\":0,\"ticks\":\"\"}}}],\"scatterpolargl\":[{\"type\":\"scatterpolargl\",\"marker\":{\"colorbar\":{\"outlinewidth\":0,\"ticks\":\"\"}}}],\"bar\":[{\"error_x\":{\"color\":\"#2a3f5f\"},\"error_y\":{\"color\":\"#2a3f5f\"},\"marker\":{\"line\":{\"color\":\"#E5ECF6\",\"width\":0.5},\"pattern\":{\"fillmode\":\"overlay\",\"size\":10,\"solidity\":0.2}},\"type\":\"bar\"}],\"scattergeo\":[{\"type\":\"scattergeo\",\"marker\":{\"colorbar\":{\"outlinewidth\":0,\"ticks\":\"\"}}}],\"scatterpolar\":[{\"type\":\"scatterpolar\",\"marker\":{\"colorbar\":{\"outlinewidth\":0,\"ticks\":\"\"}}}],\"histogram\":[{\"marker\":{\"pattern\":{\"fillmode\":\"overlay\",\"size\":10,\"solidity\":0.2}},\"type\":\"histogram\"}],\"scattergl\":[{\"type\":\"scattergl\",\"marker\":{\"colorbar\":{\"outlinewidth\":0,\"ticks\":\"\"}}}],\"scatter3d\":[{\"type\":\"scatter3d\",\"line\":{\"colorbar\":{\"outlinewidth\":0,\"ticks\":\"\"}},\"marker\":{\"colorbar\":{\"outlinewidth\":0,\"ticks\":\"\"}}}],\"scattermapbox\":[{\"type\":\"scattermapbox\",\"marker\":{\"colorbar\":{\"outlinewidth\":0,\"ticks\":\"\"}}}],\"scatterternary\":[{\"type\":\"scatterternary\",\"marker\":{\"colorbar\":{\"outlinewidth\":0,\"ticks\":\"\"}}}],\"scattercarpet\":[{\"type\":\"scattercarpet\",\"marker\":{\"colorbar\":{\"outlinewidth\":0,\"ticks\":\"\"}}}],\"carpet\":[{\"aaxis\":{\"endlinecolor\":\"#2a3f5f\",\"gridcolor\":\"white\",\"linecolor\":\"white\",\"minorgridcolor\":\"white\",\"startlinecolor\":\"#2a3f5f\"},\"baxis\":{\"endlinecolor\":\"#2a3f5f\",\"gridcolor\":\"white\",\"linecolor\":\"white\",\"minorgridcolor\":\"white\",\"startlinecolor\":\"#2a3f5f\"},\"type\":\"carpet\"}],\"table\":[{\"cells\":{\"fill\":{\"color\":\"#EBF0F8\"},\"line\":{\"color\":\"white\"}},\"header\":{\"fill\":{\"color\":\"#C8D4E3\"},\"line\":{\"color\":\"white\"}},\"type\":\"table\"}],\"barpolar\":[{\"marker\":{\"line\":{\"color\":\"#E5ECF6\",\"width\":0.5},\"pattern\":{\"fillmode\":\"overlay\",\"size\":10,\"solidity\":0.2}},\"type\":\"barpolar\"}],\"pie\":[{\"automargin\":true,\"type\":\"pie\"}]},\"layout\":{\"autotypenumbers\":\"strict\",\"colorway\":[\"#636efa\",\"#EF553B\",\"#00cc96\",\"#ab63fa\",\"#FFA15A\",\"#19d3f3\",\"#FF6692\",\"#B6E880\",\"#FF97FF\",\"#FECB52\"],\"font\":{\"color\":\"#2a3f5f\"},\"hovermode\":\"closest\",\"hoverlabel\":{\"align\":\"left\"},\"paper_bgcolor\":\"white\",\"plot_bgcolor\":\"#E5ECF6\",\"polar\":{\"bgcolor\":\"#E5ECF6\",\"angularaxis\":{\"gridcolor\":\"white\",\"linecolor\":\"white\",\"ticks\":\"\"},\"radialaxis\":{\"gridcolor\":\"white\",\"linecolor\":\"white\",\"ticks\":\"\"}},\"ternary\":{\"bgcolor\":\"#E5ECF6\",\"aaxis\":{\"gridcolor\":\"white\",\"linecolor\":\"white\",\"ticks\":\"\"},\"baxis\":{\"gridcolor\":\"white\",\"linecolor\":\"white\",\"ticks\":\"\"},\"caxis\":{\"gridcolor\":\"white\",\"linecolor\":\"white\",\"ticks\":\"\"}},\"coloraxis\":{\"colorbar\":{\"outlinewidth\":0,\"ticks\":\"\"}},\"colorscale\":{\"sequential\":[[0.0,\"#0d0887\"],[0.1111111111111111,\"#46039f\"],[0.2222222222222222,\"#7201a8\"],[0.3333333333333333,\"#9c179e\"],[0.4444444444444444,\"#bd3786\"],[0.5555555555555556,\"#d8576b\"],[0.6666666666666666,\"#ed7953\"],[0.7777777777777778,\"#fb9f3a\"],[0.8888888888888888,\"#fdca26\"],[1.0,\"#f0f921\"]],\"sequentialminus\":[[0.0,\"#0d0887\"],[0.1111111111111111,\"#46039f\"],[0.2222222222222222,\"#7201a8\"],[0.3333333333333333,\"#9c179e\"],[0.4444444444444444,\"#bd3786\"],[0.5555555555555556,\"#d8576b\"],[0.6666666666666666,\"#ed7953\"],[0.7777777777777778,\"#fb9f3a\"],[0.8888888888888888,\"#fdca26\"],[1.0,\"#f0f921\"]],\"diverging\":[[0,\"#8e0152\"],[0.1,\"#c51b7d\"],[0.2,\"#de77ae\"],[0.3,\"#f1b6da\"],[0.4,\"#fde0ef\"],[0.5,\"#f7f7f7\"],[0.6,\"#e6f5d0\"],[0.7,\"#b8e186\"],[0.8,\"#7fbc41\"],[0.9,\"#4d9221\"],[1,\"#276419\"]]},\"xaxis\":{\"gridcolor\":\"white\",\"linecolor\":\"white\",\"ticks\":\"\",\"title\":{\"standoff\":15},\"zerolinecolor\":\"white\",\"automargin\":true,\"zerolinewidth\":2},\"yaxis\":{\"gridcolor\":\"white\",\"linecolor\":\"white\",\"ticks\":\"\",\"title\":{\"standoff\":15},\"zerolinecolor\":\"white\",\"automargin\":true,\"zerolinewidth\":2},\"scene\":{\"xaxis\":{\"backgroundcolor\":\"#E5ECF6\",\"gridcolor\":\"white\",\"linecolor\":\"white\",\"showbackground\":true,\"ticks\":\"\",\"zerolinecolor\":\"white\",\"gridwidth\":2},\"yaxis\":{\"backgroundcolor\":\"#E5ECF6\",\"gridcolor\":\"white\",\"linecolor\":\"white\",\"showbackground\":true,\"ticks\":\"\",\"zerolinecolor\":\"white\",\"gridwidth\":2},\"zaxis\":{\"backgroundcolor\":\"#E5ECF6\",\"gridcolor\":\"white\",\"linecolor\":\"white\",\"showbackground\":true,\"ticks\":\"\",\"zerolinecolor\":\"white\",\"gridwidth\":2}},\"shapedefaults\":{\"line\":{\"color\":\"#2a3f5f\"}},\"annotationdefaults\":{\"arrowcolor\":\"#2a3f5f\",\"arrowhead\":0,\"arrowwidth\":1},\"geo\":{\"bgcolor\":\"white\",\"landcolor\":\"#E5ECF6\",\"subunitcolor\":\"white\",\"showland\":true,\"showlakes\":true,\"lakecolor\":\"white\"},\"title\":{\"x\":0.05},\"mapbox\":{\"style\":\"light\"}}},\"xaxis\":{\"anchor\":\"y\",\"domain\":[0.0,1.0],\"title\":{\"text\":\"result_margin\"}},\"yaxis\":{\"anchor\":\"x\",\"domain\":[0.0,1.0],\"title\":{\"text\":\"target_runs\"}},\"legend\":{\"title\":{\"text\":\"result\"},\"tracegroupgap\":0},\"title\":{\"text\":\"Result Margin vs Target Runs\"}},                        {\"responsive\": true}                    ).then(function(){\n",
              "                            \n",
              "var gd = document.getElementById('dc4e95f3-3908-451d-a4d6-1af5dbbf3ac0');\n",
              "var x = new MutationObserver(function (mutations, observer) {{\n",
              "        var display = window.getComputedStyle(gd).display;\n",
              "        if (!display || display === 'none') {{\n",
              "            console.log([gd, 'removed!']);\n",
              "            Plotly.purge(gd);\n",
              "            observer.disconnect();\n",
              "        }}\n",
              "}});\n",
              "\n",
              "// Listen for the removal of the full notebook cells\n",
              "var notebookContainer = gd.closest('#notebook-container');\n",
              "if (notebookContainer) {{\n",
              "    x.observe(notebookContainer, {childList: true});\n",
              "}}\n",
              "\n",
              "// Listen for the clearing of the current output cell\n",
              "var outputEl = gd.closest('.output');\n",
              "if (outputEl) {{\n",
              "    x.observe(outputEl, {childList: true});\n",
              "}}\n",
              "\n",
              "                        })                };                            </script>        </div>\n",
              "</body>\n",
              "</html>"
            ]
          },
          "metadata": {}
        }
      ]
    },
    {
      "cell_type": "code",
      "source": [
        "fig = px.pie(matches, names='winner', title='Winners Over Time')\n",
        "fig.show()"
      ],
      "metadata": {
        "colab": {
          "base_uri": "https://localhost:8080/",
          "height": 542
        },
        "id": "iTB46-RgCbQA",
        "outputId": "4730043a-c95f-4970-95a4-7be3facfe324"
      },
      "execution_count": 24,
      "outputs": [
        {
          "output_type": "display_data",
          "data": {
            "text/html": [
              "<html>\n",
              "<head><meta charset=\"utf-8\" /></head>\n",
              "<body>\n",
              "    <div>            <script src=\"https://cdnjs.cloudflare.com/ajax/libs/mathjax/2.7.5/MathJax.js?config=TeX-AMS-MML_SVG\"></script><script type=\"text/javascript\">if (window.MathJax && window.MathJax.Hub && window.MathJax.Hub.Config) {window.MathJax.Hub.Config({SVG: {font: \"STIX-Web\"}});}</script>                <script type=\"text/javascript\">window.PlotlyConfig = {MathJaxConfig: 'local'};</script>\n",
              "        <script charset=\"utf-8\" src=\"https://cdn.plot.ly/plotly-2.35.2.min.js\"></script>                <div id=\"e7050036-0de1-4b29-9a61-0babf23210ac\" class=\"plotly-graph-div\" style=\"height:525px; width:100%;\"></div>            <script type=\"text/javascript\">                                    window.PLOTLYENV=window.PLOTLYENV || {};                                    if (document.getElementById(\"e7050036-0de1-4b29-9a61-0babf23210ac\")) {                    Plotly.newPlot(                        \"e7050036-0de1-4b29-9a61-0babf23210ac\",                        [{\"domain\":{\"x\":[0.0,1.0],\"y\":[0.0,1.0]},\"hovertemplate\":\"winner=%{label}\\u003cextra\\u003e\\u003c\\u002fextra\\u003e\",\"labels\":[\"Kolkata Knight Riders\",\"Chennai Super Kings\",\"Delhi Capitals\",\"Royal Challengers Bengaluru\",\"Kolkata Knight Riders\",\"Rajasthan Royals\",\"Delhi Capitals\",\"Chennai Super Kings\",\"Rajasthan Royals\",\"Punjab Kings\",\"Rajasthan Royals\",\"Chennai Super Kings\",\"Sunrisers Hyderabad\",\"Punjab Kings\",\"Chennai Super Kings\",\"Mumbai Indians\",\"Delhi Capitals\",\"Punjab Kings\",\"Rajasthan Royals\",\"Delhi Capitals\",\"Punjab Kings\",\"Royal Challengers Bengaluru\",\"Mumbai Indians\",\"Rajasthan Royals\",\"Punjab Kings\",\"Sunrisers Hyderabad\",\"Mumbai Indians\",\"Chennai Super Kings\",\"Kolkata Knight Riders\",\"Rajasthan Royals\",\"Chennai Super Kings\",\"Kolkata Knight Riders\",\"Rajasthan Royals\",\"Punjab Kings\",\"Kolkata Knight Riders\",\"Mumbai Indians\",\"Delhi Capitals\",\"Mumbai Indians\",\"Punjab Kings\",\"Rajasthan Royals\",\"Mumbai Indians\",\"Chennai Super Kings\",\"Delhi Capitals\",\"Rajasthan Royals\",\"Punjab Kings\",\"Royal Challengers Bengaluru\",\"Punjab Kings\",\"Delhi Capitals\",\"Rajasthan Royals\",\"Royal Challengers Bengaluru\",\"Kolkata Knight Riders\",\"Rajasthan Royals\",\"Chennai Super Kings\",\"Mumbai Indians\",\"Punjab Kings\",\"Rajasthan Royals\",\"Chennai Super Kings\",\"Rajasthan Royals\",\"Mumbai Indians\",\"Royal Challengers Bengaluru\",\"Delhi Capitals\",\"Sunrisers Hyderabad\",\"Chennai Super Kings\",\"Kolkata Knight Riders\",\"Sunrisers Hyderabad\",\"Delhi Capitals\",\"Rajasthan Royals\",\"Punjab Kings\",\"Sunrisers Hyderabad\",\"Delhi Capitals\",\"Punjab Kings\",\"Sunrisers Hyderabad\",\"Mumbai Indians\",\"Rajasthan Royals\",\"Royal Challengers Bengaluru\",\"Punjab Kings\",\"Delhi Capitals\",\"Chennai Super Kings\",\"Mumbai Indians\",\"Royal Challengers Bengaluru\",\"Rajasthan Royals\",\"Chennai Super Kings\",\"Punjab Kings\",\"Royal Challengers Bengaluru\",\"Chennai Super Kings\",\"Rajasthan Royals\",\"Delhi Capitals\",\"Sunrisers Hyderabad\",\"Rajasthan Royals\",\"Chennai Super Kings\",\"Delhi Capitals\",\"Punjab Kings\",\"Chennai Super Kings\",\"Mumbai Indians\",\"Delhi Capitals\",\"Sunrisers Hyderabad\",\"Royal Challengers Bengaluru\",\"Mumbai Indians\",\"Delhi Capitals\",\"Royal Challengers Bengaluru\",\"Rajasthan Royals\",\"Punjab Kings\",\"Chennai Super Kings\",\"Sunrisers Hyderabad\",\"Punjab Kings\",\"Delhi Capitals\",\"Kolkata Knight Riders\",\"Royal Challengers Bengaluru\",\"Kolkata Knight Riders\",\"Chennai Super Kings\",\"Delhi Capitals\",\"Royal Challengers Bengaluru\",\"Sunrisers Hyderabad\",\"Royal Challengers Bengaluru\",\"Sunrisers Hyderabad\",\"Kolkata Knight Riders\",\"Mumbai Indians\",\"Delhi Capitals\",\"Kolkata Knight Riders\",\"Sunrisers Hyderabad\",\"Delhi Capitals\",\"Royal Challengers Bengaluru\",\"Chennai Super Kings\",\"Mumbai Indians\",\"Royal Challengers Bengaluru\",\"Chennai Super Kings\",\"Sunrisers Hyderabad\",\"Rajasthan Royals\",\"Royal Challengers Bengaluru\",\"Sunrisers Hyderabad\",\"Punjab Kings\",\"Mumbai Indians\",\"Royal Challengers Bengaluru\",\"Rajasthan Royals\",\"Mumbai Indians\",\"Delhi Capitals\",\"Rajasthan Royals\",\"Kolkata Knight Riders\",\"Rajasthan Royals\",\"Mumbai Indians\",\"Delhi Capitals\",\"Mumbai Indians\",\"Chennai Super Kings\",\"Delhi Capitals\",\"Kolkata Knight Riders\",\"Royal Challengers Bengaluru\",\"Chennai Super Kings\",\"Mumbai Indians\",\"Punjab Kings\",\"Delhi Capitals\",\"Rajasthan Royals\",\"Chennai Super Kings\",\"Rajasthan Royals\",\"Kolkata Knight Riders\",\"Sunrisers Hyderabad\",\"Punjab Kings\",\"Sunrisers Hyderabad\",\"Royal Challengers Bengaluru\",\"Punjab Kings\",\"Mumbai Indians\",\"Sunrisers Hyderabad\",\"Mumbai Indians\",\"Chennai Super Kings\",\"Royal Challengers Bengaluru\",\"Delhi Capitals\",\"Sunrisers Hyderabad\",\"Mumbai Indians\",\"Kolkata Knight Riders\",\"Chennai Super Kings\",\"Sunrisers Hyderabad\",\"Kolkata Knight Riders\",\"Mumbai Indians\",\"Chennai Super Kings\",\"Royal Challengers Bengaluru\",\"Chennai Super Kings\",\"Chennai Super Kings\",\"Rajasthan Royals\",\"Mumbai Indians\",\"Kolkata Knight Riders\",\"Rajasthan Royals\",\"Mumbai Indians\",\"Punjab Kings\",\"Sunrisers Hyderabad\",\"Kolkata Knight Riders\",\"Chennai Super Kings\",\"Punjab Kings\",\"Kolkata Knight Riders\",\"Sunrisers Hyderabad\",\"Punjab Kings\",\"Mumbai Indians\",\"Royal Challengers Bengaluru\",\"Delhi Capitals\",\"Mumbai Indians\",\"Royal Challengers Bengaluru\",\"Kolkata Knight Riders\",\"Rajasthan Royals\",\"Kolkata Knight Riders\",\"Chennai Super Kings\",\"Mumbai Indians\",\"Kolkata Knight Riders\",\"Chennai Super Kings\",\"Delhi Capitals\",\"Royal Challengers Bengaluru\",\"Kolkata Knight Riders\",\"Mumbai Indians\",\"Chennai Super Kings\",\"Punjab Kings\",\"Royal Challengers Bengaluru\",\"Chennai Super Kings\",\"Royal Challengers Bengaluru\",\"Sunrisers Hyderabad\",\"Punjab Kings\",\"Punjab Kings\",\"Rajasthan Royals\",\"Sunrisers Hyderabad\",\"Royal Challengers Bengaluru\",\"Mumbai Indians\",\"Chennai Super Kings\",\"Mumbai Indians\",\"Royal Challengers Bengaluru\",\"Chennai Super Kings\",\"Mumbai Indians\",\"Delhi Capitals\",\"Rajasthan Royals\",\"Royal Challengers Bengaluru\",\"Chennai Super Kings\",\"Rajasthan Royals\",\"Mumbai Indians\",\"Kolkata Knight Riders\",\"Delhi Capitals\",\"Mumbai Indians\",\"Chennai Super Kings\",\"Kolkata Knight Riders\",\"Punjab Kings\",\"Rajasthan Royals\",\"Delhi Capitals\",\"Rajasthan Royals\",\"Kolkata Knight Riders\",\"Delhi Capitals\",\"Royal Challengers Bengaluru\",\"Chennai Super Kings\",\"Punjab Kings\",\"Kolkata Knight Riders\",\"Royal Challengers Bengaluru\",\"Mumbai Indians\",\"Delhi Capitals\",\"Punjab Kings\",\"Kolkata Knight Riders\",\"Delhi Capitals\",\"Mumbai Indians\",\"Kolkata Knight Riders\",\"Delhi Capitals\",\"Punjab Kings\",\"Chennai Super Kings\",\"Rajasthan Royals\",\"Mumbai Indians\",\"Royal Challengers Bengaluru\",\"Kolkata Knight Riders\",\"Punjab Kings\",\"Royal Challengers Bengaluru\",\"Delhi Capitals\",\"Chennai Super Kings\",\"Mumbai Indians\",\"Chennai Super Kings\",\"Punjab Kings\",\"Mumbai Indians\",\"Chennai Super Kings\",\"Delhi Capitals\",\"Kolkata Knight Riders\",\"Punjab Kings\",\"Royal Challengers Bengaluru\",\"Sunrisers Hyderabad\",\"Delhi Capitals\",\"Sunrisers Hyderabad\",\"Mumbai Indians\",\"Kolkata Knight Riders\",\"Chennai Super Kings\",\"Chennai Super Kings\",\"Kolkata Knight Riders\",\"Kolkata Knight Riders\",\"Royal Challengers Bengaluru\",\"Rajasthan Royals\",\"Mumbai Indians\",\"Sunrisers Hyderabad\",\"Rajasthan Royals\",\"Mumbai Indians\",\"Royal Challengers Bengaluru\",\"Chennai Super Kings\",\"Royal Challengers Bengaluru\",\"Sunrisers Hyderabad\",\"Chennai Super Kings\",\"Kolkata Knight Riders\",\"Rajasthan Royals\",\"Punjab Kings\",\"Royal Challengers Bengaluru\",\"Rajasthan Royals\",\"Chennai Super Kings\",\"Sunrisers Hyderabad\",\"Chennai Super Kings\",\"Royal Challengers Bengaluru\",\"Delhi Capitals\",\"Chennai Super Kings\",\"Punjab Kings\",\"Mumbai Indians\",\"Chennai Super Kings\",\"Kolkata Knight Riders\",\"Rajasthan Royals\",\"Mumbai Indians\",\"Chennai Super Kings\",\"Rajasthan Royals\",\"Mumbai Indians\",\"Sunrisers Hyderabad\",\"Delhi Capitals\",\"Chennai Super Kings\",\"Kolkata Knight Riders\",\"Sunrisers Hyderabad\",\"Mumbai Indians\",\"Punjab Kings\",\"Rajasthan Royals\",\"Mumbai Indians\",\"Chennai Super Kings\",\"Rajasthan Royals\",\"Royal Challengers Bengaluru\",\"Sunrisers Hyderabad\",\"Kolkata Knight Riders\",\"Rajasthan Royals\",\"Mumbai Indians\",\"Punjab Kings\",\"Chennai Super Kings\",\"Mumbai Indians\",\"Punjab Kings\",\"Sunrisers Hyderabad\",\"Punjab Kings\",\"Royal Challengers Bengaluru\",\"Sunrisers Hyderabad\",\"Chennai Super Kings\",\"Rajasthan Royals\",\"Mumbai Indians\",\"Mumbai Indians\",\"Kolkata Knight Riders\",\"Royal Challengers Bengaluru\",\"Punjab Kings\",\"Rajasthan Royals\",\"Royal Challengers Bengaluru\",\"Delhi Capitals\",\"Punjab Kings\",\"Chennai Super Kings\",\"Punjab Kings\",\"Chennai Super Kings\",\"Kolkata Knight Riders\",\"Sunrisers Hyderabad\",\"Chennai Super Kings\",\"Rajasthan Royals\",\"Punjab Kings\",\"Delhi Capitals\",\"Chennai Super Kings\",\"Punjab Kings\",\"Rajasthan Royals\",\"Sunrisers Hyderabad\",\"Chennai Super Kings\",\"Mumbai Indians\",\"Rajasthan Royals\",\"Royal Challengers Bengaluru\",\"Rajasthan Royals\",\"Chennai Super Kings\",\"Mumbai Indians\",\"Kolkata Knight Riders\",\"Punjab Kings\",\"Sunrisers Hyderabad\",\"Punjab Kings\",\"Sunrisers Hyderabad\",\"Chennai Super Kings\",\"Kolkata Knight Riders\",\"Rajasthan Royals\",\"Mumbai Indians\",\"Chennai Super Kings\",\"Royal Challengers Bengaluru\",\"Punjab Kings\",\"Kolkata Knight Riders\",\"Rajasthan Royals\",\"Royal Challengers Bengaluru\",\"Kolkata Knight Riders\",\"Mumbai Indians\",\"Punjab Kings\",\"Sunrisers Hyderabad\",\"Kolkata Knight Riders\",\"Mumbai Indians\",\"Kolkata Knight Riders\",\"Sunrisers Hyderabad\",\"Mumbai Indians\",\"Punjab Kings\",\"Chennai Super Kings\",\"Kolkata Knight Riders\",\"Punjab Kings\",\"Mumbai Indians\",\"Kolkata Knight Riders\",\"Chennai Super Kings\",\"Punjab Kings\",\"Kolkata Knight Riders\",\"Kolkata Knight Riders\",\"Chennai Super Kings\",\"Rajasthan Royals\",\"Chennai Super Kings\",\"Royal Challengers Bengaluru\",\"Rajasthan Royals\",\"Punjab Kings\",\"Sunrisers Hyderabad\",\"Rajasthan Royals\",\"Delhi Capitals\",\"Rajasthan Royals\",\"Chennai Super Kings\",\"Delhi Capitals\",\"Kolkata Knight Riders\",\"Rajasthan Royals\",\"Mumbai Indians\",\"Kolkata Knight Riders\",\"Punjab Kings\",\"Sunrisers Hyderabad\",\"Chennai Super Kings\",\"Delhi Capitals\",\"Royal Challengers Bengaluru\",\"Mumbai Indians\",\"Chennai Super Kings\",\"Royal Challengers Bengaluru\",\"Sunrisers Hyderabad\",\"Chennai Super Kings\",\"Mumbai Indians\",\"Kolkata Knight Riders\",\"Delhi Capitals\",\"Mumbai Indians\",\"Royal Challengers Bengaluru\",\"Sunrisers Hyderabad\",\"Mumbai Indians\",\"Rajasthan Royals\",\"Chennai Super Kings\",\"Kolkata Knight Riders\",\"Mumbai Indians\",\"Royal Challengers Bengaluru\",\"Kolkata Knight Riders\",\"Sunrisers Hyderabad\",\"Mumbai Indians\",\"Kolkata Knight Riders\",\"Sunrisers Hyderabad\",\"Royal Challengers Bengaluru\",\"Chennai Super Kings\",\"Sunrisers Hyderabad\",\"Delhi Capitals\",\"Punjab Kings\",\"Mumbai Indians\",\"Royal Challengers Bengaluru\",\"Chennai Super Kings\",\"Rajasthan Royals\",\"Mumbai Indians\",\"Mumbai Indians\",\"Mumbai Indians\",\"Royal Challengers Bengaluru\",\"Chennai Super Kings\",\"Mumbai Indians\",\"Kolkata Knight Riders\",\"Royal Challengers Bengaluru\",\"Mumbai Indians\",\"Delhi Capitals\",\"Kolkata Knight Riders\",\"Delhi Capitals\",\"Sunrisers Hyderabad\",\"Kolkata Knight Riders\",\"Mumbai Indians\",\"Delhi Capitals\",\"Sunrisers Hyderabad\",\"Mumbai Indians\",\"Mumbai Indians\",\"Delhi Capitals\",\"Sunrisers Hyderabad\",\"Kolkata Knight Riders\",\"Kolkata Knight Riders\",\"Punjab Kings\",\"Sunrisers Hyderabad\",\"Royal Challengers Bengaluru\",\"Mumbai Indians\",\"Delhi Capitals\",\"Punjab Kings\",\"Sunrisers Hyderabad\",\"Mumbai Indians\",\"Royal Challengers Bengaluru\",\"Royal Challengers Bengaluru\",\"Delhi Capitals\",\"Kolkata Knight Riders\",\"Royal Challengers Bengaluru\",\"Sunrisers Hyderabad\",\"Sunrisers Hyderabad\",\"Sunrisers Hyderabad\",\"Royal Challengers Bengaluru\",\"Mumbai Indians\",\"Punjab Kings\",\"Mumbai Indians\",\"Kolkata Knight Riders\",\"Mumbai Indians\",\"Kolkata Knight Riders\",\"Delhi Capitals\",\"Kolkata Knight Riders\",\"Sunrisers Hyderabad\",\"Sunrisers Hyderabad\",\"Mumbai Indians\",\"Mumbai Indians\",\"Kolkata Knight Riders\",\"Kolkata Knight Riders\",\"Sunrisers Hyderabad\",\"Punjab Kings\",\"Sunrisers Hyderabad\",\"Mumbai Indians\",\"Delhi Capitals\",\"Punjab Kings\",\"Mumbai Indians\",\"Kolkata Knight Riders\",\"Sunrisers Hyderabad\",\"Punjab Kings\",\"Punjab Kings\",\"Mumbai Indians\",\"Royal Challengers Bengaluru\",\"Kolkata Knight Riders\",\"Mumbai Indians\",\"Chennai Super Kings\",\"Punjab Kings\",\"Kolkata Knight Riders\",\"Sunrisers Hyderabad\",\"Chennai Super Kings\",\"Rajasthan Royals\",\"Sunrisers Hyderabad\",\"Royal Challengers Bengaluru\",\"Delhi Capitals\",\"Sunrisers Hyderabad\",\"Rajasthan Royals\",\"Punjab Kings\",\"Kolkata Knight Riders\",\"Mumbai Indians\",\"Kolkata Knight Riders\",\"Punjab Kings\",\"Chennai Super Kings\",\"Punjab Kings\",\"Royal Challengers Bengaluru\",\"Chennai Super Kings\",\"Rajasthan Royals\",\"Punjab Kings\",\"Sunrisers Hyderabad\",\"Chennai Super Kings\",\"Sunrisers Hyderabad\",\"Delhi Capitals\",\"Mumbai Indians\",\"Sunrisers Hyderabad\",\"Kolkata Knight Riders\",\"Chennai Super Kings\",\"Royal Challengers Bengaluru\",\"Delhi Capitals\",\"Kolkata Knight Riders\",\"Mumbai Indians\",\"Chennai Super Kings\",\"Sunrisers Hyderabad\",\"Mumbai Indians\",\"Punjab Kings\",\"Sunrisers Hyderabad\",\"Rajasthan Royals\",\"Mumbai Indians\",\"Sunrisers Hyderabad\",\"Rajasthan Royals\",\"Kolkata Knight Riders\",\"Royal Challengers Bengaluru\",\"Chennai Super Kings\",\"Rajasthan Royals\",\"Royal Challengers Bengaluru\",\"Kolkata Knight Riders\",\"Mumbai Indians\",\"Royal Challengers Bengaluru\",\"Delhi Capitals\",\"Rajasthan Royals\",\"Kolkata Knight Riders\",\"Delhi Capitals\",\"Chennai Super Kings\",\"Chennai Super Kings\",\"Kolkata Knight Riders\",\"Sunrisers Hyderabad\",\"Chennai Super Kings\",\"Chennai Super Kings\",\"Kolkata Knight Riders\",\"Delhi Capitals\",\"Punjab Kings\",\"Chennai Super Kings\",\"Kolkata Knight Riders\",\"Mumbai Indians\",\"Sunrisers Hyderabad\",\"Punjab Kings\",\"Delhi Capitals\",\"Sunrisers Hyderabad\",\"Chennai Super Kings\",\"Punjab Kings\",\"Rajasthan Royals\",\"Mumbai Indians\",\"Sunrisers Hyderabad\",\"Kolkata Knight Riders\",\"Chennai Super Kings\",\"Mumbai Indians\",\"Delhi Capitals\",\"Kolkata Knight Riders\",\"Punjab Kings\",\"Chennai Super Kings\",\"Mumbai Indians\",\"Chennai Super Kings\",\"Delhi Capitals\",\"Rajasthan Royals\",\"Royal Challengers Bengaluru\",\"Chennai Super Kings\",\"Delhi Capitals\",\"Mumbai Indians\",\"Punjab Kings\",\"Sunrisers Hyderabad\",\"Mumbai Indians\",\"Royal Challengers Bengaluru\",\"Rajasthan Royals\",\"Delhi Capitals\",\"Sunrisers Hyderabad\",\"Royal Challengers Bengaluru\",\"Delhi Capitals\",\"Chennai Super Kings\",\"Royal Challengers Bengaluru\",\"Rajasthan Royals\",\"Mumbai Indians\",\"Rajasthan Royals\",\"Delhi Capitals\",\"Kolkata Knight Riders\",\"Sunrisers Hyderabad\",\"Mumbai Indians\",\"Chennai Super Kings\",\"Mumbai Indians\",\"Kolkata Knight Riders\",\"Delhi Capitals\",\"Royal Challengers Bengaluru\",\"Punjab Kings\",\"Mumbai Indians\",\"Mumbai Indians\",\"Delhi Capitals\",\"Chennai Super Kings\",\"Mumbai Indians\",\"Chennai Super Kings\",\"Delhi Capitals\",\"Royal Challengers Bengaluru\",\"Rajasthan Royals\",\"Mumbai Indians\",\"Punjab Kings\",\"Delhi Capitals\",\"Kolkata Knight Riders\",\"Rajasthan Royals\",\"Royal Challengers Bengaluru\",\"Sunrisers Hyderabad\",\"Kolkata Knight Riders\",\"Mumbai Indians\",\"Sunrisers Hyderabad\",\"Royal Challengers Bengaluru\",\"Delhi Capitals\",\"Chennai Super Kings\",\"Mumbai Indians\",\"Delhi Capitals\",\"Mumbai Indians\",\"Kolkata Knight Riders\",\"Sunrisers Hyderabad\",\"Delhi Capitals\",\"Kolkata Knight Riders\",\"Royal Challengers Bengaluru\",\"Rajasthan Royals\",\"Mumbai Indians\",\"Royal Challengers Bengaluru\",\"Chennai Super Kings\",\"Delhi Capitals\",\"Punjab Kings\",\"Mumbai Indians\",\"Delhi Capitals\",\"Royal Challengers Bengaluru\",\"Kolkata Knight Riders\",\"Punjab Kings\",\"Rajasthan Royals\",\"Punjab Kings\",\"Royal Challengers Bengaluru\",\"Sunrisers Hyderabad\",\"Mumbai Indians\",\"Kolkata Knight Riders\",\"Punjab Kings\",\"Rajasthan Royals\",\"Chennai Super Kings\",\"Punjab Kings\",\"Sunrisers Hyderabad\",\"Mumbai Indians\",\"Chennai Super Kings\",\"Rajasthan Royals\",\"Sunrisers Hyderabad\",\"Mumbai Indians\",\"Chennai Super Kings\",\"Kolkata Knight Riders\",\"Delhi Capitals\",\"Sunrisers Hyderabad\",\"Mumbai Indians\",\"Sunrisers Hyderabad\",\"Delhi Capitals\",\"Mumbai Indians\",\"Royal Challengers Bengaluru\",\"Delhi Capitals\",\"Kolkata Knight Riders\",\"Punjab Kings\",\"Mumbai Indians\",\"Royal Challengers Bengaluru\",\"Rajasthan Royals\",\"Chennai Super Kings\",\"Mumbai Indians\",\"Royal Challengers Bengaluru\",\"Delhi Capitals\",\"Chennai Super Kings\",\"Delhi Capitals\",\"Sunrisers Hyderabad\",\"Chennai Super Kings\",\"Royal Challengers Bengaluru\",\"Punjab Kings\",\"Rajasthan Royals\",\"Chennai Super Kings\",\"Delhi Capitals\",\"Kolkata Knight Riders\",\"Royal Challengers Bengaluru\",\"Chennai Super Kings\",\"Mumbai Indians\",\"Delhi Capitals\",\"Punjab Kings\",\"Mumbai Indians\",\"Rajasthan Royals\",\"Delhi Capitals\",\"Chennai Super Kings\",\"Kolkata Knight Riders\",\"Rajasthan Royals\",\"Delhi Capitals\",\"Kolkata Knight Riders\",\"Chennai Super Kings\",\"Delhi Capitals\",\"Punjab Kings\",\"Chennai Super Kings\",\"Royal Challengers Bengaluru\",\"Sunrisers Hyderabad\",\"Kolkata Knight Riders\",\"Mumbai Indians\",\"Royal Challengers Bengaluru\",\"Chennai Super Kings\",\"Punjab Kings\",\"Rajasthan Royals\",\"Delhi Capitals\",\"Royal Challengers Bengaluru\",\"Kolkata Knight Riders\",\"Delhi Capitals\",\"Mumbai Indians\",\"Sunrisers Hyderabad\",\"Punjab Kings\",\"Kolkata Knight Riders\",\"Mumbai Indians\",\"Royal Challengers Bengaluru\",\"Chennai Super Kings\",\"Kolkata Knight Riders\",\"Kolkata Knight Riders\",\"Chennai Super Kings\",\"Kolkata Knight Riders\",\"Delhi Capitals\",\"Punjab Kings\",\"Gujarat Titans\",\"Rajasthan Royals\",\"Royal Challengers Bengaluru\",\"Lucknow Super Giants\",\"Kolkata Knight Riders\",\"Rajasthan Royals\",\"Gujarat Titans\",\"Punjab Kings\",\"Lucknow Super Giants\",\"Royal Challengers Bengaluru\",\"Kolkata Knight Riders\",\"Lucknow Super Giants\",\"Gujarat Titans\",\"Sunrisers Hyderabad\",\"Royal Challengers Bengaluru\",\"Delhi Capitals\",\"Rajasthan Royals\",\"Sunrisers Hyderabad\",\"Chennai Super Kings\",\"Punjab Kings\",\"Gujarat Titans\",\"Sunrisers Hyderabad\",\"Lucknow Super Giants\",\"Royal Challengers Bengaluru\",\"Sunrisers Hyderabad\",\"Gujarat Titans\",\"Rajasthan Royals\",\"Royal Challengers Bengaluru\",\"Delhi Capitals\",\"Chennai Super Kings\",\"Rajasthan Royals\",\"Gujarat Titans\",\"Sunrisers Hyderabad\",\"Lucknow Super Giants\",\"Punjab Kings\",\"Rajasthan Royals\",\"Gujarat Titans\",\"Delhi Capitals\",\"Lucknow Super Giants\",\"Gujarat Titans\",\"Mumbai Indians\",\"Lucknow Super Giants\",\"Chennai Super Kings\",\"Kolkata Knight Riders\",\"Punjab Kings\",\"Royal Challengers Bengaluru\",\"Delhi Capitals\",\"Mumbai Indians\",\"Rajasthan Royals\",\"Lucknow Super Giants\",\"Royal Challengers Bengaluru\",\"Chennai Super Kings\",\"Kolkata Knight Riders\",\"Gujarat Titans\",\"Delhi Capitals\",\"Mumbai Indians\",\"Punjab Kings\",\"Kolkata Knight Riders\",\"Gujarat Titans\",\"Rajasthan Royals\",\"Delhi Capitals\",\"Sunrisers Hyderabad\",\"Lucknow Super Giants\",\"Royal Challengers Bengaluru\",\"Rajasthan Royals\",\"Mumbai Indians\",\"Punjab Kings\",\"Gujarat Titans\",\"Royal Challengers Bengaluru\",\"Rajasthan Royals\",\"Gujarat Titans\",\"Gujarat Titans\",\"Punjab Kings\",\"Lucknow Super Giants\",\"Rajasthan Royals\",\"Royal Challengers Bengaluru\",\"Chennai Super Kings\",\"Gujarat Titans\",\"Punjab Kings\",\"Kolkata Knight Riders\",\"Lucknow Super Giants\",\"Rajasthan Royals\",\"Chennai Super Kings\",\"Kolkata Knight Riders\",\"Sunrisers Hyderabad\",\"Lucknow Super Giants\",\"Mumbai Indians\",\"Rajasthan Royals\",\"Gujarat Titans\",\"Sunrisers Hyderabad\",\"Royal Challengers Bengaluru\",\"Punjab Kings\",\"Mumbai Indians\",\"Rajasthan Royals\",\"Chennai Super Kings\",\"Mumbai Indians\",\"Lucknow Super Giants\",\"Royal Challengers Bengaluru\",\"Delhi Capitals\",\"Chennai Super Kings\",\"Gujarat Titans\",\"Punjab Kings\",\"Royal Challengers Bengaluru\",\"Chennai Super Kings\",\"Delhi Capitals\",\"Gujarat Titans\",\"Kolkata Knight Riders\",\"Rajasthan Royals\",\"Lucknow Super Giants\",\"Gujarat Titans\",\"Sunrisers Hyderabad\",\"Punjab Kings\",\"Mumbai Indians\",\"Royal Challengers Bengaluru\",\"Delhi Capitals\",\"Mumbai Indians\",\"Mumbai Indians\",\"Kolkata Knight Riders\",\"Gujarat Titans\",\"Chennai Super Kings\",\"Delhi Capitals\",\"Gujarat Titans\",\"Sunrisers Hyderabad\",\"Kolkata Knight Riders\",\"Mumbai Indians\",\"Chennai Super Kings\",\"Rajasthan Royals\",\"Mumbai Indians\",\"Lucknow Super Giants\",\"Punjab Kings\",\"Royal Challengers Bengaluru\",\"Kolkata Knight Riders\",\"Gujarat Titans\",\"Lucknow Super Giants\",\"Delhi Capitals\",\"Royal Challengers Bengaluru\",\"Rajasthan Royals\",\"Chennai Super Kings\",\"Lucknow Super Giants\",\"Mumbai Indians\",\"Gujarat Titans\",\"Chennai Super Kings\",\"Mumbai Indians\",\"Gujarat Titans\",\"Chennai Super Kings\",\"Chennai Super Kings\",\"Punjab Kings\",\"Kolkata Knight Riders\",\"Rajasthan Royals\",\"Gujarat Titans\",\"Royal Challengers Bengaluru\",\"Chennai Super Kings\",\"Sunrisers Hyderabad\",\"Rajasthan Royals\",\"Kolkata Knight Riders\",\"Lucknow Super Giants\",\"Gujarat Titans\",\"Delhi Capitals\",\"Rajasthan Royals\",\"Lucknow Super Giants\",\"Kolkata Knight Riders\",\"Punjab Kings\",\"Sunrisers Hyderabad\",\"Rajasthan Royals\",\"Mumbai Indians\",\"Lucknow Super Giants\",\"Chennai Super Kings\",\"Sunrisers Hyderabad\",\"Gujarat Titans\",\"Mumbai Indians\",\"Delhi Capitals\",\"Rajasthan Royals\",\"Kolkata Knight Riders\",\"Chennai Super Kings\",\"Sunrisers Hyderabad\",\"Rajasthan Royals\",\"Delhi Capitals\",\"Mumbai Indians\",\"Lucknow Super Giants\",\"Sunrisers Hyderabad\",\"Kolkata Knight Riders\",\"Gujarat Titans\",\"Rajasthan Royals\",\"Lucknow Super Giants\",\"Delhi Capitals\",\"Royal Challengers Bengaluru\",\"Punjab Kings\",\"Delhi Capitals\",\"Rajasthan Royals\",\"Royal Challengers Bengaluru\",\"Chennai Super Kings\",\"Kolkata Knight Riders\",\"Lucknow Super Giants\",\"Punjab Kings\",\"Sunrisers Hyderabad\",\"Kolkata Knight Riders\",\"Royal Challengers Bengaluru\",\"Chennai Super Kings\",\"Kolkata Knight Riders\",\"Mumbai Indians\",\"Delhi Capitals\",\"Sunrisers Hyderabad\",\"Royal Challengers Bengaluru\",\"Gujarat Titans\",\"Kolkata Knight Riders\",\"Chennai Super Kings\",\"Royal Challengers Bengaluru\",\"Delhi Capitals\",\"Punjab Kings\",\"Lucknow Super Giants\",\"Royal Challengers Bengaluru\",\"Sunrisers Hyderabad\",\"Kolkata Knight Riders\",\"Rajasthan Royals\",\"Sunrisers Hyderabad\",\"Kolkata Knight Riders\"],\"legendgroup\":\"\",\"name\":\"\",\"showlegend\":true,\"type\":\"pie\"}],                        {\"template\":{\"data\":{\"histogram2dcontour\":[{\"type\":\"histogram2dcontour\",\"colorbar\":{\"outlinewidth\":0,\"ticks\":\"\"},\"colorscale\":[[0.0,\"#0d0887\"],[0.1111111111111111,\"#46039f\"],[0.2222222222222222,\"#7201a8\"],[0.3333333333333333,\"#9c179e\"],[0.4444444444444444,\"#bd3786\"],[0.5555555555555556,\"#d8576b\"],[0.6666666666666666,\"#ed7953\"],[0.7777777777777778,\"#fb9f3a\"],[0.8888888888888888,\"#fdca26\"],[1.0,\"#f0f921\"]]}],\"choropleth\":[{\"type\":\"choropleth\",\"colorbar\":{\"outlinewidth\":0,\"ticks\":\"\"}}],\"histogram2d\":[{\"type\":\"histogram2d\",\"colorbar\":{\"outlinewidth\":0,\"ticks\":\"\"},\"colorscale\":[[0.0,\"#0d0887\"],[0.1111111111111111,\"#46039f\"],[0.2222222222222222,\"#7201a8\"],[0.3333333333333333,\"#9c179e\"],[0.4444444444444444,\"#bd3786\"],[0.5555555555555556,\"#d8576b\"],[0.6666666666666666,\"#ed7953\"],[0.7777777777777778,\"#fb9f3a\"],[0.8888888888888888,\"#fdca26\"],[1.0,\"#f0f921\"]]}],\"heatmap\":[{\"type\":\"heatmap\",\"colorbar\":{\"outlinewidth\":0,\"ticks\":\"\"},\"colorscale\":[[0.0,\"#0d0887\"],[0.1111111111111111,\"#46039f\"],[0.2222222222222222,\"#7201a8\"],[0.3333333333333333,\"#9c179e\"],[0.4444444444444444,\"#bd3786\"],[0.5555555555555556,\"#d8576b\"],[0.6666666666666666,\"#ed7953\"],[0.7777777777777778,\"#fb9f3a\"],[0.8888888888888888,\"#fdca26\"],[1.0,\"#f0f921\"]]}],\"heatmapgl\":[{\"type\":\"heatmapgl\",\"colorbar\":{\"outlinewidth\":0,\"ticks\":\"\"},\"colorscale\":[[0.0,\"#0d0887\"],[0.1111111111111111,\"#46039f\"],[0.2222222222222222,\"#7201a8\"],[0.3333333333333333,\"#9c179e\"],[0.4444444444444444,\"#bd3786\"],[0.5555555555555556,\"#d8576b\"],[0.6666666666666666,\"#ed7953\"],[0.7777777777777778,\"#fb9f3a\"],[0.8888888888888888,\"#fdca26\"],[1.0,\"#f0f921\"]]}],\"contourcarpet\":[{\"type\":\"contourcarpet\",\"colorbar\":{\"outlinewidth\":0,\"ticks\":\"\"}}],\"contour\":[{\"type\":\"contour\",\"colorbar\":{\"outlinewidth\":0,\"ticks\":\"\"},\"colorscale\":[[0.0,\"#0d0887\"],[0.1111111111111111,\"#46039f\"],[0.2222222222222222,\"#7201a8\"],[0.3333333333333333,\"#9c179e\"],[0.4444444444444444,\"#bd3786\"],[0.5555555555555556,\"#d8576b\"],[0.6666666666666666,\"#ed7953\"],[0.7777777777777778,\"#fb9f3a\"],[0.8888888888888888,\"#fdca26\"],[1.0,\"#f0f921\"]]}],\"surface\":[{\"type\":\"surface\",\"colorbar\":{\"outlinewidth\":0,\"ticks\":\"\"},\"colorscale\":[[0.0,\"#0d0887\"],[0.1111111111111111,\"#46039f\"],[0.2222222222222222,\"#7201a8\"],[0.3333333333333333,\"#9c179e\"],[0.4444444444444444,\"#bd3786\"],[0.5555555555555556,\"#d8576b\"],[0.6666666666666666,\"#ed7953\"],[0.7777777777777778,\"#fb9f3a\"],[0.8888888888888888,\"#fdca26\"],[1.0,\"#f0f921\"]]}],\"mesh3d\":[{\"type\":\"mesh3d\",\"colorbar\":{\"outlinewidth\":0,\"ticks\":\"\"}}],\"scatter\":[{\"fillpattern\":{\"fillmode\":\"overlay\",\"size\":10,\"solidity\":0.2},\"type\":\"scatter\"}],\"parcoords\":[{\"type\":\"parcoords\",\"line\":{\"colorbar\":{\"outlinewidth\":0,\"ticks\":\"\"}}}],\"scatterpolargl\":[{\"type\":\"scatterpolargl\",\"marker\":{\"colorbar\":{\"outlinewidth\":0,\"ticks\":\"\"}}}],\"bar\":[{\"error_x\":{\"color\":\"#2a3f5f\"},\"error_y\":{\"color\":\"#2a3f5f\"},\"marker\":{\"line\":{\"color\":\"#E5ECF6\",\"width\":0.5},\"pattern\":{\"fillmode\":\"overlay\",\"size\":10,\"solidity\":0.2}},\"type\":\"bar\"}],\"scattergeo\":[{\"type\":\"scattergeo\",\"marker\":{\"colorbar\":{\"outlinewidth\":0,\"ticks\":\"\"}}}],\"scatterpolar\":[{\"type\":\"scatterpolar\",\"marker\":{\"colorbar\":{\"outlinewidth\":0,\"ticks\":\"\"}}}],\"histogram\":[{\"marker\":{\"pattern\":{\"fillmode\":\"overlay\",\"size\":10,\"solidity\":0.2}},\"type\":\"histogram\"}],\"scattergl\":[{\"type\":\"scattergl\",\"marker\":{\"colorbar\":{\"outlinewidth\":0,\"ticks\":\"\"}}}],\"scatter3d\":[{\"type\":\"scatter3d\",\"line\":{\"colorbar\":{\"outlinewidth\":0,\"ticks\":\"\"}},\"marker\":{\"colorbar\":{\"outlinewidth\":0,\"ticks\":\"\"}}}],\"scattermapbox\":[{\"type\":\"scattermapbox\",\"marker\":{\"colorbar\":{\"outlinewidth\":0,\"ticks\":\"\"}}}],\"scatterternary\":[{\"type\":\"scatterternary\",\"marker\":{\"colorbar\":{\"outlinewidth\":0,\"ticks\":\"\"}}}],\"scattercarpet\":[{\"type\":\"scattercarpet\",\"marker\":{\"colorbar\":{\"outlinewidth\":0,\"ticks\":\"\"}}}],\"carpet\":[{\"aaxis\":{\"endlinecolor\":\"#2a3f5f\",\"gridcolor\":\"white\",\"linecolor\":\"white\",\"minorgridcolor\":\"white\",\"startlinecolor\":\"#2a3f5f\"},\"baxis\":{\"endlinecolor\":\"#2a3f5f\",\"gridcolor\":\"white\",\"linecolor\":\"white\",\"minorgridcolor\":\"white\",\"startlinecolor\":\"#2a3f5f\"},\"type\":\"carpet\"}],\"table\":[{\"cells\":{\"fill\":{\"color\":\"#EBF0F8\"},\"line\":{\"color\":\"white\"}},\"header\":{\"fill\":{\"color\":\"#C8D4E3\"},\"line\":{\"color\":\"white\"}},\"type\":\"table\"}],\"barpolar\":[{\"marker\":{\"line\":{\"color\":\"#E5ECF6\",\"width\":0.5},\"pattern\":{\"fillmode\":\"overlay\",\"size\":10,\"solidity\":0.2}},\"type\":\"barpolar\"}],\"pie\":[{\"automargin\":true,\"type\":\"pie\"}]},\"layout\":{\"autotypenumbers\":\"strict\",\"colorway\":[\"#636efa\",\"#EF553B\",\"#00cc96\",\"#ab63fa\",\"#FFA15A\",\"#19d3f3\",\"#FF6692\",\"#B6E880\",\"#FF97FF\",\"#FECB52\"],\"font\":{\"color\":\"#2a3f5f\"},\"hovermode\":\"closest\",\"hoverlabel\":{\"align\":\"left\"},\"paper_bgcolor\":\"white\",\"plot_bgcolor\":\"#E5ECF6\",\"polar\":{\"bgcolor\":\"#E5ECF6\",\"angularaxis\":{\"gridcolor\":\"white\",\"linecolor\":\"white\",\"ticks\":\"\"},\"radialaxis\":{\"gridcolor\":\"white\",\"linecolor\":\"white\",\"ticks\":\"\"}},\"ternary\":{\"bgcolor\":\"#E5ECF6\",\"aaxis\":{\"gridcolor\":\"white\",\"linecolor\":\"white\",\"ticks\":\"\"},\"baxis\":{\"gridcolor\":\"white\",\"linecolor\":\"white\",\"ticks\":\"\"},\"caxis\":{\"gridcolor\":\"white\",\"linecolor\":\"white\",\"ticks\":\"\"}},\"coloraxis\":{\"colorbar\":{\"outlinewidth\":0,\"ticks\":\"\"}},\"colorscale\":{\"sequential\":[[0.0,\"#0d0887\"],[0.1111111111111111,\"#46039f\"],[0.2222222222222222,\"#7201a8\"],[0.3333333333333333,\"#9c179e\"],[0.4444444444444444,\"#bd3786\"],[0.5555555555555556,\"#d8576b\"],[0.6666666666666666,\"#ed7953\"],[0.7777777777777778,\"#fb9f3a\"],[0.8888888888888888,\"#fdca26\"],[1.0,\"#f0f921\"]],\"sequentialminus\":[[0.0,\"#0d0887\"],[0.1111111111111111,\"#46039f\"],[0.2222222222222222,\"#7201a8\"],[0.3333333333333333,\"#9c179e\"],[0.4444444444444444,\"#bd3786\"],[0.5555555555555556,\"#d8576b\"],[0.6666666666666666,\"#ed7953\"],[0.7777777777777778,\"#fb9f3a\"],[0.8888888888888888,\"#fdca26\"],[1.0,\"#f0f921\"]],\"diverging\":[[0,\"#8e0152\"],[0.1,\"#c51b7d\"],[0.2,\"#de77ae\"],[0.3,\"#f1b6da\"],[0.4,\"#fde0ef\"],[0.5,\"#f7f7f7\"],[0.6,\"#e6f5d0\"],[0.7,\"#b8e186\"],[0.8,\"#7fbc41\"],[0.9,\"#4d9221\"],[1,\"#276419\"]]},\"xaxis\":{\"gridcolor\":\"white\",\"linecolor\":\"white\",\"ticks\":\"\",\"title\":{\"standoff\":15},\"zerolinecolor\":\"white\",\"automargin\":true,\"zerolinewidth\":2},\"yaxis\":{\"gridcolor\":\"white\",\"linecolor\":\"white\",\"ticks\":\"\",\"title\":{\"standoff\":15},\"zerolinecolor\":\"white\",\"automargin\":true,\"zerolinewidth\":2},\"scene\":{\"xaxis\":{\"backgroundcolor\":\"#E5ECF6\",\"gridcolor\":\"white\",\"linecolor\":\"white\",\"showbackground\":true,\"ticks\":\"\",\"zerolinecolor\":\"white\",\"gridwidth\":2},\"yaxis\":{\"backgroundcolor\":\"#E5ECF6\",\"gridcolor\":\"white\",\"linecolor\":\"white\",\"showbackground\":true,\"ticks\":\"\",\"zerolinecolor\":\"white\",\"gridwidth\":2},\"zaxis\":{\"backgroundcolor\":\"#E5ECF6\",\"gridcolor\":\"white\",\"linecolor\":\"white\",\"showbackground\":true,\"ticks\":\"\",\"zerolinecolor\":\"white\",\"gridwidth\":2}},\"shapedefaults\":{\"line\":{\"color\":\"#2a3f5f\"}},\"annotationdefaults\":{\"arrowcolor\":\"#2a3f5f\",\"arrowhead\":0,\"arrowwidth\":1},\"geo\":{\"bgcolor\":\"white\",\"landcolor\":\"#E5ECF6\",\"subunitcolor\":\"white\",\"showland\":true,\"showlakes\":true,\"lakecolor\":\"white\"},\"title\":{\"x\":0.05},\"mapbox\":{\"style\":\"light\"}}},\"legend\":{\"tracegroupgap\":0},\"title\":{\"text\":\"Winners Over Time\"}},                        {\"responsive\": true}                    ).then(function(){\n",
              "                            \n",
              "var gd = document.getElementById('e7050036-0de1-4b29-9a61-0babf23210ac');\n",
              "var x = new MutationObserver(function (mutations, observer) {{\n",
              "        var display = window.getComputedStyle(gd).display;\n",
              "        if (!display || display === 'none') {{\n",
              "            console.log([gd, 'removed!']);\n",
              "            Plotly.purge(gd);\n",
              "            observer.disconnect();\n",
              "        }}\n",
              "}});\n",
              "\n",
              "// Listen for the removal of the full notebook cells\n",
              "var notebookContainer = gd.closest('#notebook-container');\n",
              "if (notebookContainer) {{\n",
              "    x.observe(notebookContainer, {childList: true});\n",
              "}}\n",
              "\n",
              "// Listen for the clearing of the current output cell\n",
              "var outputEl = gd.closest('.output');\n",
              "if (outputEl) {{\n",
              "    x.observe(outputEl, {childList: true});\n",
              "}}\n",
              "\n",
              "                        })                };                            </script>        </div>\n",
              "</body>\n",
              "</html>"
            ]
          },
          "metadata": {}
        }
      ]
    },
    {
      "cell_type": "code",
      "source": [
        "toss_winner_data = matches.groupby(['toss_decision', 'winner']).size().reset_index(name='count')\n",
        "\n",
        "# Split the data based on 'toss_decision'\n",
        "data_bat = toss_winner_data[toss_winner_data['toss_decision'] == 'bat']\n",
        "data_field = toss_winner_data[toss_winner_data['toss_decision'] == 'field']\n",
        "\n",
        "# Create the bar chart for 'bat'\n",
        "fig_bat = px.bar(data_bat,\n",
        "                 x='winner',\n",
        "                 y='count',\n",
        "                 title='Impact of Toss Decision on Match Winner (Bat)',\n",
        "                 labels={'winner': 'Winner', 'count': 'Match Count'},\n",
        "                 color='winner',\n",
        "                 hover_data={'winner': True, 'count': True})\n",
        "\n",
        "# Update layout for the 'bat' chart\n",
        "fig_bat.update_layout(\n",
        "    xaxis_title=\"Match Winner\",\n",
        "    yaxis_title=\"Number of Matches\",\n",
        "    legend_title=\"Winner\"\n",
        ")\n",
        "\n",
        "# Create the bar chart for 'field'\n",
        "fig_field = px.bar(data_field,\n",
        "                   x='winner',\n",
        "                   y='count',\n",
        "                   title='Impact of Toss Decision on Match Winner (Field)',\n",
        "                   labels={'winner': 'Winner', 'count': 'Match Count'},\n",
        "                   color='winner',\n",
        "                   hover_data={'winner': True, 'count': True})\n",
        "\n",
        "# Update layout for the 'field' chart\n",
        "fig_field.update_layout(\n",
        "    xaxis_title=\"Match Winner\",\n",
        "    yaxis_title=\"Number of Matches\",\n",
        "    legend_title=\"Winner\"\n",
        ")\n",
        "\n",
        "# Display the charts\n",
        "fig_bat.show()\n",
        "fig_field.show()"
      ],
      "metadata": {
        "colab": {
          "base_uri": "https://localhost:8080/",
          "height": 1000
        },
        "id": "z6DDvS0hCc2l",
        "outputId": "9ab26a47-d475-4299-b261-14291982ab69"
      },
      "execution_count": 25,
      "outputs": [
        {
          "output_type": "display_data",
          "data": {
            "text/html": [
              "<html>\n",
              "<head><meta charset=\"utf-8\" /></head>\n",
              "<body>\n",
              "    <div>            <script src=\"https://cdnjs.cloudflare.com/ajax/libs/mathjax/2.7.5/MathJax.js?config=TeX-AMS-MML_SVG\"></script><script type=\"text/javascript\">if (window.MathJax && window.MathJax.Hub && window.MathJax.Hub.Config) {window.MathJax.Hub.Config({SVG: {font: \"STIX-Web\"}});}</script>                <script type=\"text/javascript\">window.PlotlyConfig = {MathJaxConfig: 'local'};</script>\n",
              "        <script charset=\"utf-8\" src=\"https://cdn.plot.ly/plotly-2.35.2.min.js\"></script>                <div id=\"ec9c8733-cd1b-44c6-8cbe-fd3ff1fe1fb4\" class=\"plotly-graph-div\" style=\"height:525px; width:100%;\"></div>            <script type=\"text/javascript\">                                    window.PLOTLYENV=window.PLOTLYENV || {};                                    if (document.getElementById(\"ec9c8733-cd1b-44c6-8cbe-fd3ff1fe1fb4\")) {                    Plotly.newPlot(                        \"ec9c8733-cd1b-44c6-8cbe-fd3ff1fe1fb4\",                        [{\"alignmentgroup\":\"True\",\"hovertemplate\":\"Winner=%{x}\\u003cbr\\u003eMatch Count=%{y}\\u003cextra\\u003e\\u003c\\u002fextra\\u003e\",\"legendgroup\":\"Chennai Super Kings\",\"marker\":{\"color\":\"#636efa\",\"pattern\":{\"shape\":\"\"}},\"name\":\"Chennai Super Kings\",\"offsetgroup\":\"Chennai Super Kings\",\"orientation\":\"v\",\"showlegend\":true,\"textposition\":\"auto\",\"x\":[\"Chennai Super Kings\"],\"xaxis\":\"x\",\"y\":[60],\"yaxis\":\"y\",\"type\":\"bar\"},{\"alignmentgroup\":\"True\",\"hovertemplate\":\"Winner=%{x}\\u003cbr\\u003eMatch Count=%{y}\\u003cextra\\u003e\\u003c\\u002fextra\\u003e\",\"legendgroup\":\"Delhi Capitals\",\"marker\":{\"color\":\"#EF553B\",\"pattern\":{\"shape\":\"\"}},\"name\":\"Delhi Capitals\",\"offsetgroup\":\"Delhi Capitals\",\"orientation\":\"v\",\"showlegend\":true,\"textposition\":\"auto\",\"x\":[\"Delhi Capitals\"],\"xaxis\":\"x\",\"y\":[39],\"yaxis\":\"y\",\"type\":\"bar\"},{\"alignmentgroup\":\"True\",\"hovertemplate\":\"Winner=%{x}\\u003cbr\\u003eMatch Count=%{y}\\u003cextra\\u003e\\u003c\\u002fextra\\u003e\",\"legendgroup\":\"Gujarat Titans\",\"marker\":{\"color\":\"#00cc96\",\"pattern\":{\"shape\":\"\"}},\"name\":\"Gujarat Titans\",\"offsetgroup\":\"Gujarat Titans\",\"orientation\":\"v\",\"showlegend\":true,\"textposition\":\"auto\",\"x\":[\"Gujarat Titans\"],\"xaxis\":\"x\",\"y\":[9],\"yaxis\":\"y\",\"type\":\"bar\"},{\"alignmentgroup\":\"True\",\"hovertemplate\":\"Winner=%{x}\\u003cbr\\u003eMatch Count=%{y}\\u003cextra\\u003e\\u003c\\u002fextra\\u003e\",\"legendgroup\":\"Kolkata Knight Riders\",\"marker\":{\"color\":\"#ab63fa\",\"pattern\":{\"shape\":\"\"}},\"name\":\"Kolkata Knight Riders\",\"offsetgroup\":\"Kolkata Knight Riders\",\"orientation\":\"v\",\"showlegend\":true,\"textposition\":\"auto\",\"x\":[\"Kolkata Knight Riders\"],\"xaxis\":\"x\",\"y\":[46],\"yaxis\":\"y\",\"type\":\"bar\"},{\"alignmentgroup\":\"True\",\"hovertemplate\":\"Winner=%{x}\\u003cbr\\u003eMatch Count=%{y}\\u003cextra\\u003e\\u003c\\u002fextra\\u003e\",\"legendgroup\":\"Lucknow Super Giants\",\"marker\":{\"color\":\"#FFA15A\",\"pattern\":{\"shape\":\"\"}},\"name\":\"Lucknow Super Giants\",\"offsetgroup\":\"Lucknow Super Giants\",\"orientation\":\"v\",\"showlegend\":true,\"textposition\":\"auto\",\"x\":[\"Lucknow Super Giants\"],\"xaxis\":\"x\",\"y\":[6],\"yaxis\":\"y\",\"type\":\"bar\"},{\"alignmentgroup\":\"True\",\"hovertemplate\":\"Winner=%{x}\\u003cbr\\u003eMatch Count=%{y}\\u003cextra\\u003e\\u003c\\u002fextra\\u003e\",\"legendgroup\":\"Mumbai Indians\",\"marker\":{\"color\":\"#19d3f3\",\"pattern\":{\"shape\":\"\"}},\"name\":\"Mumbai Indians\",\"offsetgroup\":\"Mumbai Indians\",\"orientation\":\"v\",\"showlegend\":true,\"textposition\":\"auto\",\"x\":[\"Mumbai Indians\"],\"xaxis\":\"x\",\"y\":[48],\"yaxis\":\"y\",\"type\":\"bar\"},{\"alignmentgroup\":\"True\",\"hovertemplate\":\"Winner=%{x}\\u003cbr\\u003eMatch Count=%{y}\\u003cextra\\u003e\\u003c\\u002fextra\\u003e\",\"legendgroup\":\"Punjab Kings\",\"marker\":{\"color\":\"#FF6692\",\"pattern\":{\"shape\":\"\"}},\"name\":\"Punjab Kings\",\"offsetgroup\":\"Punjab Kings\",\"orientation\":\"v\",\"showlegend\":true,\"textposition\":\"auto\",\"x\":[\"Punjab Kings\"],\"xaxis\":\"x\",\"y\":[26],\"yaxis\":\"y\",\"type\":\"bar\"},{\"alignmentgroup\":\"True\",\"hovertemplate\":\"Winner=%{x}\\u003cbr\\u003eMatch Count=%{y}\\u003cextra\\u003e\\u003c\\u002fextra\\u003e\",\"legendgroup\":\"Rajasthan Royals\",\"marker\":{\"color\":\"#B6E880\",\"pattern\":{\"shape\":\"\"}},\"name\":\"Rajasthan Royals\",\"offsetgroup\":\"Rajasthan Royals\",\"orientation\":\"v\",\"showlegend\":true,\"textposition\":\"auto\",\"x\":[\"Rajasthan Royals\"],\"xaxis\":\"x\",\"y\":[40],\"yaxis\":\"y\",\"type\":\"bar\"},{\"alignmentgroup\":\"True\",\"hovertemplate\":\"Winner=%{x}\\u003cbr\\u003eMatch Count=%{y}\\u003cextra\\u003e\\u003c\\u002fextra\\u003e\",\"legendgroup\":\"Royal Challengers Bengaluru\",\"marker\":{\"color\":\"#FF97FF\",\"pattern\":{\"shape\":\"\"}},\"name\":\"Royal Challengers Bengaluru\",\"offsetgroup\":\"Royal Challengers Bengaluru\",\"orientation\":\"v\",\"showlegend\":true,\"textposition\":\"auto\",\"x\":[\"Royal Challengers Bengaluru\"],\"xaxis\":\"x\",\"y\":[34],\"yaxis\":\"y\",\"type\":\"bar\"},{\"alignmentgroup\":\"True\",\"hovertemplate\":\"Winner=%{x}\\u003cbr\\u003eMatch Count=%{y}\\u003cextra\\u003e\\u003c\\u002fextra\\u003e\",\"legendgroup\":\"Sunrisers Hyderabad\",\"marker\":{\"color\":\"#FECB52\",\"pattern\":{\"shape\":\"\"}},\"name\":\"Sunrisers Hyderabad\",\"offsetgroup\":\"Sunrisers Hyderabad\",\"orientation\":\"v\",\"showlegend\":true,\"textposition\":\"auto\",\"x\":[\"Sunrisers Hyderabad\"],\"xaxis\":\"x\",\"y\":[41],\"yaxis\":\"y\",\"type\":\"bar\"}],                        {\"template\":{\"data\":{\"histogram2dcontour\":[{\"type\":\"histogram2dcontour\",\"colorbar\":{\"outlinewidth\":0,\"ticks\":\"\"},\"colorscale\":[[0.0,\"#0d0887\"],[0.1111111111111111,\"#46039f\"],[0.2222222222222222,\"#7201a8\"],[0.3333333333333333,\"#9c179e\"],[0.4444444444444444,\"#bd3786\"],[0.5555555555555556,\"#d8576b\"],[0.6666666666666666,\"#ed7953\"],[0.7777777777777778,\"#fb9f3a\"],[0.8888888888888888,\"#fdca26\"],[1.0,\"#f0f921\"]]}],\"choropleth\":[{\"type\":\"choropleth\",\"colorbar\":{\"outlinewidth\":0,\"ticks\":\"\"}}],\"histogram2d\":[{\"type\":\"histogram2d\",\"colorbar\":{\"outlinewidth\":0,\"ticks\":\"\"},\"colorscale\":[[0.0,\"#0d0887\"],[0.1111111111111111,\"#46039f\"],[0.2222222222222222,\"#7201a8\"],[0.3333333333333333,\"#9c179e\"],[0.4444444444444444,\"#bd3786\"],[0.5555555555555556,\"#d8576b\"],[0.6666666666666666,\"#ed7953\"],[0.7777777777777778,\"#fb9f3a\"],[0.8888888888888888,\"#fdca26\"],[1.0,\"#f0f921\"]]}],\"heatmap\":[{\"type\":\"heatmap\",\"colorbar\":{\"outlinewidth\":0,\"ticks\":\"\"},\"colorscale\":[[0.0,\"#0d0887\"],[0.1111111111111111,\"#46039f\"],[0.2222222222222222,\"#7201a8\"],[0.3333333333333333,\"#9c179e\"],[0.4444444444444444,\"#bd3786\"],[0.5555555555555556,\"#d8576b\"],[0.6666666666666666,\"#ed7953\"],[0.7777777777777778,\"#fb9f3a\"],[0.8888888888888888,\"#fdca26\"],[1.0,\"#f0f921\"]]}],\"heatmapgl\":[{\"type\":\"heatmapgl\",\"colorbar\":{\"outlinewidth\":0,\"ticks\":\"\"},\"colorscale\":[[0.0,\"#0d0887\"],[0.1111111111111111,\"#46039f\"],[0.2222222222222222,\"#7201a8\"],[0.3333333333333333,\"#9c179e\"],[0.4444444444444444,\"#bd3786\"],[0.5555555555555556,\"#d8576b\"],[0.6666666666666666,\"#ed7953\"],[0.7777777777777778,\"#fb9f3a\"],[0.8888888888888888,\"#fdca26\"],[1.0,\"#f0f921\"]]}],\"contourcarpet\":[{\"type\":\"contourcarpet\",\"colorbar\":{\"outlinewidth\":0,\"ticks\":\"\"}}],\"contour\":[{\"type\":\"contour\",\"colorbar\":{\"outlinewidth\":0,\"ticks\":\"\"},\"colorscale\":[[0.0,\"#0d0887\"],[0.1111111111111111,\"#46039f\"],[0.2222222222222222,\"#7201a8\"],[0.3333333333333333,\"#9c179e\"],[0.4444444444444444,\"#bd3786\"],[0.5555555555555556,\"#d8576b\"],[0.6666666666666666,\"#ed7953\"],[0.7777777777777778,\"#fb9f3a\"],[0.8888888888888888,\"#fdca26\"],[1.0,\"#f0f921\"]]}],\"surface\":[{\"type\":\"surface\",\"colorbar\":{\"outlinewidth\":0,\"ticks\":\"\"},\"colorscale\":[[0.0,\"#0d0887\"],[0.1111111111111111,\"#46039f\"],[0.2222222222222222,\"#7201a8\"],[0.3333333333333333,\"#9c179e\"],[0.4444444444444444,\"#bd3786\"],[0.5555555555555556,\"#d8576b\"],[0.6666666666666666,\"#ed7953\"],[0.7777777777777778,\"#fb9f3a\"],[0.8888888888888888,\"#fdca26\"],[1.0,\"#f0f921\"]]}],\"mesh3d\":[{\"type\":\"mesh3d\",\"colorbar\":{\"outlinewidth\":0,\"ticks\":\"\"}}],\"scatter\":[{\"fillpattern\":{\"fillmode\":\"overlay\",\"size\":10,\"solidity\":0.2},\"type\":\"scatter\"}],\"parcoords\":[{\"type\":\"parcoords\",\"line\":{\"colorbar\":{\"outlinewidth\":0,\"ticks\":\"\"}}}],\"scatterpolargl\":[{\"type\":\"scatterpolargl\",\"marker\":{\"colorbar\":{\"outlinewidth\":0,\"ticks\":\"\"}}}],\"bar\":[{\"error_x\":{\"color\":\"#2a3f5f\"},\"error_y\":{\"color\":\"#2a3f5f\"},\"marker\":{\"line\":{\"color\":\"#E5ECF6\",\"width\":0.5},\"pattern\":{\"fillmode\":\"overlay\",\"size\":10,\"solidity\":0.2}},\"type\":\"bar\"}],\"scattergeo\":[{\"type\":\"scattergeo\",\"marker\":{\"colorbar\":{\"outlinewidth\":0,\"ticks\":\"\"}}}],\"scatterpolar\":[{\"type\":\"scatterpolar\",\"marker\":{\"colorbar\":{\"outlinewidth\":0,\"ticks\":\"\"}}}],\"histogram\":[{\"marker\":{\"pattern\":{\"fillmode\":\"overlay\",\"size\":10,\"solidity\":0.2}},\"type\":\"histogram\"}],\"scattergl\":[{\"type\":\"scattergl\",\"marker\":{\"colorbar\":{\"outlinewidth\":0,\"ticks\":\"\"}}}],\"scatter3d\":[{\"type\":\"scatter3d\",\"line\":{\"colorbar\":{\"outlinewidth\":0,\"ticks\":\"\"}},\"marker\":{\"colorbar\":{\"outlinewidth\":0,\"ticks\":\"\"}}}],\"scattermapbox\":[{\"type\":\"scattermapbox\",\"marker\":{\"colorbar\":{\"outlinewidth\":0,\"ticks\":\"\"}}}],\"scatterternary\":[{\"type\":\"scatterternary\",\"marker\":{\"colorbar\":{\"outlinewidth\":0,\"ticks\":\"\"}}}],\"scattercarpet\":[{\"type\":\"scattercarpet\",\"marker\":{\"colorbar\":{\"outlinewidth\":0,\"ticks\":\"\"}}}],\"carpet\":[{\"aaxis\":{\"endlinecolor\":\"#2a3f5f\",\"gridcolor\":\"white\",\"linecolor\":\"white\",\"minorgridcolor\":\"white\",\"startlinecolor\":\"#2a3f5f\"},\"baxis\":{\"endlinecolor\":\"#2a3f5f\",\"gridcolor\":\"white\",\"linecolor\":\"white\",\"minorgridcolor\":\"white\",\"startlinecolor\":\"#2a3f5f\"},\"type\":\"carpet\"}],\"table\":[{\"cells\":{\"fill\":{\"color\":\"#EBF0F8\"},\"line\":{\"color\":\"white\"}},\"header\":{\"fill\":{\"color\":\"#C8D4E3\"},\"line\":{\"color\":\"white\"}},\"type\":\"table\"}],\"barpolar\":[{\"marker\":{\"line\":{\"color\":\"#E5ECF6\",\"width\":0.5},\"pattern\":{\"fillmode\":\"overlay\",\"size\":10,\"solidity\":0.2}},\"type\":\"barpolar\"}],\"pie\":[{\"automargin\":true,\"type\":\"pie\"}]},\"layout\":{\"autotypenumbers\":\"strict\",\"colorway\":[\"#636efa\",\"#EF553B\",\"#00cc96\",\"#ab63fa\",\"#FFA15A\",\"#19d3f3\",\"#FF6692\",\"#B6E880\",\"#FF97FF\",\"#FECB52\"],\"font\":{\"color\":\"#2a3f5f\"},\"hovermode\":\"closest\",\"hoverlabel\":{\"align\":\"left\"},\"paper_bgcolor\":\"white\",\"plot_bgcolor\":\"#E5ECF6\",\"polar\":{\"bgcolor\":\"#E5ECF6\",\"angularaxis\":{\"gridcolor\":\"white\",\"linecolor\":\"white\",\"ticks\":\"\"},\"radialaxis\":{\"gridcolor\":\"white\",\"linecolor\":\"white\",\"ticks\":\"\"}},\"ternary\":{\"bgcolor\":\"#E5ECF6\",\"aaxis\":{\"gridcolor\":\"white\",\"linecolor\":\"white\",\"ticks\":\"\"},\"baxis\":{\"gridcolor\":\"white\",\"linecolor\":\"white\",\"ticks\":\"\"},\"caxis\":{\"gridcolor\":\"white\",\"linecolor\":\"white\",\"ticks\":\"\"}},\"coloraxis\":{\"colorbar\":{\"outlinewidth\":0,\"ticks\":\"\"}},\"colorscale\":{\"sequential\":[[0.0,\"#0d0887\"],[0.1111111111111111,\"#46039f\"],[0.2222222222222222,\"#7201a8\"],[0.3333333333333333,\"#9c179e\"],[0.4444444444444444,\"#bd3786\"],[0.5555555555555556,\"#d8576b\"],[0.6666666666666666,\"#ed7953\"],[0.7777777777777778,\"#fb9f3a\"],[0.8888888888888888,\"#fdca26\"],[1.0,\"#f0f921\"]],\"sequentialminus\":[[0.0,\"#0d0887\"],[0.1111111111111111,\"#46039f\"],[0.2222222222222222,\"#7201a8\"],[0.3333333333333333,\"#9c179e\"],[0.4444444444444444,\"#bd3786\"],[0.5555555555555556,\"#d8576b\"],[0.6666666666666666,\"#ed7953\"],[0.7777777777777778,\"#fb9f3a\"],[0.8888888888888888,\"#fdca26\"],[1.0,\"#f0f921\"]],\"diverging\":[[0,\"#8e0152\"],[0.1,\"#c51b7d\"],[0.2,\"#de77ae\"],[0.3,\"#f1b6da\"],[0.4,\"#fde0ef\"],[0.5,\"#f7f7f7\"],[0.6,\"#e6f5d0\"],[0.7,\"#b8e186\"],[0.8,\"#7fbc41\"],[0.9,\"#4d9221\"],[1,\"#276419\"]]},\"xaxis\":{\"gridcolor\":\"white\",\"linecolor\":\"white\",\"ticks\":\"\",\"title\":{\"standoff\":15},\"zerolinecolor\":\"white\",\"automargin\":true,\"zerolinewidth\":2},\"yaxis\":{\"gridcolor\":\"white\",\"linecolor\":\"white\",\"ticks\":\"\",\"title\":{\"standoff\":15},\"zerolinecolor\":\"white\",\"automargin\":true,\"zerolinewidth\":2},\"scene\":{\"xaxis\":{\"backgroundcolor\":\"#E5ECF6\",\"gridcolor\":\"white\",\"linecolor\":\"white\",\"showbackground\":true,\"ticks\":\"\",\"zerolinecolor\":\"white\",\"gridwidth\":2},\"yaxis\":{\"backgroundcolor\":\"#E5ECF6\",\"gridcolor\":\"white\",\"linecolor\":\"white\",\"showbackground\":true,\"ticks\":\"\",\"zerolinecolor\":\"white\",\"gridwidth\":2},\"zaxis\":{\"backgroundcolor\":\"#E5ECF6\",\"gridcolor\":\"white\",\"linecolor\":\"white\",\"showbackground\":true,\"ticks\":\"\",\"zerolinecolor\":\"white\",\"gridwidth\":2}},\"shapedefaults\":{\"line\":{\"color\":\"#2a3f5f\"}},\"annotationdefaults\":{\"arrowcolor\":\"#2a3f5f\",\"arrowhead\":0,\"arrowwidth\":1},\"geo\":{\"bgcolor\":\"white\",\"landcolor\":\"#E5ECF6\",\"subunitcolor\":\"white\",\"showland\":true,\"showlakes\":true,\"lakecolor\":\"white\"},\"title\":{\"x\":0.05},\"mapbox\":{\"style\":\"light\"}}},\"xaxis\":{\"anchor\":\"y\",\"domain\":[0.0,1.0],\"title\":{\"text\":\"Match Winner\"},\"categoryorder\":\"array\",\"categoryarray\":[\"Chennai Super Kings\",\"Delhi Capitals\",\"Gujarat Titans\",\"Kolkata Knight Riders\",\"Lucknow Super Giants\",\"Mumbai Indians\",\"Punjab Kings\",\"Rajasthan Royals\",\"Royal Challengers Bengaluru\",\"Sunrisers Hyderabad\"]},\"yaxis\":{\"anchor\":\"x\",\"domain\":[0.0,1.0],\"title\":{\"text\":\"Number of Matches\"}},\"legend\":{\"title\":{\"text\":\"Winner\"},\"tracegroupgap\":0},\"title\":{\"text\":\"Impact of Toss Decision on Match Winner (Bat)\"},\"barmode\":\"relative\"},                        {\"responsive\": true}                    ).then(function(){\n",
              "                            \n",
              "var gd = document.getElementById('ec9c8733-cd1b-44c6-8cbe-fd3ff1fe1fb4');\n",
              "var x = new MutationObserver(function (mutations, observer) {{\n",
              "        var display = window.getComputedStyle(gd).display;\n",
              "        if (!display || display === 'none') {{\n",
              "            console.log([gd, 'removed!']);\n",
              "            Plotly.purge(gd);\n",
              "            observer.disconnect();\n",
              "        }}\n",
              "}});\n",
              "\n",
              "// Listen for the removal of the full notebook cells\n",
              "var notebookContainer = gd.closest('#notebook-container');\n",
              "if (notebookContainer) {{\n",
              "    x.observe(notebookContainer, {childList: true});\n",
              "}}\n",
              "\n",
              "// Listen for the clearing of the current output cell\n",
              "var outputEl = gd.closest('.output');\n",
              "if (outputEl) {{\n",
              "    x.observe(outputEl, {childList: true});\n",
              "}}\n",
              "\n",
              "                        })                };                            </script>        </div>\n",
              "</body>\n",
              "</html>"
            ]
          },
          "metadata": {}
        },
        {
          "output_type": "display_data",
          "data": {
            "text/html": [
              "<html>\n",
              "<head><meta charset=\"utf-8\" /></head>\n",
              "<body>\n",
              "    <div>            <script src=\"https://cdnjs.cloudflare.com/ajax/libs/mathjax/2.7.5/MathJax.js?config=TeX-AMS-MML_SVG\"></script><script type=\"text/javascript\">if (window.MathJax && window.MathJax.Hub && window.MathJax.Hub.Config) {window.MathJax.Hub.Config({SVG: {font: \"STIX-Web\"}});}</script>                <script type=\"text/javascript\">window.PlotlyConfig = {MathJaxConfig: 'local'};</script>\n",
              "        <script charset=\"utf-8\" src=\"https://cdn.plot.ly/plotly-2.35.2.min.js\"></script>                <div id=\"292e6bc9-958e-49e5-992a-811266c5fc56\" class=\"plotly-graph-div\" style=\"height:525px; width:100%;\"></div>            <script type=\"text/javascript\">                                    window.PLOTLYENV=window.PLOTLYENV || {};                                    if (document.getElementById(\"292e6bc9-958e-49e5-992a-811266c5fc56\")) {                    Plotly.newPlot(                        \"292e6bc9-958e-49e5-992a-811266c5fc56\",                        [{\"alignmentgroup\":\"True\",\"hovertemplate\":\"Winner=%{x}\\u003cbr\\u003eMatch Count=%{y}\\u003cextra\\u003e\\u003c\\u002fextra\\u003e\",\"legendgroup\":\"Chennai Super Kings\",\"marker\":{\"color\":\"#636efa\",\"pattern\":{\"shape\":\"\"}},\"name\":\"Chennai Super Kings\",\"offsetgroup\":\"Chennai Super Kings\",\"orientation\":\"v\",\"showlegend\":true,\"textposition\":\"auto\",\"x\":[\"Chennai Super Kings\"],\"xaxis\":\"x\",\"y\":[73],\"yaxis\":\"y\",\"type\":\"bar\"},{\"alignmentgroup\":\"True\",\"hovertemplate\":\"Winner=%{x}\\u003cbr\\u003eMatch Count=%{y}\\u003cextra\\u003e\\u003c\\u002fextra\\u003e\",\"legendgroup\":\"Delhi Capitals\",\"marker\":{\"color\":\"#EF553B\",\"pattern\":{\"shape\":\"\"}},\"name\":\"Delhi Capitals\",\"offsetgroup\":\"Delhi Capitals\",\"orientation\":\"v\",\"showlegend\":true,\"textposition\":\"auto\",\"x\":[\"Delhi Capitals\"],\"xaxis\":\"x\",\"y\":[67],\"yaxis\":\"y\",\"type\":\"bar\"},{\"alignmentgroup\":\"True\",\"hovertemplate\":\"Winner=%{x}\\u003cbr\\u003eMatch Count=%{y}\\u003cextra\\u003e\\u003c\\u002fextra\\u003e\",\"legendgroup\":\"Gujarat Titans\",\"marker\":{\"color\":\"#00cc96\",\"pattern\":{\"shape\":\"\"}},\"name\":\"Gujarat Titans\",\"offsetgroup\":\"Gujarat Titans\",\"orientation\":\"v\",\"showlegend\":true,\"textposition\":\"auto\",\"x\":[\"Gujarat Titans\"],\"xaxis\":\"x\",\"y\":[19],\"yaxis\":\"y\",\"type\":\"bar\"},{\"alignmentgroup\":\"True\",\"hovertemplate\":\"Winner=%{x}\\u003cbr\\u003eMatch Count=%{y}\\u003cextra\\u003e\\u003c\\u002fextra\\u003e\",\"legendgroup\":\"Kolkata Knight Riders\",\"marker\":{\"color\":\"#ab63fa\",\"pattern\":{\"shape\":\"\"}},\"name\":\"Kolkata Knight Riders\",\"offsetgroup\":\"Kolkata Knight Riders\",\"orientation\":\"v\",\"showlegend\":true,\"textposition\":\"auto\",\"x\":[\"Kolkata Knight Riders\"],\"xaxis\":\"x\",\"y\":[77],\"yaxis\":\"y\",\"type\":\"bar\"},{\"alignmentgroup\":\"True\",\"hovertemplate\":\"Winner=%{x}\\u003cbr\\u003eMatch Count=%{y}\\u003cextra\\u003e\\u003c\\u002fextra\\u003e\",\"legendgroup\":\"Lucknow Super Giants\",\"marker\":{\"color\":\"#FFA15A\",\"pattern\":{\"shape\":\"\"}},\"name\":\"Lucknow Super Giants\",\"offsetgroup\":\"Lucknow Super Giants\",\"orientation\":\"v\",\"showlegend\":true,\"textposition\":\"auto\",\"x\":[\"Lucknow Super Giants\"],\"xaxis\":\"x\",\"y\":[18],\"yaxis\":\"y\",\"type\":\"bar\"},{\"alignmentgroup\":\"True\",\"hovertemplate\":\"Winner=%{x}\\u003cbr\\u003eMatch Count=%{y}\\u003cextra\\u003e\\u003c\\u002fextra\\u003e\",\"legendgroup\":\"Mumbai Indians\",\"marker\":{\"color\":\"#19d3f3\",\"pattern\":{\"shape\":\"\"}},\"name\":\"Mumbai Indians\",\"offsetgroup\":\"Mumbai Indians\",\"orientation\":\"v\",\"showlegend\":true,\"textposition\":\"auto\",\"x\":[\"Mumbai Indians\"],\"xaxis\":\"x\",\"y\":[91],\"yaxis\":\"y\",\"type\":\"bar\"},{\"alignmentgroup\":\"True\",\"hovertemplate\":\"Winner=%{x}\\u003cbr\\u003eMatch Count=%{y}\\u003cextra\\u003e\\u003c\\u002fextra\\u003e\",\"legendgroup\":\"Punjab Kings\",\"marker\":{\"color\":\"#FF6692\",\"pattern\":{\"shape\":\"\"}},\"name\":\"Punjab Kings\",\"offsetgroup\":\"Punjab Kings\",\"orientation\":\"v\",\"showlegend\":true,\"textposition\":\"auto\",\"x\":[\"Punjab Kings\"],\"xaxis\":\"x\",\"y\":[78],\"yaxis\":\"y\",\"type\":\"bar\"},{\"alignmentgroup\":\"True\",\"hovertemplate\":\"Winner=%{x}\\u003cbr\\u003eMatch Count=%{y}\\u003cextra\\u003e\\u003c\\u002fextra\\u003e\",\"legendgroup\":\"Rajasthan Royals\",\"marker\":{\"color\":\"#B6E880\",\"pattern\":{\"shape\":\"\"}},\"name\":\"Rajasthan Royals\",\"offsetgroup\":\"Rajasthan Royals\",\"orientation\":\"v\",\"showlegend\":true,\"textposition\":\"auto\",\"x\":[\"Rajasthan Royals\"],\"xaxis\":\"x\",\"y\":[67],\"yaxis\":\"y\",\"type\":\"bar\"},{\"alignmentgroup\":\"True\",\"hovertemplate\":\"Winner=%{x}\\u003cbr\\u003eMatch Count=%{y}\\u003cextra\\u003e\\u003c\\u002fextra\\u003e\",\"legendgroup\":\"Royal Challengers Bengaluru\",\"marker\":{\"color\":\"#FF97FF\",\"pattern\":{\"shape\":\"\"}},\"name\":\"Royal Challengers Bengaluru\",\"offsetgroup\":\"Royal Challengers Bengaluru\",\"orientation\":\"v\",\"showlegend\":true,\"textposition\":\"auto\",\"x\":[\"Royal Challengers Bengaluru\"],\"xaxis\":\"x\",\"y\":[77],\"yaxis\":\"y\",\"type\":\"bar\"},{\"alignmentgroup\":\"True\",\"hovertemplate\":\"Winner=%{x}\\u003cbr\\u003eMatch Count=%{y}\\u003cextra\\u003e\\u003c\\u002fextra\\u003e\",\"legendgroup\":\"Sunrisers Hyderabad\",\"marker\":{\"color\":\"#FECB52\",\"pattern\":{\"shape\":\"\"}},\"name\":\"Sunrisers Hyderabad\",\"offsetgroup\":\"Sunrisers Hyderabad\",\"orientation\":\"v\",\"showlegend\":true,\"textposition\":\"auto\",\"x\":[\"Sunrisers Hyderabad\"],\"xaxis\":\"x\",\"y\":[64],\"yaxis\":\"y\",\"type\":\"bar\"}],                        {\"template\":{\"data\":{\"histogram2dcontour\":[{\"type\":\"histogram2dcontour\",\"colorbar\":{\"outlinewidth\":0,\"ticks\":\"\"},\"colorscale\":[[0.0,\"#0d0887\"],[0.1111111111111111,\"#46039f\"],[0.2222222222222222,\"#7201a8\"],[0.3333333333333333,\"#9c179e\"],[0.4444444444444444,\"#bd3786\"],[0.5555555555555556,\"#d8576b\"],[0.6666666666666666,\"#ed7953\"],[0.7777777777777778,\"#fb9f3a\"],[0.8888888888888888,\"#fdca26\"],[1.0,\"#f0f921\"]]}],\"choropleth\":[{\"type\":\"choropleth\",\"colorbar\":{\"outlinewidth\":0,\"ticks\":\"\"}}],\"histogram2d\":[{\"type\":\"histogram2d\",\"colorbar\":{\"outlinewidth\":0,\"ticks\":\"\"},\"colorscale\":[[0.0,\"#0d0887\"],[0.1111111111111111,\"#46039f\"],[0.2222222222222222,\"#7201a8\"],[0.3333333333333333,\"#9c179e\"],[0.4444444444444444,\"#bd3786\"],[0.5555555555555556,\"#d8576b\"],[0.6666666666666666,\"#ed7953\"],[0.7777777777777778,\"#fb9f3a\"],[0.8888888888888888,\"#fdca26\"],[1.0,\"#f0f921\"]]}],\"heatmap\":[{\"type\":\"heatmap\",\"colorbar\":{\"outlinewidth\":0,\"ticks\":\"\"},\"colorscale\":[[0.0,\"#0d0887\"],[0.1111111111111111,\"#46039f\"],[0.2222222222222222,\"#7201a8\"],[0.3333333333333333,\"#9c179e\"],[0.4444444444444444,\"#bd3786\"],[0.5555555555555556,\"#d8576b\"],[0.6666666666666666,\"#ed7953\"],[0.7777777777777778,\"#fb9f3a\"],[0.8888888888888888,\"#fdca26\"],[1.0,\"#f0f921\"]]}],\"heatmapgl\":[{\"type\":\"heatmapgl\",\"colorbar\":{\"outlinewidth\":0,\"ticks\":\"\"},\"colorscale\":[[0.0,\"#0d0887\"],[0.1111111111111111,\"#46039f\"],[0.2222222222222222,\"#7201a8\"],[0.3333333333333333,\"#9c179e\"],[0.4444444444444444,\"#bd3786\"],[0.5555555555555556,\"#d8576b\"],[0.6666666666666666,\"#ed7953\"],[0.7777777777777778,\"#fb9f3a\"],[0.8888888888888888,\"#fdca26\"],[1.0,\"#f0f921\"]]}],\"contourcarpet\":[{\"type\":\"contourcarpet\",\"colorbar\":{\"outlinewidth\":0,\"ticks\":\"\"}}],\"contour\":[{\"type\":\"contour\",\"colorbar\":{\"outlinewidth\":0,\"ticks\":\"\"},\"colorscale\":[[0.0,\"#0d0887\"],[0.1111111111111111,\"#46039f\"],[0.2222222222222222,\"#7201a8\"],[0.3333333333333333,\"#9c179e\"],[0.4444444444444444,\"#bd3786\"],[0.5555555555555556,\"#d8576b\"],[0.6666666666666666,\"#ed7953\"],[0.7777777777777778,\"#fb9f3a\"],[0.8888888888888888,\"#fdca26\"],[1.0,\"#f0f921\"]]}],\"surface\":[{\"type\":\"surface\",\"colorbar\":{\"outlinewidth\":0,\"ticks\":\"\"},\"colorscale\":[[0.0,\"#0d0887\"],[0.1111111111111111,\"#46039f\"],[0.2222222222222222,\"#7201a8\"],[0.3333333333333333,\"#9c179e\"],[0.4444444444444444,\"#bd3786\"],[0.5555555555555556,\"#d8576b\"],[0.6666666666666666,\"#ed7953\"],[0.7777777777777778,\"#fb9f3a\"],[0.8888888888888888,\"#fdca26\"],[1.0,\"#f0f921\"]]}],\"mesh3d\":[{\"type\":\"mesh3d\",\"colorbar\":{\"outlinewidth\":0,\"ticks\":\"\"}}],\"scatter\":[{\"fillpattern\":{\"fillmode\":\"overlay\",\"size\":10,\"solidity\":0.2},\"type\":\"scatter\"}],\"parcoords\":[{\"type\":\"parcoords\",\"line\":{\"colorbar\":{\"outlinewidth\":0,\"ticks\":\"\"}}}],\"scatterpolargl\":[{\"type\":\"scatterpolargl\",\"marker\":{\"colorbar\":{\"outlinewidth\":0,\"ticks\":\"\"}}}],\"bar\":[{\"error_x\":{\"color\":\"#2a3f5f\"},\"error_y\":{\"color\":\"#2a3f5f\"},\"marker\":{\"line\":{\"color\":\"#E5ECF6\",\"width\":0.5},\"pattern\":{\"fillmode\":\"overlay\",\"size\":10,\"solidity\":0.2}},\"type\":\"bar\"}],\"scattergeo\":[{\"type\":\"scattergeo\",\"marker\":{\"colorbar\":{\"outlinewidth\":0,\"ticks\":\"\"}}}],\"scatterpolar\":[{\"type\":\"scatterpolar\",\"marker\":{\"colorbar\":{\"outlinewidth\":0,\"ticks\":\"\"}}}],\"histogram\":[{\"marker\":{\"pattern\":{\"fillmode\":\"overlay\",\"size\":10,\"solidity\":0.2}},\"type\":\"histogram\"}],\"scattergl\":[{\"type\":\"scattergl\",\"marker\":{\"colorbar\":{\"outlinewidth\":0,\"ticks\":\"\"}}}],\"scatter3d\":[{\"type\":\"scatter3d\",\"line\":{\"colorbar\":{\"outlinewidth\":0,\"ticks\":\"\"}},\"marker\":{\"colorbar\":{\"outlinewidth\":0,\"ticks\":\"\"}}}],\"scattermapbox\":[{\"type\":\"scattermapbox\",\"marker\":{\"colorbar\":{\"outlinewidth\":0,\"ticks\":\"\"}}}],\"scatterternary\":[{\"type\":\"scatterternary\",\"marker\":{\"colorbar\":{\"outlinewidth\":0,\"ticks\":\"\"}}}],\"scattercarpet\":[{\"type\":\"scattercarpet\",\"marker\":{\"colorbar\":{\"outlinewidth\":0,\"ticks\":\"\"}}}],\"carpet\":[{\"aaxis\":{\"endlinecolor\":\"#2a3f5f\",\"gridcolor\":\"white\",\"linecolor\":\"white\",\"minorgridcolor\":\"white\",\"startlinecolor\":\"#2a3f5f\"},\"baxis\":{\"endlinecolor\":\"#2a3f5f\",\"gridcolor\":\"white\",\"linecolor\":\"white\",\"minorgridcolor\":\"white\",\"startlinecolor\":\"#2a3f5f\"},\"type\":\"carpet\"}],\"table\":[{\"cells\":{\"fill\":{\"color\":\"#EBF0F8\"},\"line\":{\"color\":\"white\"}},\"header\":{\"fill\":{\"color\":\"#C8D4E3\"},\"line\":{\"color\":\"white\"}},\"type\":\"table\"}],\"barpolar\":[{\"marker\":{\"line\":{\"color\":\"#E5ECF6\",\"width\":0.5},\"pattern\":{\"fillmode\":\"overlay\",\"size\":10,\"solidity\":0.2}},\"type\":\"barpolar\"}],\"pie\":[{\"automargin\":true,\"type\":\"pie\"}]},\"layout\":{\"autotypenumbers\":\"strict\",\"colorway\":[\"#636efa\",\"#EF553B\",\"#00cc96\",\"#ab63fa\",\"#FFA15A\",\"#19d3f3\",\"#FF6692\",\"#B6E880\",\"#FF97FF\",\"#FECB52\"],\"font\":{\"color\":\"#2a3f5f\"},\"hovermode\":\"closest\",\"hoverlabel\":{\"align\":\"left\"},\"paper_bgcolor\":\"white\",\"plot_bgcolor\":\"#E5ECF6\",\"polar\":{\"bgcolor\":\"#E5ECF6\",\"angularaxis\":{\"gridcolor\":\"white\",\"linecolor\":\"white\",\"ticks\":\"\"},\"radialaxis\":{\"gridcolor\":\"white\",\"linecolor\":\"white\",\"ticks\":\"\"}},\"ternary\":{\"bgcolor\":\"#E5ECF6\",\"aaxis\":{\"gridcolor\":\"white\",\"linecolor\":\"white\",\"ticks\":\"\"},\"baxis\":{\"gridcolor\":\"white\",\"linecolor\":\"white\",\"ticks\":\"\"},\"caxis\":{\"gridcolor\":\"white\",\"linecolor\":\"white\",\"ticks\":\"\"}},\"coloraxis\":{\"colorbar\":{\"outlinewidth\":0,\"ticks\":\"\"}},\"colorscale\":{\"sequential\":[[0.0,\"#0d0887\"],[0.1111111111111111,\"#46039f\"],[0.2222222222222222,\"#7201a8\"],[0.3333333333333333,\"#9c179e\"],[0.4444444444444444,\"#bd3786\"],[0.5555555555555556,\"#d8576b\"],[0.6666666666666666,\"#ed7953\"],[0.7777777777777778,\"#fb9f3a\"],[0.8888888888888888,\"#fdca26\"],[1.0,\"#f0f921\"]],\"sequentialminus\":[[0.0,\"#0d0887\"],[0.1111111111111111,\"#46039f\"],[0.2222222222222222,\"#7201a8\"],[0.3333333333333333,\"#9c179e\"],[0.4444444444444444,\"#bd3786\"],[0.5555555555555556,\"#d8576b\"],[0.6666666666666666,\"#ed7953\"],[0.7777777777777778,\"#fb9f3a\"],[0.8888888888888888,\"#fdca26\"],[1.0,\"#f0f921\"]],\"diverging\":[[0,\"#8e0152\"],[0.1,\"#c51b7d\"],[0.2,\"#de77ae\"],[0.3,\"#f1b6da\"],[0.4,\"#fde0ef\"],[0.5,\"#f7f7f7\"],[0.6,\"#e6f5d0\"],[0.7,\"#b8e186\"],[0.8,\"#7fbc41\"],[0.9,\"#4d9221\"],[1,\"#276419\"]]},\"xaxis\":{\"gridcolor\":\"white\",\"linecolor\":\"white\",\"ticks\":\"\",\"title\":{\"standoff\":15},\"zerolinecolor\":\"white\",\"automargin\":true,\"zerolinewidth\":2},\"yaxis\":{\"gridcolor\":\"white\",\"linecolor\":\"white\",\"ticks\":\"\",\"title\":{\"standoff\":15},\"zerolinecolor\":\"white\",\"automargin\":true,\"zerolinewidth\":2},\"scene\":{\"xaxis\":{\"backgroundcolor\":\"#E5ECF6\",\"gridcolor\":\"white\",\"linecolor\":\"white\",\"showbackground\":true,\"ticks\":\"\",\"zerolinecolor\":\"white\",\"gridwidth\":2},\"yaxis\":{\"backgroundcolor\":\"#E5ECF6\",\"gridcolor\":\"white\",\"linecolor\":\"white\",\"showbackground\":true,\"ticks\":\"\",\"zerolinecolor\":\"white\",\"gridwidth\":2},\"zaxis\":{\"backgroundcolor\":\"#E5ECF6\",\"gridcolor\":\"white\",\"linecolor\":\"white\",\"showbackground\":true,\"ticks\":\"\",\"zerolinecolor\":\"white\",\"gridwidth\":2}},\"shapedefaults\":{\"line\":{\"color\":\"#2a3f5f\"}},\"annotationdefaults\":{\"arrowcolor\":\"#2a3f5f\",\"arrowhead\":0,\"arrowwidth\":1},\"geo\":{\"bgcolor\":\"white\",\"landcolor\":\"#E5ECF6\",\"subunitcolor\":\"white\",\"showland\":true,\"showlakes\":true,\"lakecolor\":\"white\"},\"title\":{\"x\":0.05},\"mapbox\":{\"style\":\"light\"}}},\"xaxis\":{\"anchor\":\"y\",\"domain\":[0.0,1.0],\"title\":{\"text\":\"Match Winner\"},\"categoryorder\":\"array\",\"categoryarray\":[\"Chennai Super Kings\",\"Delhi Capitals\",\"Gujarat Titans\",\"Kolkata Knight Riders\",\"Lucknow Super Giants\",\"Mumbai Indians\",\"Punjab Kings\",\"Rajasthan Royals\",\"Royal Challengers Bengaluru\",\"Sunrisers Hyderabad\"]},\"yaxis\":{\"anchor\":\"x\",\"domain\":[0.0,1.0],\"title\":{\"text\":\"Number of Matches\"}},\"legend\":{\"title\":{\"text\":\"Winner\"},\"tracegroupgap\":0},\"title\":{\"text\":\"Impact of Toss Decision on Match Winner (Field)\"},\"barmode\":\"relative\"},                        {\"responsive\": true}                    ).then(function(){\n",
              "                            \n",
              "var gd = document.getElementById('292e6bc9-958e-49e5-992a-811266c5fc56');\n",
              "var x = new MutationObserver(function (mutations, observer) {{\n",
              "        var display = window.getComputedStyle(gd).display;\n",
              "        if (!display || display === 'none') {{\n",
              "            console.log([gd, 'removed!']);\n",
              "            Plotly.purge(gd);\n",
              "            observer.disconnect();\n",
              "        }}\n",
              "}});\n",
              "\n",
              "// Listen for the removal of the full notebook cells\n",
              "var notebookContainer = gd.closest('#notebook-container');\n",
              "if (notebookContainer) {{\n",
              "    x.observe(notebookContainer, {childList: true});\n",
              "}}\n",
              "\n",
              "// Listen for the clearing of the current output cell\n",
              "var outputEl = gd.closest('.output');\n",
              "if (outputEl) {{\n",
              "    x.observe(outputEl, {childList: true});\n",
              "}}\n",
              "\n",
              "                        })                };                            </script>        </div>\n",
              "</body>\n",
              "</html>"
            ]
          },
          "metadata": {}
        }
      ]
    },
    {
      "cell_type": "code",
      "source": [
        "matches['toss_vs_match'] = matches.apply(lambda x: 'Yes' if x['toss_winner'] == x['winner'] else 'No', axis=1)\n",
        "\n",
        "toss_vs_match_counts = matches['toss_vs_match'].value_counts().reset_index()\n",
        "toss_vs_match_counts.columns = ['toss_vs_match', 'count']\n",
        "\n",
        "fig = px.pie(toss_vs_match_counts, values = 'count',\n",
        "             names = 'toss_vs_match',\n",
        "             title = 'Did Toss Winner Win the Match?',\n",
        "             color_discrete_sequence = px.colors.sequential.RdBu)\n",
        "fig.show()"
      ],
      "metadata": {
        "colab": {
          "base_uri": "https://localhost:8080/",
          "height": 542
        },
        "id": "d6kcdFE9CoZk",
        "outputId": "da05451c-42f3-47a4-d5c6-f8a38c373049"
      },
      "execution_count": 26,
      "outputs": [
        {
          "output_type": "display_data",
          "data": {
            "text/html": [
              "<html>\n",
              "<head><meta charset=\"utf-8\" /></head>\n",
              "<body>\n",
              "    <div>            <script src=\"https://cdnjs.cloudflare.com/ajax/libs/mathjax/2.7.5/MathJax.js?config=TeX-AMS-MML_SVG\"></script><script type=\"text/javascript\">if (window.MathJax && window.MathJax.Hub && window.MathJax.Hub.Config) {window.MathJax.Hub.Config({SVG: {font: \"STIX-Web\"}});}</script>                <script type=\"text/javascript\">window.PlotlyConfig = {MathJaxConfig: 'local'};</script>\n",
              "        <script charset=\"utf-8\" src=\"https://cdn.plot.ly/plotly-2.35.2.min.js\"></script>                <div id=\"4b389ed5-a97c-492a-a97b-ab4128fedc76\" class=\"plotly-graph-div\" style=\"height:525px; width:100%;\"></div>            <script type=\"text/javascript\">                                    window.PLOTLYENV=window.PLOTLYENV || {};                                    if (document.getElementById(\"4b389ed5-a97c-492a-a97b-ab4128fedc76\")) {                    Plotly.newPlot(                        \"4b389ed5-a97c-492a-a97b-ab4128fedc76\",                        [{\"domain\":{\"x\":[0.0,1.0],\"y\":[0.0,1.0]},\"hovertemplate\":\"toss_vs_match=%{label}\\u003cbr\\u003ecount=%{value}\\u003cextra\\u003e\\u003c\\u002fextra\\u003e\",\"labels\":[\"No\",\"Yes\"],\"legendgroup\":\"\",\"name\":\"\",\"showlegend\":true,\"values\":[490,490],\"type\":\"pie\"}],                        {\"template\":{\"data\":{\"histogram2dcontour\":[{\"type\":\"histogram2dcontour\",\"colorbar\":{\"outlinewidth\":0,\"ticks\":\"\"},\"colorscale\":[[0.0,\"#0d0887\"],[0.1111111111111111,\"#46039f\"],[0.2222222222222222,\"#7201a8\"],[0.3333333333333333,\"#9c179e\"],[0.4444444444444444,\"#bd3786\"],[0.5555555555555556,\"#d8576b\"],[0.6666666666666666,\"#ed7953\"],[0.7777777777777778,\"#fb9f3a\"],[0.8888888888888888,\"#fdca26\"],[1.0,\"#f0f921\"]]}],\"choropleth\":[{\"type\":\"choropleth\",\"colorbar\":{\"outlinewidth\":0,\"ticks\":\"\"}}],\"histogram2d\":[{\"type\":\"histogram2d\",\"colorbar\":{\"outlinewidth\":0,\"ticks\":\"\"},\"colorscale\":[[0.0,\"#0d0887\"],[0.1111111111111111,\"#46039f\"],[0.2222222222222222,\"#7201a8\"],[0.3333333333333333,\"#9c179e\"],[0.4444444444444444,\"#bd3786\"],[0.5555555555555556,\"#d8576b\"],[0.6666666666666666,\"#ed7953\"],[0.7777777777777778,\"#fb9f3a\"],[0.8888888888888888,\"#fdca26\"],[1.0,\"#f0f921\"]]}],\"heatmap\":[{\"type\":\"heatmap\",\"colorbar\":{\"outlinewidth\":0,\"ticks\":\"\"},\"colorscale\":[[0.0,\"#0d0887\"],[0.1111111111111111,\"#46039f\"],[0.2222222222222222,\"#7201a8\"],[0.3333333333333333,\"#9c179e\"],[0.4444444444444444,\"#bd3786\"],[0.5555555555555556,\"#d8576b\"],[0.6666666666666666,\"#ed7953\"],[0.7777777777777778,\"#fb9f3a\"],[0.8888888888888888,\"#fdca26\"],[1.0,\"#f0f921\"]]}],\"heatmapgl\":[{\"type\":\"heatmapgl\",\"colorbar\":{\"outlinewidth\":0,\"ticks\":\"\"},\"colorscale\":[[0.0,\"#0d0887\"],[0.1111111111111111,\"#46039f\"],[0.2222222222222222,\"#7201a8\"],[0.3333333333333333,\"#9c179e\"],[0.4444444444444444,\"#bd3786\"],[0.5555555555555556,\"#d8576b\"],[0.6666666666666666,\"#ed7953\"],[0.7777777777777778,\"#fb9f3a\"],[0.8888888888888888,\"#fdca26\"],[1.0,\"#f0f921\"]]}],\"contourcarpet\":[{\"type\":\"contourcarpet\",\"colorbar\":{\"outlinewidth\":0,\"ticks\":\"\"}}],\"contour\":[{\"type\":\"contour\",\"colorbar\":{\"outlinewidth\":0,\"ticks\":\"\"},\"colorscale\":[[0.0,\"#0d0887\"],[0.1111111111111111,\"#46039f\"],[0.2222222222222222,\"#7201a8\"],[0.3333333333333333,\"#9c179e\"],[0.4444444444444444,\"#bd3786\"],[0.5555555555555556,\"#d8576b\"],[0.6666666666666666,\"#ed7953\"],[0.7777777777777778,\"#fb9f3a\"],[0.8888888888888888,\"#fdca26\"],[1.0,\"#f0f921\"]]}],\"surface\":[{\"type\":\"surface\",\"colorbar\":{\"outlinewidth\":0,\"ticks\":\"\"},\"colorscale\":[[0.0,\"#0d0887\"],[0.1111111111111111,\"#46039f\"],[0.2222222222222222,\"#7201a8\"],[0.3333333333333333,\"#9c179e\"],[0.4444444444444444,\"#bd3786\"],[0.5555555555555556,\"#d8576b\"],[0.6666666666666666,\"#ed7953\"],[0.7777777777777778,\"#fb9f3a\"],[0.8888888888888888,\"#fdca26\"],[1.0,\"#f0f921\"]]}],\"mesh3d\":[{\"type\":\"mesh3d\",\"colorbar\":{\"outlinewidth\":0,\"ticks\":\"\"}}],\"scatter\":[{\"fillpattern\":{\"fillmode\":\"overlay\",\"size\":10,\"solidity\":0.2},\"type\":\"scatter\"}],\"parcoords\":[{\"type\":\"parcoords\",\"line\":{\"colorbar\":{\"outlinewidth\":0,\"ticks\":\"\"}}}],\"scatterpolargl\":[{\"type\":\"scatterpolargl\",\"marker\":{\"colorbar\":{\"outlinewidth\":0,\"ticks\":\"\"}}}],\"bar\":[{\"error_x\":{\"color\":\"#2a3f5f\"},\"error_y\":{\"color\":\"#2a3f5f\"},\"marker\":{\"line\":{\"color\":\"#E5ECF6\",\"width\":0.5},\"pattern\":{\"fillmode\":\"overlay\",\"size\":10,\"solidity\":0.2}},\"type\":\"bar\"}],\"scattergeo\":[{\"type\":\"scattergeo\",\"marker\":{\"colorbar\":{\"outlinewidth\":0,\"ticks\":\"\"}}}],\"scatterpolar\":[{\"type\":\"scatterpolar\",\"marker\":{\"colorbar\":{\"outlinewidth\":0,\"ticks\":\"\"}}}],\"histogram\":[{\"marker\":{\"pattern\":{\"fillmode\":\"overlay\",\"size\":10,\"solidity\":0.2}},\"type\":\"histogram\"}],\"scattergl\":[{\"type\":\"scattergl\",\"marker\":{\"colorbar\":{\"outlinewidth\":0,\"ticks\":\"\"}}}],\"scatter3d\":[{\"type\":\"scatter3d\",\"line\":{\"colorbar\":{\"outlinewidth\":0,\"ticks\":\"\"}},\"marker\":{\"colorbar\":{\"outlinewidth\":0,\"ticks\":\"\"}}}],\"scattermapbox\":[{\"type\":\"scattermapbox\",\"marker\":{\"colorbar\":{\"outlinewidth\":0,\"ticks\":\"\"}}}],\"scatterternary\":[{\"type\":\"scatterternary\",\"marker\":{\"colorbar\":{\"outlinewidth\":0,\"ticks\":\"\"}}}],\"scattercarpet\":[{\"type\":\"scattercarpet\",\"marker\":{\"colorbar\":{\"outlinewidth\":0,\"ticks\":\"\"}}}],\"carpet\":[{\"aaxis\":{\"endlinecolor\":\"#2a3f5f\",\"gridcolor\":\"white\",\"linecolor\":\"white\",\"minorgridcolor\":\"white\",\"startlinecolor\":\"#2a3f5f\"},\"baxis\":{\"endlinecolor\":\"#2a3f5f\",\"gridcolor\":\"white\",\"linecolor\":\"white\",\"minorgridcolor\":\"white\",\"startlinecolor\":\"#2a3f5f\"},\"type\":\"carpet\"}],\"table\":[{\"cells\":{\"fill\":{\"color\":\"#EBF0F8\"},\"line\":{\"color\":\"white\"}},\"header\":{\"fill\":{\"color\":\"#C8D4E3\"},\"line\":{\"color\":\"white\"}},\"type\":\"table\"}],\"barpolar\":[{\"marker\":{\"line\":{\"color\":\"#E5ECF6\",\"width\":0.5},\"pattern\":{\"fillmode\":\"overlay\",\"size\":10,\"solidity\":0.2}},\"type\":\"barpolar\"}],\"pie\":[{\"automargin\":true,\"type\":\"pie\"}]},\"layout\":{\"autotypenumbers\":\"strict\",\"colorway\":[\"#636efa\",\"#EF553B\",\"#00cc96\",\"#ab63fa\",\"#FFA15A\",\"#19d3f3\",\"#FF6692\",\"#B6E880\",\"#FF97FF\",\"#FECB52\"],\"font\":{\"color\":\"#2a3f5f\"},\"hovermode\":\"closest\",\"hoverlabel\":{\"align\":\"left\"},\"paper_bgcolor\":\"white\",\"plot_bgcolor\":\"#E5ECF6\",\"polar\":{\"bgcolor\":\"#E5ECF6\",\"angularaxis\":{\"gridcolor\":\"white\",\"linecolor\":\"white\",\"ticks\":\"\"},\"radialaxis\":{\"gridcolor\":\"white\",\"linecolor\":\"white\",\"ticks\":\"\"}},\"ternary\":{\"bgcolor\":\"#E5ECF6\",\"aaxis\":{\"gridcolor\":\"white\",\"linecolor\":\"white\",\"ticks\":\"\"},\"baxis\":{\"gridcolor\":\"white\",\"linecolor\":\"white\",\"ticks\":\"\"},\"caxis\":{\"gridcolor\":\"white\",\"linecolor\":\"white\",\"ticks\":\"\"}},\"coloraxis\":{\"colorbar\":{\"outlinewidth\":0,\"ticks\":\"\"}},\"colorscale\":{\"sequential\":[[0.0,\"#0d0887\"],[0.1111111111111111,\"#46039f\"],[0.2222222222222222,\"#7201a8\"],[0.3333333333333333,\"#9c179e\"],[0.4444444444444444,\"#bd3786\"],[0.5555555555555556,\"#d8576b\"],[0.6666666666666666,\"#ed7953\"],[0.7777777777777778,\"#fb9f3a\"],[0.8888888888888888,\"#fdca26\"],[1.0,\"#f0f921\"]],\"sequentialminus\":[[0.0,\"#0d0887\"],[0.1111111111111111,\"#46039f\"],[0.2222222222222222,\"#7201a8\"],[0.3333333333333333,\"#9c179e\"],[0.4444444444444444,\"#bd3786\"],[0.5555555555555556,\"#d8576b\"],[0.6666666666666666,\"#ed7953\"],[0.7777777777777778,\"#fb9f3a\"],[0.8888888888888888,\"#fdca26\"],[1.0,\"#f0f921\"]],\"diverging\":[[0,\"#8e0152\"],[0.1,\"#c51b7d\"],[0.2,\"#de77ae\"],[0.3,\"#f1b6da\"],[0.4,\"#fde0ef\"],[0.5,\"#f7f7f7\"],[0.6,\"#e6f5d0\"],[0.7,\"#b8e186\"],[0.8,\"#7fbc41\"],[0.9,\"#4d9221\"],[1,\"#276419\"]]},\"xaxis\":{\"gridcolor\":\"white\",\"linecolor\":\"white\",\"ticks\":\"\",\"title\":{\"standoff\":15},\"zerolinecolor\":\"white\",\"automargin\":true,\"zerolinewidth\":2},\"yaxis\":{\"gridcolor\":\"white\",\"linecolor\":\"white\",\"ticks\":\"\",\"title\":{\"standoff\":15},\"zerolinecolor\":\"white\",\"automargin\":true,\"zerolinewidth\":2},\"scene\":{\"xaxis\":{\"backgroundcolor\":\"#E5ECF6\",\"gridcolor\":\"white\",\"linecolor\":\"white\",\"showbackground\":true,\"ticks\":\"\",\"zerolinecolor\":\"white\",\"gridwidth\":2},\"yaxis\":{\"backgroundcolor\":\"#E5ECF6\",\"gridcolor\":\"white\",\"linecolor\":\"white\",\"showbackground\":true,\"ticks\":\"\",\"zerolinecolor\":\"white\",\"gridwidth\":2},\"zaxis\":{\"backgroundcolor\":\"#E5ECF6\",\"gridcolor\":\"white\",\"linecolor\":\"white\",\"showbackground\":true,\"ticks\":\"\",\"zerolinecolor\":\"white\",\"gridwidth\":2}},\"shapedefaults\":{\"line\":{\"color\":\"#2a3f5f\"}},\"annotationdefaults\":{\"arrowcolor\":\"#2a3f5f\",\"arrowhead\":0,\"arrowwidth\":1},\"geo\":{\"bgcolor\":\"white\",\"landcolor\":\"#E5ECF6\",\"subunitcolor\":\"white\",\"showland\":true,\"showlakes\":true,\"lakecolor\":\"white\"},\"title\":{\"x\":0.05},\"mapbox\":{\"style\":\"light\"}}},\"legend\":{\"tracegroupgap\":0},\"title\":{\"text\":\"Did Toss Winner Win the Match?\"},\"piecolorway\":[\"rgb(103,0,31)\",\"rgb(178,24,43)\",\"rgb(214,96,77)\",\"rgb(244,165,130)\",\"rgb(253,219,199)\",\"rgb(247,247,247)\",\"rgb(209,229,240)\",\"rgb(146,197,222)\",\"rgb(67,147,195)\",\"rgb(33,102,172)\",\"rgb(5,48,97)\"]},                        {\"responsive\": true}                    ).then(function(){\n",
              "                            \n",
              "var gd = document.getElementById('4b389ed5-a97c-492a-a97b-ab4128fedc76');\n",
              "var x = new MutationObserver(function (mutations, observer) {{\n",
              "        var display = window.getComputedStyle(gd).display;\n",
              "        if (!display || display === 'none') {{\n",
              "            console.log([gd, 'removed!']);\n",
              "            Plotly.purge(gd);\n",
              "            observer.disconnect();\n",
              "        }}\n",
              "}});\n",
              "\n",
              "// Listen for the removal of the full notebook cells\n",
              "var notebookContainer = gd.closest('#notebook-container');\n",
              "if (notebookContainer) {{\n",
              "    x.observe(notebookContainer, {childList: true});\n",
              "}}\n",
              "\n",
              "// Listen for the clearing of the current output cell\n",
              "var outputEl = gd.closest('.output');\n",
              "if (outputEl) {{\n",
              "    x.observe(outputEl, {childList: true});\n",
              "}}\n",
              "\n",
              "                        })                };                            </script>        </div>\n",
              "</body>\n",
              "</html>"
            ]
          },
          "metadata": {}
        }
      ]
    },
    {
      "cell_type": "code",
      "source": [
        "matches['toss_winner_won'] = matches.apply(lambda x: 'Won' if x['toss_winner'] == x['winner'] else 'Lost', axis=1)\n",
        "\n",
        "team_toss_wins = matches.groupby(['toss_winner', 'toss_winner_won']).size().unstack(fill_value=0).reset_index()\n",
        "\n",
        "# Calculate percentage of wins after winning the toss for each team\n",
        "team_toss_wins['Total'] = team_toss_wins['Won'] + team_toss_wins['Lost']\n",
        "team_toss_wins['Win_Percentage'] = (team_toss_wins['Won'] / team_toss_wins['Total']) * 100\n",
        "\n",
        "# Display the data frame to verify correctness\n",
        "print(team_toss_wins[['toss_winner', 'Win_Percentage']])"
      ],
      "metadata": {
        "colab": {
          "base_uri": "https://localhost:8080/"
        },
        "id": "XTesBAPFCt7O",
        "outputId": "61e8620e-f8c8-433a-991e-abdad5a388e9"
      },
      "execution_count": 27,
      "outputs": [
        {
          "output_type": "stream",
          "name": "stdout",
          "text": [
            "toss_winner_won                  toss_winner  Win_Percentage\n",
            "0                        Chennai Super Kings       61.344538\n",
            "1                             Delhi Capitals       45.454545\n",
            "2                             Gujarat Titans       63.636364\n",
            "3                      Kolkata Knight Riders       54.464286\n",
            "4                       Lucknow Super Giants       52.631579\n",
            "5                             Mumbai Indians       54.477612\n",
            "6                               Punjab Kings       40.196078\n",
            "7                           Rajasthan Royals       49.137931\n",
            "8                Royal Challengers Bengaluru       50.434783\n",
            "9                        Sunrisers Hyderabad       40.000000\n"
          ]
        }
      ]
    },
    {
      "cell_type": "markdown",
      "source": [
        "**Encoding categorical variables e.g., team names, venue, toss_decision, toss_winner.**"
      ],
      "metadata": {
        "id": "GFani-kNjX0n"
      }
    },
    {
      "cell_type": "code",
      "source": [
        "# Initialize the encoder\n",
        "encoder = OrdinalEncoder()\n",
        "\n",
        "# Fit the encoder on all unique team names from both columns\n",
        "encoder.fit(matches[['team1', 'team2','toss_winner','winner']].stack().unique().reshape(-1, 1))\n",
        "\n",
        "# Transform both columns using the fitted encoder\n",
        "matches['team1_encoded'] = encoder.transform(matches[['team1']])\n",
        "matches['team2_encoded'] = encoder.transform(matches[['team2']])\n",
        "matches['toss_winner_encoded'] = encoder.transform(matches[['toss_winner']])\n",
        "matches['winner_encoded'] = encoder.transform(matches[['winner']])\n",
        "matches['venue_encoded'] = encoder.fit_transform(matches[['venue']])\n",
        "matches['toss_decision_encoded'] = encoder.fit_transform(matches[['toss_decision']])\n",
        "matches['result_encoded'] = encoder.fit_transform(matches[['result']])\n",
        "matches['city_encoded'] = encoder.fit_transform(matches[['city']])"
      ],
      "metadata": {
        "colab": {
          "base_uri": "https://localhost:8080/"
        },
        "id": "8xnVFQqeCyDD",
        "outputId": "d72e51a0-710a-4499-c072-94ecda47e719"
      },
      "execution_count": 28,
      "outputs": [
        {
          "output_type": "stream",
          "name": "stderr",
          "text": [
            "/usr/local/lib/python3.10/dist-packages/sklearn/base.py:486: UserWarning:\n",
            "\n",
            "X has feature names, but OrdinalEncoder was fitted without feature names\n",
            "\n",
            "/usr/local/lib/python3.10/dist-packages/sklearn/base.py:486: UserWarning:\n",
            "\n",
            "X has feature names, but OrdinalEncoder was fitted without feature names\n",
            "\n",
            "/usr/local/lib/python3.10/dist-packages/sklearn/base.py:486: UserWarning:\n",
            "\n",
            "X has feature names, but OrdinalEncoder was fitted without feature names\n",
            "\n",
            "/usr/local/lib/python3.10/dist-packages/sklearn/base.py:486: UserWarning:\n",
            "\n",
            "X has feature names, but OrdinalEncoder was fitted without feature names\n",
            "\n"
          ]
        }
      ]
    },
    {
      "cell_type": "markdown",
      "source": [
        "## **Week 6-7: Clustering**\n",
        "\n",
        "Clustering groups data points into clusters based on their similarity, with the goal of uncovering patterns or structures in the data. It helps identify distinct categories or behaviors within a dataset, making it easier to analyze and interpret complex information."
      ],
      "metadata": {
        "id": "ijEsv0flj1jG"
      }
    },
    {
      "cell_type": "markdown",
      "source": [
        "**Clustering: Group data by venues and calculate metrics for clustering**\n",
        "\n",
        "\n",
        "**Cluster 0:  Moderately Utilized, Balanced Venues**\n",
        "\n",
        "Venues with moderate match frequency and average target scores.\n",
        "\n",
        "Examples: Barabati Stadium, Dr. DY Patil Sports Academy.\n",
        "\n",
        "**Cluster 1: High-Usage, Well-Balanced Venues**\n",
        "\n",
        "Venues with high match frequency, balanced scores, and results.\n",
        "\n",
        "Examples: Wankhede Stadium, Eden Gardens, M. Chinnaswamy Stadium.\n",
        "\n",
        "**Cluster 2: Low-Scoring, Rarely Used Venues**\n",
        "\n",
        "Venues with low scores, limited matches, and distinct match dynamics.\n",
        "\n",
        "Examples: Newlands, Buffalo Park.\n",
        "\n",
        "**Cluster 3: Low-Margin, Occasionally Used Venues**\n",
        "\n",
        "Venues hosting occasional matches with small result margins.\n",
        "\n",
        "Examples: Kingsmead, JSCA International Stadium Complex.\n",
        "\n",
        "**Cluster 4: High-Scoring, Specialized Venues**\n",
        "\n",
        "Venues known for high-scoring matches but used less frequently.\n",
        "\n",
        "Examples: Arun Jaitley Stadium, Brabourne Stadium.\n",
        "\n",
        "**Cluster 5: High-Result-Margin Venues**\n",
        "\n",
        "Venues characterized by significant result margins and occasional usage.\n",
        "\n",
        "Examples: Himachal Pradesh Cricket Association Stadium, Dr. Y.S. Rajasekhara Reddy ACA-VDCA Cricket Stadium."
      ],
      "metadata": {
        "id": "cermm7PklAUr"
      }
    },
    {
      "cell_type": "code",
      "source": [
        "# Group by venue and calculate metrics\n",
        "venue_data = matches.groupby('venue').agg(\n",
        "    avg_score=('target_runs', 'mean'),               # Average target score\n",
        "    avg_result_margin=('result_margin', 'mean'),    # Average result margin\n",
        "    matches_played=('id', 'count'),                 # Number of matches played\n",
        ").reset_index()\n",
        "\n",
        "# Calculate win rate for batting first (result by \"runs\")\n",
        "venue_data['win_rate_batting_first'] = matches[matches['result'] == 'runs'].groupby('venue')['result'].count() / matches.groupby('venue')['result'].count()\n",
        "\n",
        "# Fill NaN values in `win_rate_batting_first`\n",
        "venue_data['win_rate_batting_first'].fillna(0, inplace=True)\n",
        "\n",
        "# Verify the DataFrame\n",
        "print(venue_data.head())\n",
        "\n",
        "# Scale the features\n",
        "scaler = StandardScaler()\n",
        "scaled_features = scaler.fit_transform(venue_data[['avg_score', 'avg_result_margin', 'matches_played', 'win_rate_batting_first']])\n",
        "\n",
        "# Apply K-Means clustering\n",
        "kmeans = KMeans(n_clusters=6, random_state=42)\n",
        "venue_data['cluster'] = kmeans.fit_predict(scaled_features)\n",
        "\n",
        "# Display the updated DataFrame\n",
        "print(venue_data)\n",
        "\n",
        "# Visualize the updated clustering\n",
        "plt.figure(figsize=(12, 8))\n",
        "sns.scatterplot(\n",
        "    x='avg_score',\n",
        "    y='avg_result_margin',\n",
        "    hue='cluster',\n",
        "    palette='viridis',\n",
        "    data=venue_data,\n",
        "    s=100\n",
        ")\n",
        "plt.title('Clustering of Venues')\n",
        "plt.xlabel('Average Score')\n",
        "plt.ylabel('Average Result Margin')\n",
        "plt.legend(title='Cluster')\n",
        "plt.show()\n"
      ],
      "metadata": {
        "colab": {
          "base_uri": "https://localhost:8080/",
          "height": 1000
        },
        "id": "XhcEctiCC5qG",
        "outputId": "bb09f3d2-b88f-4506-abc8-2a0cc681369b"
      },
      "execution_count": 29,
      "outputs": [
        {
          "output_type": "stream",
          "name": "stdout",
          "text": [
            "                                               venue   avg_score  \\\n",
            "0                               Arun Jaitley Stadium  184.166667   \n",
            "1                                   Barabati Stadium  165.666667   \n",
            "2                Barsapara Cricket Stadium, Guwahati  181.000000   \n",
            "3  Bharat Ratna Shri Atal Bihari Vajpayee Ekana C...  169.345384   \n",
            "4                                  Brabourne Stadium  179.518519   \n",
            "\n",
            "   avg_result_margin  matches_played  win_rate_batting_first  \n",
            "0          18.315438              30                     0.0  \n",
            "1          13.333333               6                     0.0  \n",
            "2          22.333333               3                     0.0  \n",
            "3          20.104510              14                     0.0  \n",
            "4          16.481481              27                     0.0  \n"
          ]
        },
        {
          "output_type": "stream",
          "name": "stderr",
          "text": [
            "<ipython-input-29-c752489c2fac>:12: FutureWarning:\n",
            "\n",
            "A value is trying to be set on a copy of a DataFrame or Series through chained assignment using an inplace method.\n",
            "The behavior will change in pandas 3.0. This inplace method will never work because the intermediate object on which we are setting values always behaves as a copy.\n",
            "\n",
            "For example, when doing 'df[col].method(value, inplace=True)', try using 'df.method({col: value}, inplace=True)' or df[col] = df[col].method(value) instead, to perform the operation inplace on the original object.\n",
            "\n",
            "\n",
            "\n"
          ]
        },
        {
          "output_type": "stream",
          "name": "stdout",
          "text": [
            "                                                venue   avg_score  \\\n",
            "0                                Arun Jaitley Stadium  184.166667   \n",
            "1                                    Barabati Stadium  165.666667   \n",
            "2                 Barsapara Cricket Stadium, Guwahati  181.000000   \n",
            "3   Bharat Ratna Shri Atal Bihari Vajpayee Ekana C...  169.345384   \n",
            "4                                   Brabourne Stadium  179.518519   \n",
            "5                                        Buffalo Park  148.333333   \n",
            "6                               De Beers Diamond Oval  159.000000   \n",
            "7                          Dr DY Patil Sports Academy  164.500000   \n",
            "8   Dr. Y.S. Rajasekhara Reddy ACA-VDCA Cricket St...  169.416667   \n",
            "9                 Dubai International Cricket Stadium  164.760870   \n",
            "10                                       Eden Gardens  165.965517   \n",
            "11                                   Feroz Shah Kotla  160.750000   \n",
            "12       Himachal Pradesh Cricket Association Stadium  184.769231   \n",
            "13                             Holkar Cricket Stadium  168.500000   \n",
            "14                 JSCA International Stadium Complex  146.500000   \n",
            "15                                          Kingsmead  147.000000   \n",
            "16                              M.Chinnaswamy Stadium  171.880416   \n",
            "17                             MA Chidambaram Stadium  165.283019   \n",
            "18                    MA Chidambaram Stadium, Chennai  165.535714   \n",
            "19  Maharaja Yadavindra Singh International Cricke...  168.400000   \n",
            "20            Maharashtra Cricket Association Stadium  172.043478   \n",
            "21                   Narendra Modi Stadium, Ahmedabad  171.333333   \n",
            "22                              New Wanderers Stadium  145.000000   \n",
            "23                                           Newlands  133.142857   \n",
            "24                                    OUTsurance Oval  136.000000   \n",
            "25       Punjab Cricket Association IS Bindra Stadium  170.200000   \n",
            "26                 Rajiv Gandhi International Stadium  160.947368   \n",
            "27      Rajiv Gandhi International Stadium, Hyderabad  189.384615   \n",
            "28                             Sawai Mansingh Stadium  161.811321   \n",
            "29   Shaheed Veer Narayan Singh International Stadium  143.800000   \n",
            "30                            Sharjah Cricket Stadium  160.035714   \n",
            "31                                   St George's Park  160.000000   \n",
            "32                         Subrata Roy Sahara Stadium  163.000000   \n",
            "33                                    SuperSport Park  155.916667   \n",
            "34       Vidarbha Cricket Association Stadium, Jamtha  150.333333   \n",
            "35                                   Wankhede Stadium  172.706422   \n",
            "36                   Zayed Cricket Stadium, Abu Dhabi  159.891892   \n",
            "\n",
            "    avg_result_margin  matches_played  win_rate_batting_first  cluster  \n",
            "0           18.315438              30                     0.0        4  \n",
            "1           13.333333               6                     0.0        0  \n",
            "2           22.333333               3                     0.0        4  \n",
            "3           20.104510              14                     0.0        0  \n",
            "4           16.481481              27                     0.0        4  \n",
            "5           31.333333               3                     0.0        2  \n",
            "6           21.000000               3                     0.0        0  \n",
            "7           18.300000              30                     0.0        0  \n",
            "8           34.250000              12                     0.0        5  \n",
            "9           20.225857              46                     0.0        1  \n",
            "10          15.586207              87                     0.0        1  \n",
            "11          19.519231              52                     0.0        1  \n",
            "12          31.461538              13                     0.0        5  \n",
            "13          11.500000               6                     0.0        0  \n",
            "14           9.666667               6                     0.0        3  \n",
            "15          12.800000              15                     0.0        3  \n",
            "16          17.951206              85                     0.0        1  \n",
            "17          18.065342              53                     0.0        1  \n",
            "18          17.766541              28                     0.0        0  \n",
            "19           4.200000               5                     0.0        0  \n",
            "20          25.130435              23                     0.0        5  \n",
            "21          16.929532              36                     0.0        0  \n",
            "22           7.500000               8                     0.0        3  \n",
            "23          25.780448               7                     0.0        2  \n",
            "24          10.000000               2                     0.0        3  \n",
            "25          16.218182              55                     0.0        1  \n",
            "26          15.885318              57                     0.0        1  \n",
            "27          16.000000              13                     0.0        4  \n",
            "28          16.886792              53                     0.0        1  \n",
            "29           6.200000               5                     0.0        3  \n",
            "30          17.035714              28                     0.0        0  \n",
            "31          31.714286               7                     0.0        5  \n",
            "32          18.000000               1                     0.0        0  \n",
            "33          10.833333              12                     0.0        3  \n",
            "34           7.000000               3                     0.0        3  \n",
            "35          14.967552             109                     0.0        1  \n",
            "36          17.943953              37                     0.0        0  \n"
          ]
        },
        {
          "output_type": "display_data",
          "data": {
            "text/plain": [
              "<Figure size 1200x800 with 1 Axes>"
            ],
            "image/png": "[encoded data removed]"
          },
          "metadata": {}
        }
      ]
    },
    {
      "cell_type": "markdown",
      "source": [
        "**Silhouette Score Analysis for Optimal Clusters**\n",
        "\n",
        "To determine the optimal number of clusters for venue-based clustering, the Silhouette Score was calculated for cluster sizes ranging from 2 to 10. The Silhouette Score measures how well each data point fits within its assigned cluster, with higher scores indicating better-defined clusters.\n",
        "\n",
        "The plot below illustrates the Silhouette Scores for different numbers of clusters (k). The optimal number of clusters corresponds to the value of k where the Silhouette Score is maximized. This analysis helps in selecting the most appropriate cluster size for meaningful segmentation of the data.\n",
        "\n",
        "The Silhouette Score analysis revealed that a cluster size of 6 was optimal, indicating well-defined and meaningful groupings in the data. This choice ensures the segmentation effectively captures the underlying patterns among venues."
      ],
      "metadata": {
        "id": "om2EPWOqYvTx"
      }
    },
    {
      "cell_type": "code",
      "source": [
        "\n",
        "scaler = StandardScaler()\n",
        "scaled_features = scaler.fit_transform(venue_data[['avg_score', 'avg_result_margin', 'matches_played', 'win_rate_batting_first']])\n",
        "\n",
        "silhouette_scores = []\n",
        "for k in range(2, 11):  # Silhouette Score requires at least 2 clusters\n",
        "    kmeans = KMeans(n_clusters=k, random_state=42)\n",
        "    kmeans.fit(scaled_features)\n",
        "    score = silhouette_score(scaled_features, kmeans.labels_)\n",
        "    silhouette_scores.append(score)\n",
        "\n",
        "plt.figure(figsize=(10, 6))\n",
        "plt.plot(range(2, 11), silhouette_scores, marker='o', linestyle='--')\n",
        "plt.title('Silhouette Score for Optimal Clusters')\n",
        "plt.xlabel('Number of Clusters (k)')\n",
        "plt.ylabel('Silhouette Score')\n",
        "plt.xticks(range(2, 11))\n",
        "plt.show()"
      ],
      "metadata": {
        "colab": {
          "base_uri": "https://localhost:8080/",
          "height": 564
        },
        "id": "wK-zTiaxG1rT",
        "outputId": "c272adeb-dca0-406b-f86c-d0c187910242"
      },
      "execution_count": 30,
      "outputs": [
        {
          "output_type": "display_data",
          "data": {
            "text/plain": [
              "<Figure size 1000x600 with 1 Axes>"
            ],
            "image/png": "[encoded data removed]"
          },
          "metadata": {}
        }
      ]
    },
    {
      "cell_type": "markdown",
      "source": [
        "**Clustering: Team Performance Based on Margins**\n",
        "\n",
        "**Cluster 0: Balanced Teams with Moderate Margins**\n",
        "\n",
        "Teams with average performance, achieving balanced margins in runs and wickets.\n",
        "Examples: Delhi Capitals, Kolkata Knight Riders, Rajasthan Royals.\n",
        "\n",
        "**Cluster 1: Consistent Teams with Strategic Victories**\n",
        "\n",
        "Teams known for their calculated, low-margin victories, often focused on strategy.\n",
        "Examples: Lucknow Super Giants.\n",
        "\n",
        "**Cluster 2: Dominant Teams with High Margins**\n",
        "\n",
        "Teams excelling in both runs and wickets, indicating their dominance in matches.\n",
        "Examples: Chennai Super Kings, Mumbai Indians."
      ],
      "metadata": {
        "id": "WKcrOzoslfUR"
      }
    },
    {
      "cell_type": "code",
      "source": [
        "# Initialize new columns with default values as 0\n",
        "matches['result_margin_runs'] = 0\n",
        "matches['result_margin_wickets'] = 0\n",
        "\n",
        "# Populate result_margin_runs and result_margin_wickets based on conditions\n",
        "matches['result_margin_runs'] = matches.apply(\n",
        "    lambda x: x['result_margin'] if x['result'] == 'runs' else 0, axis=1\n",
        ")\n",
        "\n",
        "matches['result_margin_wickets'] = matches.apply(\n",
        "    lambda x: x['result_margin'] if x['result'] == 'wickets' else 0, axis=1\n",
        ")\n",
        "\n",
        "# Check the resulting DataFrame\n",
        "print(matches[['result', 'result_margin', 'result_margin_runs', 'result_margin_wickets']].head())\n"
      ],
      "metadata": {
        "colab": {
          "base_uri": "https://localhost:8080/"
        },
        "id": "oBFfwJshHn9I",
        "outputId": "0d9634b9-155d-49b5-ebf6-fc54189ba71b"
      },
      "execution_count": 31,
      "outputs": [
        {
          "output_type": "stream",
          "name": "stdout",
          "text": [
            "    result  result_margin  result_margin_runs  result_margin_wickets\n",
            "0     runs          140.0               140.0                    0.0\n",
            "1     runs           33.0                33.0                    0.0\n",
            "2  wickets            9.0                 0.0                    9.0\n",
            "3  wickets            5.0                 0.0                    5.0\n",
            "4  wickets            5.0                 0.0                    5.0\n"
          ]
        }
      ]
    },
    {
      "cell_type": "code",
      "source": [
        "# Ensure result_margin_runs and result_margin_wickets exist\n",
        "if 'result_margin_runs' in matches.columns and 'result_margin_wickets' in matches.columns:\n",
        "    # Group by winner to calculate average result margins\n",
        "    team_margins = matches.groupby('winner').agg(\n",
        "        avg_margin_runs=('result_margin_runs', 'mean'),\n",
        "        avg_margin_wickets=('result_margin_wickets', 'mean')\n",
        "    ).reset_index()\n",
        "\n",
        "    # Scale the features for clustering\n",
        "    scaler = StandardScaler()\n",
        "    scaled_margins = scaler.fit_transform(team_margins[['avg_margin_runs', 'avg_margin_wickets']])\n",
        "\n",
        "    # Apply K-Means clustering\n",
        "    kmeans = KMeans(n_clusters=3, random_state=42)\n",
        "    team_margins['cluster'] = kmeans.fit_predict(scaled_margins)\n",
        "\n",
        "    # Scatter plot for clustering\n",
        "    plt.figure(figsize=(10, 6))\n",
        "    sns.scatterplot(\n",
        "        x='avg_margin_runs',  # X-axis: Average result margin by runs\n",
        "        y='avg_margin_wickets',  # Y-axis: Average result margin by wickets\n",
        "        hue='cluster',  # Color by cluster\n",
        "        palette='viridis',\n",
        "        data=team_margins,\n",
        "        s=100  # Size of points\n",
        "    )\n",
        "    plt.title('Clustering Teams Based on Result Margins (Runs and Wickets)')\n",
        "    plt.xlabel('Average Margin by Runs')\n",
        "    plt.ylabel('Average Margin by Wickets')\n",
        "    plt.legend(title='Cluster')\n",
        "    plt.show()\n",
        "\n",
        "    # Print clustered data\n",
        "    print(team_margins)\n",
        "else:\n",
        "    print(\"Columns 'result_margin_runs' and 'result_margin_wickets' not found.\")\n"
      ],
      "metadata": {
        "colab": {
          "base_uri": "https://localhost:8080/",
          "height": 760
        },
        "id": "HMyPSY2vHh3r",
        "outputId": "8accafa7-7d12-4a55-8900-21fa92bba2d7"
      },
      "execution_count": 32,
      "outputs": [
        {
          "output_type": "display_data",
          "data": {
            "text/plain": [
              "<Figure size 1000x600 with 1 Axes>"
            ],
            "image/png": "[encoded data removed]"
          },
          "metadata": {}
        },
        {
          "output_type": "stream",
          "name": "stdout",
          "text": [
            "                        winner  avg_margin_runs  avg_margin_wickets  cluster\n",
            "0          Chennai Super Kings        18.007519            2.977444        2\n",
            "1               Delhi Capitals         9.641509            3.613208        0\n",
            "2               Gujarat Titans        13.428571            3.500000        0\n",
            "3        Kolkata Knight Riders        14.040650            3.552846        0\n",
            "4         Lucknow Super Giants        16.291667            1.791667        1\n",
            "5               Mumbai Indians        16.381295            2.978417        2\n",
            "6                 Punjab Kings        11.682692            3.076923        0\n",
            "7             Rajasthan Royals        11.971963            3.411215        0\n",
            "8  Royal Challengers Bengaluru        14.243243            3.477477        0\n",
            "9          Sunrisers Hyderabad        13.247619            3.038095        0\n"
          ]
        }
      ]
    },
    {
      "cell_type": "markdown",
      "source": [
        "**Clustering: Team Performance Based on Toss Outcomes**\n",
        "\n",
        "**Cluster 0: Teams with Moderate Toss Performance**\n",
        "\n",
        "Teams that play frequently but have inconsistent success in converting toss wins into match victories.\n",
        "Examples: Sunrisers Hyderabad, Royal Challengers Bengaluru, Rajasthan Royals.\n",
        "\n",
        "**Cluster 1: High Toss Efficiency with Fewer Matches Played**\n",
        "\n",
        "Teams with fewer matches but high toss-match win ratios, leveraging toss wins effectively.\n",
        "Examples: Gujarat Titans, Lucknow Super Giants.\n",
        "\n",
        "**Cluster 2: Consistent Teams with High Toss Success**\n",
        "\n",
        "Established teams with a strong toss record and better conversion rates in matches.\n",
        "Examples: Mumbai Indians, Chennai Super Kings, Kolkata Knight Riders."
      ],
      "metadata": {
        "id": "IWQ7fF1Ul2R0"
      }
    },
    {
      "cell_type": "code",
      "source": [
        "# Calculate total matches played by each team\n",
        "matches_played = pd.concat([matches['team1'], matches['team2']]).value_counts().reset_index()\n",
        "matches_played.columns = ['team', 'total_matches_played']\n",
        "\n",
        "# Calculate total tosses won by each team\n",
        "tosses_won = matches['toss_winner'].value_counts().reset_index()\n",
        "tosses_won.columns = ['team', 'total_tosses_won']\n",
        "\n",
        "# Calculate matches where the team won the toss and the match\n",
        "toss_match_wins = matches[matches['toss_winner'] == matches['winner']]['toss_winner'].value_counts().reset_index()\n",
        "toss_match_wins.columns = ['team', 'toss_match_wins']\n",
        "\n",
        "# Merge all metrics into a single DataFrame\n",
        "team_stats = matches_played.merge(tosses_won, on='team', how='left')\n",
        "team_stats = team_stats.merge(toss_match_wins, on='team', how='left')\n",
        "\n",
        "# Fill missing values (teams that didn't win a toss or toss-match)\n",
        "team_stats.fillna(0, inplace=True)\n",
        "\n",
        "# Add Toss-Match Win Ratio\n",
        "team_stats['toss_match_win_ratio'] = team_stats['toss_match_wins'] / team_stats['total_tosses_won']\n",
        "team_stats['toss_match_win_ratio'] = team_stats['toss_match_win_ratio'].fillna(0)\n",
        "\n",
        "# Standardize the features for clustering\n",
        "scaler = StandardScaler()\n",
        "scaled_features = scaler.fit_transform(team_stats[['total_matches_played', 'total_tosses_won', 'toss_match_win_ratio']])\n",
        "\n",
        "# Apply K-Means clustering\n",
        "kmeans = KMeans(n_clusters=3, random_state=42)\n",
        "team_stats['cluster'] = kmeans.fit_predict(scaled_features)\n",
        "\n",
        "# Scatter plot for clusters\n",
        "plt.figure(figsize=(12, 8))\n",
        "sns.scatterplot(\n",
        "    x='total_tosses_won',\n",
        "    y='toss_match_win_ratio',\n",
        "    hue='cluster',\n",
        "    palette='viridis',\n",
        "    data=team_stats,\n",
        "    s=100\n",
        ")\n",
        "plt.title('Clustering Teams Based on Toss Performance and Toss-Match Wins')\n",
        "plt.xlabel('Total Tosses Won')\n",
        "plt.ylabel('Toss-Match Win Ratio')\n",
        "plt.legend(title='Cluster')\n",
        "plt.show()\n",
        "\n",
        "# Display team statistics with clusters\n",
        "print(team_stats)"
      ],
      "metadata": {
        "colab": {
          "base_uri": "https://localhost:8080/",
          "height": 1000
        },
        "id": "bBO2Ygf5Mwqr",
        "outputId": "3d552455-e61a-4379-bf4f-c10c0da37d17"
      },
      "execution_count": 33,
      "outputs": [
        {
          "output_type": "display_data",
          "data": {
            "text/plain": [
              "<Figure size 1200x800 with 1 Axes>"
            ],
            "image/png": "[encoded data removed]"
          },
          "metadata": {}
        },
        {
          "output_type": "stream",
          "name": "stdout",
          "text": [
            "                          team  total_matches_played  total_tosses_won  \\\n",
            "0               Mumbai Indians                   244               134   \n",
            "1          Sunrisers Hyderabad                   241               120   \n",
            "2  Royal Challengers Bengaluru                   239               115   \n",
            "3               Delhi Capitals                   236               121   \n",
            "4        Kolkata Knight Riders                   236               112   \n",
            "5                 Punjab Kings                   231               102   \n",
            "6          Chennai Super Kings                   230               119   \n",
            "7             Rajasthan Royals                   214               116   \n",
            "8               Gujarat Titans                    45                22   \n",
            "9         Lucknow Super Giants                    44                19   \n",
            "\n",
            "   toss_match_wins  toss_match_win_ratio  cluster  \n",
            "0               73              0.544776        2  \n",
            "1               48              0.400000        0  \n",
            "2               58              0.504348        0  \n",
            "3               55              0.454545        0  \n",
            "4               61              0.544643        2  \n",
            "5               41              0.401961        0  \n",
            "6               73              0.613445        2  \n",
            "7               57              0.491379        0  \n",
            "8               14              0.636364        1  \n",
            "9               10              0.526316        1  \n"
          ]
        }
      ]
    },
    {
      "cell_type": "markdown",
      "source": [
        "## **Week 8-9: Baseline Training and Evaluation Experiments**\n",
        "\n",
        "\n",
        "*   Decision Trees: A tree-based model known for its interpretability and ability to handle categorical and numerical data efficiently.\n",
        "*   k-Nearest Neighbors (k-NN): A simple yet effective instance-based algorithm that classifies data points based on their proximity to labeled neighbors.\n",
        "*   Random Forest: An ensemble learning method that combines multiple decision trees to improve prediction accuracy and mitigate overfitting.\n",
        "\n",
        "\n",
        "\n",
        "The models are evaluated using appropriate classification metrics such as accuracy, precision, recall, and F1-score."
      ],
      "metadata": {
        "id": "l1k7C4aymPzp"
      }
    },
    {
      "cell_type": "markdown",
      "source": [
        "**Feature Engineering**\n",
        "- Extract relevant features from the dataset (e.g., recent performance of teams, head-to-head statistics).\n",
        "- Create additional features based on domain knowledge, such as toss impact and venue advantage."
      ],
      "metadata": {
        "id": "PfHf01y3mArA"
      }
    },
    {
      "cell_type": "code",
      "source": [
        "matches['toss_winner_decision'] = matches['toss_winner_encoded'].astype(str) + \"_\" + matches['toss_decision'].astype(str)\n",
        "\n",
        "# Creating interaction between 'venue' and 'team1'\n",
        "matches['venue_team1'] = matches['venue_encoded'].astype(str) + \"_\" + matches['team1_encoded'].astype(str)\n",
        "\n",
        "# Creating interaction between 'venue' and 'team2'\n",
        "matches['venue_team2'] = matches['venue_encoded'].astype(str) + \"_\" + matches['team2_encoded'].astype(str)\n",
        "\n",
        "matches['team1_team2'] = matches['team1_encoded'].astype(str) + \"_\" + matches['team2_encoded'].astype(str)\n",
        "matches['Result_result margin'] = matches['result_encoded'].astype(str) + \"_\" + matches['result_margin'].astype(str)\n",
        "matches['targetruns_result margin'] = matches['target_runs'].astype(str) + \"_\" + matches['result_margin'].astype(str)\n",
        "\n",
        "\n",
        "\n",
        "# Optionally, encode these new features using a technique appropriate for your model\n",
        "# For demonstration, let's use OrdinalEncoder if these are to be treated as categorical but ordinal\n",
        "from sklearn.preprocessing import OrdinalEncoder\n",
        "encoder = OrdinalEncoder()\n",
        "\n",
        "# Fit and transform these new features\n",
        "matches[['toss_winner_decision', 'venue_team1', 'venue_team2','team1_team2','Result_result margin','targetruns_result margin']] = encoder.fit_transform(\n",
        "    matches[['toss_winner_decision', 'venue_team1', 'venue_team2','team1_team2', 'Result_result margin','targetruns_result margin']])"
      ],
      "metadata": {
        "id": "U2v91nFfSmA6"
      },
      "execution_count": 34,
      "outputs": []
    },
    {
      "cell_type": "markdown",
      "source": [
        "**Split the dataset into training and testing subsets.**"
      ],
      "metadata": {
        "id": "mItW2F4gm34M"
      }
    },
    {
      "cell_type": "code",
      "source": [
        "X = matches[['result_encoded', 'result_margin', 'target_runs', 'team1_encoded', 'team2_encoded', 'toss_winner_encoded', 'venue_encoded', 'toss_decision_encoded', 'toss_winner_decision']]\n",
        "y = matches['winner_encoded']\n",
        "\n",
        "X_train, X_test, y_train, y_test = train_test_split(X, y, test_size=0.2, random_state=42)\n",
        "\n",
        "scaler = StandardScaler()\n",
        "X_train_scaled = scaler.fit_transform(X_train)\n",
        "X_test_scaled = scaler.transform(X_test)\n",
        "print(f\"Training data size: {X_train.shape}\")\n",
        "print(f\"Testing data size: {X_test.shape}\")"
      ],
      "metadata": {
        "colab": {
          "base_uri": "https://localhost:8080/"
        },
        "id": "pGe71oPOVFXp",
        "outputId": "7b80d68f-5e80-41d9-ff29-ffb32576d3de"
      },
      "execution_count": 58,
      "outputs": [
        {
          "output_type": "stream",
          "name": "stdout",
          "text": [
            "Training data size: (784, 9)\n",
            "Testing data size: (196, 9)\n"
          ]
        }
      ]
    },
    {
      "cell_type": "markdown",
      "source": [
        "**k-Nearest Neighbors (k-NN)**\n",
        "\n",
        "We employed a k-Nearest Neighbors (k-NN) classifier, using 1 neighbor for predictions, to model match outcomes. The model achieved an accuracy of 52.55% on the test set, with precision, recall, and F1-score each at 46%. While its performance is lower, k-NN provides a simple, non-parametric approach that classifies instances based on their proximity in the feature space."
      ],
      "metadata": {
        "id": "5Sp9Bjijo4-K"
      }
    },
    {
      "cell_type": "markdown",
      "source": [
        "To determine the optimal value of k for a K-Nearest Neighbors (KNN) model by analyzing the error rate for different values of k"
      ],
      "metadata": {
        "id": "aPjC7gPUo84C"
      }
    },
    {
      "cell_type": "code",
      "source": [
        "\n",
        "errors = []\n",
        "for k in range(1, 21): # Test for different values of k\n",
        "    knn = KNeighborsClassifier(n_neighbors=k)\n",
        "    knn.fit(X_train_scaled, y_train)\n",
        "    y_pred_k = knn.predict(X_test_scaled)\n",
        "    errors.append(1 - accuracy_score(y_test, y_pred_k))\n",
        "\n",
        "plt.figure(figsize=(10, 6))\n",
        "plt.plot(range(1, 21), errors, marker='o', linestyle='--')\n",
        "plt.title('Error Rate vs. Number of Neighbors (k)')\n",
        "plt.xlabel('Number of Neighbors (k)')\n",
        "plt.ylabel('Error Rate')\n",
        "plt.xticks(range(1, 21))\n",
        "plt.show()"
      ],
      "metadata": {
        "colab": {
          "base_uri": "https://localhost:8080/",
          "height": 564
        },
        "id": "aXSwJ-WhX6sz",
        "outputId": "bd8bc69c-2af9-47ee-a987-ca205ad6e656"
      },
      "execution_count": 59,
      "outputs": [
        {
          "output_type": "display_data",
          "data": {
            "text/plain": [
              "<Figure size 1000x600 with 1 Axes>"
            ],
            "image/png": "[encoded data removed]"
          },
          "metadata": {}
        }
      ]
    },
    {
      "cell_type": "markdown",
      "source": [
        "**Train the model using the training dataset and Evaluation**\n",
        "\n"
      ],
      "metadata": {
        "id": "bKYj0HF6pcbO"
      }
    },
    {
      "cell_type": "code",
      "source": [
        "knn_model = KNeighborsClassifier(n_neighbors=5)\n",
        "knn_model.fit(X_train_scaled, y_train)\n",
        "\n",
        "# Predict on test data\n",
        "y_pred = knn_model.predict(X_test_scaled)\n",
        "\n",
        "accuracy = accuracy_score(y_test, y_pred)\n",
        "print('Accuracy of the KNN classifier on test set:', accuracy)\n",
        "\n",
        "precision = precision_score(y_test, y_pred, average='macro')\n",
        "recall = recall_score(y_test, y_pred, average='macro')\n",
        "f1 = f1_score(y_test, y_pred, average='macro')\n",
        "\n",
        "conf_matrix = confusion_matrix(y_test, y_pred)\n",
        "\n",
        "print(f\"Precision: {precision:.2f}\")\n",
        "print(f\"Recall: {recall:.2f}\")\n",
        "print(f\"F1 Score: {f1:.2f}\")\n",
        "print(\"Confusion Matrix:\")\n",
        "print(conf_matrix)"
      ],
      "metadata": {
        "colab": {
          "base_uri": "https://localhost:8080/"
        },
        "id": "0RukelJGW-b6",
        "outputId": "4c6e03a5-91d2-4b94-f66b-1b09becce22b"
      },
      "execution_count": 60,
      "outputs": [
        {
          "output_type": "stream",
          "name": "stdout",
          "text": [
            "Accuracy of the KNN classifier on test set: 0.46938775510204084\n",
            "Precision: 0.47\n",
            "Recall: 0.41\n",
            "F1 Score: 0.41\n",
            "Confusion Matrix:\n",
            "[[15  4  0  2  0  0  0  0  0  0]\n",
            " [10  7  0  2  0  1  0  0  0  0]\n",
            " [ 3  0  0  3  0  0  0  0  0  0]\n",
            " [ 1  3  0 15  0  4  1  0  0  0]\n",
            " [ 0  0  0  2  1  2  0  0  0  0]\n",
            " [ 0  0  0  2  1 13  7  4  0  0]\n",
            " [ 0  0  0  1  0  9  4  1  0  0]\n",
            " [ 2  0  0  1  0  5  5 12  0  1]\n",
            " [ 0  0  0  0  0  2  1 13 12  0]\n",
            " [ 0  0  0  0  0  0  1  8  2 13]]\n"
          ]
        },
        {
          "output_type": "stream",
          "name": "stderr",
          "text": [
            "/usr/local/lib/python3.10/dist-packages/sklearn/metrics/_classification.py:1531: UndefinedMetricWarning:\n",
            "\n",
            "Precision is ill-defined and being set to 0.0 in labels with no predicted samples. Use `zero_division` parameter to control this behavior.\n",
            "\n"
          ]
        }
      ]
    },
    {
      "cell_type": "markdown",
      "source": [
        "**`Decision Trees`**\n",
        "\n",
        "We implemented a Decision Tree Classifier to predict match outcomes, leveraging its interpretability and ability to handle both categorical and numerical features effectively. The model achieved an accuracy of 69.39% on the test set, with a precision of 74%, recall of 68%, and an F1-score of 69%."
      ],
      "metadata": {
        "id": "uE2Fs6hrp8j_"
      }
    },
    {
      "cell_type": "code",
      "source": [
        "clf = DecisionTreeClassifier(random_state=42)\n",
        "\n",
        "clf.fit(X_train, y_train)\n",
        "y_pred = clf.predict(X_test)\n",
        "\n",
        "accuracy = accuracy_score(y_test, y_pred)\n",
        "print('Accuracy of the decision tree classifier on test set:', accuracy)\n",
        "\n",
        "precision = precision_score(y_test, y_pred, average='macro')\n",
        "recall = recall_score(y_test, y_pred, average='macro')\n",
        "f1 = f1_score(y_test, y_pred, average='macro')\n",
        "\n",
        "conf_matrix = confusion_matrix(y_test, y_pred)\n",
        "\n",
        "print(f\"Precision: {precision:.2f}\")\n",
        "print(f\"Recall: {recall:.2f}\")\n",
        "print(f\"F1 Score: {f1:.2f}\")\n",
        "print(\"Confusion Matrix:\")\n",
        "print(conf_matrix)"
      ],
      "metadata": {
        "colab": {
          "base_uri": "https://localhost:8080/"
        },
        "id": "qW9v-yyFVYbB",
        "outputId": "62bf0dff-e60d-4ce1-adc0-0456d6f6ff06"
      },
      "execution_count": 61,
      "outputs": [
        {
          "output_type": "stream",
          "name": "stdout",
          "text": [
            "Accuracy of the decision tree classifier on test set: 0.6938775510204082\n",
            "Precision: 0.74\n",
            "Recall: 0.68\n",
            "F1 Score: 0.69\n",
            "Confusion Matrix:\n",
            "[[19  0  0  1  0  1  0  0  0  0]\n",
            " [ 0 16  0  2  1  1  0  0  0  0]\n",
            " [ 0  1  3  2  0  0  0  0  0  0]\n",
            " [ 0  4  0 15  0  2  2  0  0  1]\n",
            " [ 1  0  0  1  3  0  0  0  0  0]\n",
            " [ 1  2  0  1  0 19  2  1  1  0]\n",
            " [ 1  1  0  2  0  0 11  0  0  0]\n",
            " [ 2  1  0  3  0  2  2 13  2  1]\n",
            " [ 0  1  0  2  0  0  0  0 23  2]\n",
            " [ 0  0  0  2  0  3  0  0  5 14]]\n"
          ]
        }
      ]
    },
    {
      "cell_type": "markdown",
      "source": [
        "**Random Forest**\n",
        "\n",
        "We utilized a Random Forest Classifier with 100 estimators to predict match outcomes, leveraging its ensemble learning capabilities for improved accuracy and robustness. The model achieved an accuracy of 73.47% on the test set, with a precision of 77%, recall of 72%, and an F1-score of 73%. These results highlight the model's ability to handle complex relationships in the dataset effectively. The confusion matrix demonstrates the Random Forest's balanced performance across multiple classes, showcasing its potential as a reliable predictive model for this classification task."
      ],
      "metadata": {
        "id": "UPCGFv0NqAPr"
      }
    },
    {
      "cell_type": "code",
      "source": [
        "rf_model = RandomForestClassifier(random_state=42, n_estimators=100)\n",
        "rf_model.fit(X_train, y_train)\n",
        "\n",
        "y_pred = rf_model.predict(X_test)\n",
        "\n",
        "accuracy = accuracy_score(y_test, y_pred)\n",
        "print('Accuracy of the Random Forest classifier on test set:', accuracy)\n",
        "\n",
        "\n",
        "precision = precision_score(y_test, y_pred, average='macro')\n",
        "recall = recall_score(y_test, y_pred, average='macro')\n",
        "f1 = f1_score(y_test, y_pred, average='macro')\n",
        "\n",
        "conf_matrix = confusion_matrix(y_test, y_pred)\n",
        "\n",
        "\n",
        "print(f\"Precision: {precision:.2f}\")\n",
        "print(f\"Recall: {recall:.2f}\")\n",
        "print(f\"F1 Score: {f1:.2f}\")\n",
        "print(\"Confusion Matrix:\")\n",
        "print(conf_matrix)\n"
      ],
      "metadata": {
        "colab": {
          "base_uri": "https://localhost:8080/"
        },
        "id": "wpXDqeSBXoxW",
        "outputId": "96989c21-749b-4a7c-95ca-78aacc5861f4"
      },
      "execution_count": 62,
      "outputs": [
        {
          "output_type": "stream",
          "name": "stdout",
          "text": [
            "Accuracy of the Random Forest classifier on test set: 0.7346938775510204\n",
            "Precision: 0.77\n",
            "Recall: 0.72\n",
            "F1 Score: 0.73\n",
            "Confusion Matrix:\n",
            "[[19  1  0  0  0  1  0  0  0  0]\n",
            " [ 1 16  0  2  0  1  0  0  0  0]\n",
            " [ 0  2  4  0  0  0  0  0  0  0]\n",
            " [ 0  0  0 21  0  2  1  0  0  0]\n",
            " [ 0  1  0  1  3  0  0  0  0  0]\n",
            " [ 1  1  0  1  0 21  3  0  0  0]\n",
            " [ 1  1  0  0  0  3  8  1  0  1]\n",
            " [ 2  2  1  1  0  2  2 13  1  2]\n",
            " [ 2  1  0  0  0  2  0  1 18  4]\n",
            " [ 1  0  0  1  0  1  0  0  0 21]]\n"
          ]
        }
      ]
    },
    {
      "cell_type": "markdown",
      "source": [
        "## **Week 9-11: Neural Networks**\n",
        "\n",
        "We have used a Multi-Layer Perceptron (MLP) in this project to build a predictive model. MLP is a feedforward neural network comprising input, hidden, and output layers, capable of learning complex, non-linear relationships in the data."
      ],
      "metadata": {
        "id": "7XayDe1ZqIBC"
      }
    },
    {
      "cell_type": "markdown",
      "source": [
        "We employed a MLP to predict match outcomes, leveraging its ability to learn complex, non-linear relationships in the dataset. The model, configured with two hidden layers (100 and 50 neurons) and the ReLU activation function, achieved an accuracy of 83.16% on the test set. Key performance metrics, including a precision of 82%, recall of 77%, and F1-score of 79%, highlight its effectiveness. The confusion matrix further demonstrates the model's reliability across multiple classes, making it a strong candidate for this classification task."
      ],
      "metadata": {
        "id": "a7VX2hR1uXuQ"
      }
    },
    {
      "cell_type": "code",
      "source": [
        "mlp_model = MLPClassifier(hidden_layer_sizes=(50, 50),\n",
        "                           activation='logistic',\n",
        "                           solver='adam',\n",
        "                           learning_rate_init=0.001,\n",
        "                           max_iter=1000,\n",
        "                           alpha=0.01,\n",
        "                           random_state=42)\n",
        "\n",
        "mlp_model.fit(X_train_scaled, y_train)\n",
        "\n",
        "# Predict on training data\n",
        "y_train_pred = mlp_model.predict(X_train_scaled)\n",
        "\n",
        "# Predict on test data\n",
        "y_test_pred = mlp_model.predict(X_test_scaled)\n",
        "\n",
        "# Calculate accuracy for training and test sets\n",
        "train_accuracy = accuracy_score(y_train, y_train_pred)\n",
        "test_accuracy = accuracy_score(y_test, y_test_pred)\n",
        "\n",
        "print('Training Accuracy of the MLP classifier:', train_accuracy)\n",
        "print('Testing Accuracy of the MLP classifier:', test_accuracy)\n",
        "\n",
        "# Calculate additional metrics for test set\n",
        "precision = precision_score(y_test, y_test_pred, average='macro')\n",
        "recall = recall_score(y_test, y_test_pred, average='macro')\n",
        "f1 = f1_score(y_test, y_test_pred, average='macro')\n",
        "\n",
        "conf_matrix = confusion_matrix(y_test, y_test_pred)\n",
        "\n",
        "print(f\"Precision: {precision:.2f}\")\n",
        "print(f\"Recall: {recall:.2f}\")\n",
        "print(f\"F1 Score: {f1:.2f}\")\n",
        "print(\"Confusion Matrix:\")\n",
        "print(conf_matrix)"
      ],
      "metadata": {
        "colab": {
          "base_uri": "https://localhost:8080/"
        },
        "id": "JVpMJ7tChdEN",
        "outputId": "29d760bb-1bc8-4dd7-dc99-0ed55cad6d58"
      },
      "execution_count": 77,
      "outputs": [
        {
          "output_type": "stream",
          "name": "stdout",
          "text": [
            "Training Accuracy of the MLP classifier: 0.9272959183673469\n",
            "Testing Accuracy of the MLP classifier: 0.8673469387755102\n",
            "Precision: 0.79\n",
            "Recall: 0.75\n",
            "F1 Score: 0.74\n",
            "Confusion Matrix:\n",
            "[[19  2  0  0  0  0  0  0  0  0]\n",
            " [ 5 15  0  0  0  0  0  0  0  0]\n",
            " [ 0  4  1  1  0  0  0  0  0  0]\n",
            " [ 0  0  0 23  0  0  1  0  0  0]\n",
            " [ 0  0  0  2  0  3  0  0  0  0]\n",
            " [ 0  0  0  0  0 25  1  1  0  0]\n",
            " [ 0  0  0  0  0  0 15  0  0  0]\n",
            " [ 0  0  0  0  0  2  2 22  0  0]\n",
            " [ 0  0  0  0  0  1  0  1 26  0]\n",
            " [ 0  0  0  0  0  0  0  0  0 24]]\n"
          ]
        },
        {
          "output_type": "stream",
          "name": "stderr",
          "text": [
            "/usr/local/lib/python3.10/dist-packages/sklearn/neural_network/_multilayer_perceptron.py:690: ConvergenceWarning:\n",
            "\n",
            "Stochastic Optimizer: Maximum iterations (1000) reached and the optimization hasn't converged yet.\n",
            "\n",
            "/usr/local/lib/python3.10/dist-packages/sklearn/metrics/_classification.py:1531: UndefinedMetricWarning:\n",
            "\n",
            "Precision is ill-defined and being set to 0.0 in labels with no predicted samples. Use `zero_division` parameter to control this behavior.\n",
            "\n"
          ]
        }
      ]
    },
    {
      "cell_type": "code",
      "source": [
        "mlp_model = MLPClassifier(hidden_layer_sizes=(50, 30,30),\n",
        "                           activation='logistic',\n",
        "                           solver='adam',\n",
        "                           learning_rate_init=0.005,\n",
        "                           max_iter=1000,\n",
        "                           alpha=0.0001,\n",
        "                           random_state=42)\n",
        "\n",
        "mlp_model.fit(X_train_scaled, y_train)\n",
        "\n",
        "# Predict on training data\n",
        "y_train_pred = mlp_model.predict(X_train_scaled)\n",
        "\n",
        "# Predict on test data\n",
        "y_test_pred = mlp_model.predict(X_test_scaled)\n",
        "\n",
        "# Calculate accuracy for training and test sets\n",
        "train_accuracy = accuracy_score(y_train, y_train_pred)\n",
        "test_accuracy = accuracy_score(y_test, y_test_pred)\n",
        "\n",
        "print('Training Accuracy of the MLP classifier:', train_accuracy)\n",
        "print('Testing Accuracy of the MLP classifier:', test_accuracy)\n",
        "\n",
        "# Calculate additional metrics for test set\n",
        "precision = precision_score(y_test, y_test_pred, average='macro')\n",
        "recall = recall_score(y_test, y_test_pred, average='macro')\n",
        "f1 = f1_score(y_test, y_test_pred, average='macro')\n",
        "\n",
        "conf_matrix = confusion_matrix(y_test, y_test_pred)\n",
        "\n",
        "print(f\"Precision: {precision:.2f}\")\n",
        "print(f\"Recall: {recall:.2f}\")\n",
        "print(f\"F1 Score: {f1:.2f}\")\n",
        "print(\"Confusion Matrix:\")\n",
        "print(conf_matrix)\n"
      ],
      "metadata": {
        "colab": {
          "base_uri": "https://localhost:8080/"
        },
        "id": "sqerI7IUYXIW",
        "outputId": "5962b19b-60e7-4ecd-904d-002fd4e3ca2a"
      },
      "execution_count": 76,
      "outputs": [
        {
          "output_type": "stream",
          "name": "stdout",
          "text": [
            "Training Accuracy of the MLP classifier: 0.9948979591836735\n",
            "Testing Accuracy of the MLP classifier: 0.9540816326530612\n",
            "Precision: 0.95\n",
            "Recall: 0.96\n",
            "F1 Score: 0.95\n",
            "Confusion Matrix:\n",
            "[[20  1  0  0  0  0  0  0  0  0]\n",
            " [ 0 19  1  0  0  0  0  0  0  0]\n",
            " [ 0  0  6  0  0  0  0  0  0  0]\n",
            " [ 0  0  0 23  0  0  1  0  0  0]\n",
            " [ 0  0  0  0  5  0  0  0  0  0]\n",
            " [ 0  0  0  0  0 25  0  2  0  0]\n",
            " [ 0  0  0  0  0  0 15  0  0  0]\n",
            " [ 0  0  0  0  0  1  1 24  0  0]\n",
            " [ 0  0  0  1  0  0  1  0 26  0]\n",
            " [ 0  0  0  0  0  0  0  0  0 24]]\n"
          ]
        }
      ]
    },
    {
      "cell_type": "code",
      "source": [
        "# # Define parameter grid for hyperparameter tuning\n",
        "# param_grid = {\n",
        "#     'hidden_layer_sizes': [(50, 50), (100, 50), (50, 30, 30)],\n",
        "#     'activation': ['logistic', 'tanh', 'relu'],\n",
        "#     'learning_rate_init': [0.001, 0.005, 0.01],\n",
        "#     'alpha': [0.0001, 0.001, 0.1],  # Regularization strength\n",
        "#     'max_iter': [1000, 1500]\n",
        "# }\n",
        "\n",
        "# # Initialize the MLP model\n",
        "# mlp = MLPClassifier(solver='adam', random_state=42)\n",
        "\n",
        "# # Set up GridSearchCV\n",
        "# grid_search = GridSearchCV(estimator=mlp, param_grid=param_grid, cv=3, scoring='accuracy', verbose=2, n_jobs=-1)\n",
        "\n",
        "# # Fit the model to the training data\n",
        "# grid_search.fit(X_train_scaled, y_train)\n",
        "\n",
        "# # Display the best parameters and best score\n",
        "# print(\"Best parameters found:\", grid_search.best_params_)\n",
        "# print(\"Best cross-validation accuracy:\", grid_search.best_score_)\n",
        "\n",
        "# # Evaluate the best model on the test set\n",
        "# best_mlp = grid_search.best_estimator_\n",
        "# y_test_pred = best_mlp.predict(X_test_scaled)\n",
        "\n",
        "# # Calculate test accuracy and additional metrics\n",
        "# test_accuracy = accuracy_score(y_test, y_test_pred)\n",
        "# precision = precision_score(y_test, y_test_pred, average='macro')\n",
        "# recall = recall_score(y_test, y_test_pred, average='macro')\n",
        "# f1 = f1_score(y_test, y_test_pred, average='macro')\n",
        "# conf_matrix = confusion_matrix(y_test, y_test_pred)\n",
        "\n",
        "# # Display results\n",
        "# print('Testing Accuracy of the best MLP classifier:', test_accuracy)\n",
        "# print(f\"Precision: {precision:.2f}\")\n",
        "# print(f\"Recall: {recall:.2f}\")\n",
        "# print(f\"F1 Score: {f1:.2f}\")\n",
        "# print(\"Confusion Matrix:\")\n",
        "# print(conf_matrix)"
      ],
      "metadata": {
        "id": "mD7p5jOIGMse"
      },
      "execution_count": 78,
      "outputs": []
    }
  ]
}